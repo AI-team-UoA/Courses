{
 "cells": [
  {
   "cell_type": "code",
   "execution_count": 1,
   "metadata": {
    "pycharm": {
     "name": "#%%\n"
    }
   },
   "outputs": [
    {
     "name": "stdout",
     "output_type": "stream",
     "text": [
      "Working on: cpu\n"
     ]
    }
   ],
   "source": [
    "# Imports\n",
    "import torch\n",
    "import torch.nn as nn\n",
    "import torch.nn.functional as F\n",
    "import torch.optim as optim\n",
    "import os\n",
    "import numpy as np\n",
    "# import torchvision\n",
    "# import torchvision.transforms as transforms\n",
    "import matplotlib.pyplot as plt\n",
    "%matplotlib inline\n",
    "import sklearn.metrics\n",
    "import seaborn as sns\n",
    "import random\n",
    "import sys\n",
    "from IPython.display import Image\n",
    "\n",
    "\n",
    "\n",
    "def set_seed(seed = 1234):\n",
    "    '''Sets the seed of the entire notebook so results are the same every time we run.\n",
    "    This is for REPRODUCIBILITY.'''\n",
    "    np.random.seed(seed)\n",
    "    random.seed(seed)\n",
    "    torch.manual_seed(seed)\n",
    "    torch.cuda.manual_seed(seed)\n",
    "    # When running on the CuDNN backend, two further options must be set\n",
    "    torch.backends.cudnn.deterministic = True\n",
    "    # Set a fixed value for the hash seed\n",
    "    os.environ['PYTHONHASHSEED'] = str(seed)\n",
    "    \n",
    "set_seed()\n",
    "\n",
    "device = 'cpu'\n",
    "print('Working on:', device)"
   ]
  },
  {
   "cell_type": "markdown",
   "metadata": {},
   "source": [
    "# Simple example with Vanilla RNN"
   ]
  },
  {
   "cell_type": "markdown",
   "metadata": {
    "pycharm": {
     "name": "#%% md\n"
    }
   },
   "source": [
    "\n",
    "<img src=\"./images/rnn_function.png\" width=\"1000\">"
   ]
  },
  {
   "cell_type": "markdown",
   "metadata": {
    "pycharm": {
     "name": "#%% md\n"
    }
   },
   "source": [
    "RNNs model **sequential data**, meaning they have **sequential memory**. \n",
    "An RNN takes in different kind of inputs (text, words, letters, parts of an image, sounds, etc.) in the form of vectors.\n",
    "\n",
    "It returns different kinds of outputs, such as the next word/letter in a sequence or paired with an feed-forward NN it can return a class etc.\n",
    "\n",
    "\n",
    "**How RNN works**:\n",
    "\n",
    "- It uses previous information to affect later ones\n",
    "- The loop: passes the input forward sequentialy, while *retaining information* about it\n",
    "- This info is stored in the *hidden state*\n",
    "- There are only 3 matrices  that contain weights as parameters. These *DON'T change* with the input, they stay the same through the entire sequence."
   ]
  },
  {
   "cell_type": "markdown",
   "metadata": {},
   "source": [
    "## Language Model in pure pytorch"
   ]
  },
  {
   "cell_type": "markdown",
   "metadata": {
    "pycharm": {
     "name": "#%% md\n"
    }
   },
   "source": [
    "Neural Nets in general can have different nubmer of inputs/outputs.\n",
    "\n",
    "This is according to the application.\n",
    "\n",
    "<br>\n",
    "<br>\n",
    "<br>\n",
    "\n",
    "\n",
    "<img src=\"./images/input_outputs.jpeg\" width=\"1000\">"
   ]
  },
  {
   "cell_type": "markdown",
   "metadata": {},
   "source": [
    "We want to build a simple language model that can learn to predict the next letter in a sequence of letters."
   ]
  },
  {
   "cell_type": "markdown",
   "metadata": {
    "pycharm": {
     "name": "#%% md\n"
    }
   },
   "source": [
    "<img src=\"./images/rnn_showcase.png\" width=\"1000\">"
   ]
  },
  {
   "cell_type": "code",
   "execution_count": 10,
   "metadata": {},
   "outputs": [],
   "source": [
    "class VanillaRNN(nn.Module):\n",
    "    def __init__(self, num_features, num_hidden, num_classes):\n",
    "        # Syntactic sugar\n",
    "        super().__init__()\n",
    "        \n",
    "        # Needed to formulate the layer shapes\n",
    "        # The size of the embeddings or the # of features\n",
    "        self.num_features = num_features\n",
    "        # The hidden layer mapping size\n",
    "        self.num_hidden = num_hidden\n",
    "        # The size of the output classes\n",
    "        self.num_classes = num_classes\n",
    "        \n",
    "        # Network Parameters (default requires_grad=True)\n",
    "        # Input\n",
    "        self.Wxh = nn.Parameter(torch.randn((num_features, num_hidden)))\n",
    "        self.Whh = nn.Parameter(torch.randn((num_hidden, num_hidden)))\n",
    "        self.bh = nn.Parameter(torch.zeros((num_hidden)))\n",
    "        \n",
    "        # Hidden -> Output\n",
    "        self.Why = nn.Parameter(torch.randn((num_hidden, self.num_classes)))\n",
    "        self.by = nn.Parameter(torch.zeros((self.num_classes))) \n",
    "        \n",
    "        # Activation\n",
    "        self.tanh = nn.Tanh()\n",
    "    \n",
    "    def init(self):\n",
    "        # Initialize hidden state to zero\n",
    "        self.h = torch.zeros((self.num_hidden))\n",
    "        \n",
    "    def forward(self, x):\n",
    "        self.h = self.tanh((x @ self.Wxh) + (self.h @ self.Whh) + self.bh)\n",
    "        y_output = self.h @ self.Why + self.by\n",
    "        return y_output"
   ]
  },
  {
   "cell_type": "markdown",
   "metadata": {},
   "source": [
    "## Questions on pytorch?\n",
    " - Why super() ...?\n",
    " - Why Parameter and no Tensor?\n",
    " - Which activation function for hidden layers? [Check out this for details](https://cs231n.github.io/neural-networks-1/).\n",
    "     - In sort: RelU (or LeakyRelU) >> tanh >> sigmoid\n",
    "     \n",
    " - @? [PEP-0465](https://legacy.python.org/dev/peps/pep-0465/)"
   ]
  },
  {
   "cell_type": "code",
   "execution_count": 4,
   "metadata": {},
   "outputs": [
    {
     "name": "stdout",
     "output_type": "stream",
     "text": [
      "Wxh torch.Size([4, 3])\n",
      "Whh torch.Size([3, 3])\n",
      "bh torch.Size([3])\n",
      "Why torch.Size([3, 4])\n",
      "by torch.Size([4])\n"
     ]
    }
   ],
   "source": [
    "num_features, num_hidden, num_classes = 4, 3, 4\n",
    "model = VanillaRNN(num_features, num_hidden, num_classes)\n",
    "\n",
    "# Printing out the module parameters\n",
    "for name, param in model.named_parameters():\n",
    "    if param.requires_grad:\n",
    "        print(name, param.shape)"
   ]
  },
  {
   "cell_type": "markdown",
   "metadata": {},
   "source": [
    "## Simple Mapper to encode a sequence of chars to vectors"
   ]
  },
  {
   "cell_type": "code",
   "execution_count": 5,
   "metadata": {},
   "outputs": [
    {
     "name": "stdout",
     "output_type": "stream",
     "text": [
      "Vocabulary:  .,;!-':abcdefghijklmnopqrstuvwxyzABCDEFGHIJKLMNOPQRSTUVWXYZ Size: 60\n"
     ]
    }
   ],
   "source": [
    "import unicodedata\n",
    "import string\n",
    "\n",
    "# Flag to limit the vocabulary to lowercase letters only\n",
    "lowercase_only = False\n",
    "if lowercase_only:\n",
    "    # the lowercase letters (a-z) + some special chars will be in our vocab\n",
    "    characters = \" .,;!-':\" + string.ascii_lowercase\n",
    "else:\n",
    "    # All letters (a-Z) + some special chars will be in our vocab\n",
    "    characters = \" .,;!-':\" + string.ascii_letters\n",
    "    \n",
    "print(f'Vocabulary: {characters} Size: {len(characters)}')\n",
    "\n",
    "class SequenceHandler:\n",
    "    \"\"\"\n",
    "    Utility class to vectorize a sequence of characters. We will create one instance of this class for every string we want to feed to our model.\n",
    "    \"\"\"\n",
    "    def __init__(self, original_string, max_number_char=-1, lowercase_only=False):\n",
    "        \"\"\"\n",
    "        - original_string: str,\n",
    "        the input string to vectorize\n",
    "        - max_number_char: int,\n",
    "        whether we want to pad or trim the input sequence. \n",
    "        If max_number_char > 0 the input sequence will be trimmed to max_number_char or will be padded with whitespace\n",
    "        - lowercase_only: bool,\n",
    "        If True, lowercase the input string first to avoid dropping OOV chars.\n",
    "        \"\"\"\n",
    "        \n",
    "        # If lowercase vocab, lowercase the input string as well to avoid dropping the\n",
    "        # OOV capital letters\n",
    "        if lowercase_only:\n",
    "            input_string = original_string.lower()\n",
    "        else:\n",
    "            input_string = original_string\n",
    "        # Keep only letters in the vocab\n",
    "        input_string= \"\".join([s for s in input_string if s in characters])\n",
    "        # Trim or pad the sequence\n",
    "        if max_number_char > 0 :\n",
    "            if len(input_string) < max_number_char:\n",
    "                input_string = input_string + \" \" * (max_number_char - len(input_string))\n",
    "            else:\n",
    "                input_string = input_string[:max_number_char]\n",
    "            \n",
    "        print(f'Processed string: {original_string} --> {input_string}')\n",
    "        # Save the input string\n",
    "        self.string = input_string\n",
    "        self.num_characters = len(characters)\n",
    "        \n",
    "        # Mapper to char and back\n",
    "        self.char_to_idx = { ch : i for i, ch in enumerate(characters) }\n",
    "        self.idx_to_char = { i : ch for ch, i in self.char_to_idx.items() }\n",
    "        \n",
    "        self.ohe = self.init_ohe()\n",
    "        self._process()\n",
    "        self._process_for_cl()\n",
    "        \n",
    "\n",
    "    def init_ohe(self):\n",
    "        \"\"\"\n",
    "        This will create a matrix with one hot encoded vectors for each char in the vocab.\n",
    "        Returns:\n",
    "            one_hot (np.ndarray): a collapsed one-hot encoding of all the chars in the vocab.\n",
    "        \"\"\"\n",
    "        one_hot = np.zeros((self.num_characters,self.num_characters), dtype=np.int8)\n",
    "        np.fill_diagonal(one_hot, 1)\n",
    "        return one_hot\n",
    "    \n",
    "    def _process(self):\n",
    "        \"\"\"\n",
    "        This will create the X and y variables of the instance. \n",
    "        In X we will store the vector representation of the sequence in a (N_seq - 1) x embedding_size tensor.\n",
    "        In y we will store the corresponding correct char index value for the next character in the sequence. This will be a tensor of size N_seq, containing integers.\n",
    "        \"\"\"\n",
    "        data_torch = torch.tensor([self.ohe[self.char_to_idx[char]] for char in self.string])\n",
    "        self.X = data_torch[:-1].float()\n",
    "        self.y = torch.argmax(data_torch[1:], dim=1).long()\n",
    "      \n",
    "    # For other purposes\n",
    "    def _process_for_cl(self):\n",
    "        \"\"\"\n",
    "        This will create the X_cl variable of the instance. \n",
    "        In X_cl we will store the vector representation of the sequence in a (N_seq) x embedding_size tensor.\n",
    "        \"\"\"\n",
    "        data_torch = torch.tensor([self.ohe[self.char_to_idx[char]] for char in self.string])\n",
    "        self.X_cl = data_torch[:].float()\n",
    "    \n",
    "    def __repr__(self):\n",
    "        return self.string\n",
    "        \n",
    "    def make_onehot(self, char):\n",
    "        return torch.Tensor(self.ohe[self.char_to_idx[char]]).float()\n",
    "    \n",
    "    def __repr__(self):\n",
    "        return self.string"
   ]
  },
  {
   "cell_type": "code",
   "execution_count": 6,
   "metadata": {},
   "outputs": [
    {
     "name": "stdout",
     "output_type": "stream",
     "text": [
      "Processed string: hello --> hello\n",
      "hello (length: 5)\n",
      "X vectors: torch.Size([4, 60]), Y: torch.Size([4])\n",
      "Input: (in chars)\n",
      "['h', 'e', 'l', 'l']\n",
      "Corresponding target output: (in chars)\n",
      "['e', 'l', 'l', 'o']\n"
     ]
    }
   ],
   "source": [
    "data = SequenceHandler('hello')\n",
    "print(f'{data} (length: {len(data.string)})')\n",
    "print(f'X vectors: {data.X.shape}, Y: {data.y.shape}')\n",
    "print(f'Input: (in chars)')\n",
    "print([data.idx_to_char[x_i.item()] for x_i in data.X.argmax(dim=1)])\n",
    "print(f'Corresponding target output: (in chars)')\n",
    "print([data.idx_to_char[y_i.item()] for y_i in data.y])"
   ]
  },
  {
   "cell_type": "code",
   "execution_count": 12,
   "metadata": {},
   "outputs": [],
   "source": [
    "class RNN(nn.Module):\n",
    "    \"\"\"\n",
    "    Wrapper class that will hold the interface for VanillaRNN, LSTMs and GRUs\n",
    "    \"\"\"\n",
    "    cells = {\n",
    "        \"vanilla\" : VanillaRNN\n",
    "        #\"LSTM\"    : LSTMCell, # for future implementations\n",
    "        # \"GRU\"     : GRUCell, # for future implementations\n",
    "    }\n",
    "    \n",
    "    def __init__(self, num_features, num_hidden=10, num_classes=None, cell_type='LSTM'):\n",
    "        super().__init__()\n",
    "        # We default to LM\n",
    "        if num_classes == None:\n",
    "            num_classes = num_features\n",
    "        self.cell_type = cell_type\n",
    "        # print(f\"Creating RNN with cell: {cell_type}\")\n",
    "        self.cell = RNN.cells[cell_type](num_features, num_hidden, num_classes)\n",
    "        \n",
    "        self._init_weights()\n",
    "    \n",
    "    def _init_weights(self):\n",
    "        for param in self.cell.parameters():\n",
    "            # Keep track of gradient for backprop\n",
    "            param.requires_grad_(True)\n",
    "            # If we deal with weights xavier initialization\n",
    "            if param.data.ndimension() >= 2:\n",
    "                nn.init.xavier_uniform_(param.data)\n",
    "            # Else is a bias term so all zeros\n",
    "            else: \n",
    "                nn.init.zeros_(param.data)\n",
    "                \n",
    "    def forward(self, X):\n",
    "        # Setup outputs container (the output at each step)\n",
    "        outputs = torch.zeros_like(X)\n",
    "        \n",
    "        # Iterate through sequence\n",
    "        self.cell.init()\n",
    "        for i, x in enumerate(X):\n",
    "            outputs[i] = self.cell(x)\n",
    "            \n",
    "        return outputs\n",
    "    \n",
    "    def generate(self, data, init_char, num_steps=5, output_type='char'):\n",
    "        \"\"\"\n",
    "        Generate text of length num_steps given an initial character.\n",
    "        \"\"\"\n",
    "        # Check for valid character\n",
    "        if init_char not in data.char_to_idx:\n",
    "            avail_chars = \",\".join(data.char_to_idx.keys())\n",
    "            print(f\"Character not in vocab. Pick another from: {avail_chars}\")\n",
    "            return\n",
    "        \n",
    "        # Use both see for example: https://discuss.pytorch.org/t/model-eval-vs-with-torch-no-grad/19615/3\n",
    "        with torch.no_grad():\n",
    "            self.eval()\n",
    "\n",
    "            # Setup feed that will be used to create the next char\n",
    "            feed = torch.zeros((num_steps, data.num_characters))\n",
    "            # First time feed buffer contains only the first string\n",
    "            feed[0] = data.make_onehot(init_char).unsqueeze(dim=0)\n",
    "            # The output starts obv. with the first given char\n",
    "            output = [init_char]\n",
    "            # For the rest of wanted chars\n",
    "            for predict_i in range(num_steps-1):\n",
    "                # Update the feed buffer up to the current char\n",
    "                feed_in = feed[:predict_i+1]\n",
    "                # Predict the next char in the sequence\n",
    "                next_chars = self(feed_in)[-1]\n",
    "                # Get the next char id\n",
    "                next_char_idx = torch.argmax(next_chars).item()\n",
    "                # Get the next char\n",
    "                next_char = data.idx_to_char[next_char_idx]\n",
    "                # One hot encode the char and update the feed buffer\n",
    "                feed[predict_i+1] = data.make_onehot(next_char).unsqueeze(dim=0)\n",
    "                # Update the final output\n",
    "                output.append(next_char)\n",
    "            # Concatenate the chars predicted\n",
    "            if output_type == 'char':\n",
    "                output_str = \"\".join(output)\n",
    "            elif output_type == 'word':\n",
    "                output_str = \" \".join(output)\n",
    "            else:\n",
    "                raise NotImplementedError\n",
    "            return output_str"
   ]
  },
  {
   "cell_type": "markdown",
   "metadata": {},
   "source": [
    "#### Setup"
   ]
  },
  {
   "cell_type": "code",
   "execution_count": 13,
   "metadata": {},
   "outputs": [
    {
     "name": "stdout",
     "output_type": "stream",
     "text": [
      "cell.Wxh torch.Size([60, 50])\n",
      "cell.Whh torch.Size([50, 50])\n",
      "cell.bh torch.Size([50])\n",
      "cell.Why torch.Size([50, 60])\n",
      "cell.by torch.Size([60])\n"
     ]
    }
   ],
   "source": [
    "CELL_TYPE = 'vanilla' # vanilla\n",
    "num_hidden = 50\n",
    "net = RNN(num_features=60, num_hidden=num_hidden, cell_type=CELL_TYPE)\n",
    "\n",
    "for name, param in net.named_parameters():\n",
    "    if param.requires_grad:\n",
    "        print(name, param.shape)\n",
    "\n",
    "LR = 0.001\n",
    "optimizer = optim.Adam(net.parameters(), lr=LR)\n",
    "criterion = nn.CrossEntropyLoss()\n",
    "\n",
    "\n",
    "N_EPOCHS = 100\n",
    "print_every_ = 1\n",
    "end_early = False\n",
    "seq_i = \"\"        \n",
    "losses = []\n",
    "\n"
   ]
  },
  {
   "cell_type": "code",
   "execution_count": 14,
   "metadata": {},
   "outputs": [
    {
     "name": "stdout",
     "output_type": "stream",
     "text": [
      "Epoch 1/100 -- Loss: 4.1822 -- Network out: ht-U-\n",
      "Epoch 2/100 -- Loss: 4.1369 -- Network out: ht-U-\n",
      "Epoch 3/100 -- Loss: 4.0920 -- Network out: ht-U-\n",
      "Epoch 4/100 -- Loss: 4.0475 -- Network out: ht-U-\n",
      "Epoch 5/100 -- Loss: 4.0033 -- Network out: ht-U-\n",
      "Epoch 6/100 -- Loss: 3.9594 -- Network out: ht-U-\n",
      "Epoch 7/100 -- Loss: 3.9157 -- Network out: ht-U-\n",
      "Epoch 8/100 -- Loss: 3.8720 -- Network out: ht-U-\n",
      "Epoch 9/100 -- Loss: 3.8282 -- Network out: ht-U-\n",
      "Epoch 10/100 -- Loss: 3.7843 -- Network out: ht-U-\n",
      "Epoch 11/100 -- Loss: 3.7401 -- Network out: hehl-\n",
      "Epoch 12/100 -- Loss: 3.6956 -- Network out: hehl-\n",
      "Epoch 13/100 -- Loss: 3.6506 -- Network out: hehlo\n",
      "Epoch 14/100 -- Loss: 3.6049 -- Network out: hehlo\n",
      "Epoch 15/100 -- Loss: 3.5586 -- Network out: hehlo\n",
      "Epoch 16/100 -- Loss: 3.5116 -- Network out: hehlo\n",
      "Epoch 17/100 -- Loss: 3.4636 -- Network out: hehlo\n",
      "Epoch 18/100 -- Loss: 3.4148 -- Network out: heXMo\n",
      "Epoch 19/100 -- Loss: 3.3649 -- Network out: heXMo\n",
      "Epoch 20/100 -- Loss: 3.3140 -- Network out: hello\n",
      "\n",
      "Ending early. Converged in 19 epochs.\n"
     ]
    },
    {
     "data": {
      "image/png": "[encoded data removed]",
      "text/plain": [
       "<Figure size 864x864 with 1 Axes>"
      ]
     },
     "metadata": {
      "needs_background": "light"
     },
     "output_type": "display_data"
    }
   ],
   "source": [
    " # Ensure net in training mode\n",
    "net.train()\n",
    "\n",
    "for epoch_i in range(N_EPOCHS):\n",
    "    # Zero out gradients\n",
    "    optimizer.zero_grad()\n",
    "    \n",
    "    # Get net output, calculate loss, and generate gradients\n",
    "    output = net(data.X)\n",
    "    loss = criterion(output, data.y)\n",
    "    # Generate gradients via autograd\n",
    "    loss.backward() \n",
    "    \n",
    "    # Step\n",
    "    # -----------------------------------\n",
    "    # Clip params\n",
    "    for param in net.parameters():\n",
    "        if param.grad is None:\n",
    "            continue\n",
    "        grad_val = torch.clamp(param.grad, -5, 5)\n",
    "    optimizer.step()\n",
    "    # -----------------------------------\n",
    "    \n",
    "    # Track loss\n",
    "    # CE loss\n",
    "    losses.append(loss.item())\n",
    "    \n",
    "    # Qualitative Eval\n",
    "    if epoch_i % print_every_ == 0:\n",
    "        seq_i = net.generate(data, data.string[0], num_steps=len(data.string))\n",
    "        \n",
    "        if seq_i == data.string:\n",
    "            end_early = True\n",
    "            \n",
    "        # Stdout\n",
    "        # --------------------------------\n",
    "        str_ = f'\\rEpoch {epoch_i+1}/{N_EPOCHS} -- Loss: {losses[-1]:0.4f} -- Network out: {seq_i}'\n",
    "        print(str_)\n",
    "        # --------------------------------\n",
    "    \n",
    "    if end_early:\n",
    "        print(f\"\\nEnding early. Converged in {epoch_i} epochs.\")\n",
    "        break\n",
    "        \n",
    "\n",
    "plt.figure(figsize=(12,12))\n",
    "plt.plot(losses)\n",
    "plt.xlabel('# of epochs', fontsize=12)\n",
    "plt.ylabel('CE - Loss', fontsize=12)\n",
    "plt.show()"
   ]
  },
  {
   "cell_type": "markdown",
   "metadata": {},
   "source": [
    "### Questions:\n",
    "- Do we really need all these epochs? Try tweaking hidden and LR? What's the expected outcome.\n",
    "- What's the final output? How do we get predictions. Can we calculate accuracy?\n",
    "- Qualitative early stopping. In the future what?\n",
    "- Better use a function to wrap-around..."
   ]
  },
  {
   "cell_type": "code",
   "execution_count": 34,
   "metadata": {},
   "outputs": [
    {
     "name": "stdout",
     "output_type": "stream",
     "text": [
      "Accuracy: 75.00 %\n"
     ]
    }
   ],
   "source": [
    "def get_accuracy(y_true, y_pred):\n",
    "    \"\"\"\n",
    "    Simple utility function to get the accuracy given the tensors with the true values (y_true) and\n",
    "    a tensor with logits or probas.\n",
    "    Input:\n",
    "    - y_true: torch.Tensor,\n",
    "    shape N, containing the class index for N samples\n",
    "    - y_pred: torch.Tensor,\n",
    "    shape N x num_classes, containing logit / probas values on each cell for the corresponding class per sample\n",
    "    Output: accuracy, float range 0-1\n",
    "    \"\"\"\n",
    "    return (y_pred.argmax(dim=1) == y_true).sum().item() / float(len(y_true))\n",
    "print(f'Accuracy: {100 * get_accuracy(data.y, output):.2f} %')"
   ]
  },
  {
   "cell_type": "code",
   "execution_count": 35,
   "metadata": {},
   "outputs": [
    {
     "name": "stdout",
     "output_type": "stream",
     "text": [
      "Class: (12) e : 2.55 %\n",
      "Class: (27) t : 2.23 %\n",
      "Class: (47) N : 2.17 %\n",
      "Class: (42) I : 2.13 %\n",
      "Class: (19) l : 2.11 %\n",
      "Class: (22) o : 2.09 %\n",
      "Class: (0)   : 2.07 %\n",
      "Class: (37) D : 2.00 %\n",
      "Class: (10) c : 1.96 %\n",
      "Class: (59) Z : 1.94 %\n",
      "Class: (3) ; : 1.93 %\n",
      "Class: (13) f : 1.90 %\n",
      "Class: (25) r : 1.89 %\n",
      "Class: (9) b : 1.87 %\n",
      "Class: (31) x : 1.87 %\n",
      "Class: (50) Q : 1.84 %\n",
      "Class: (49) P : 1.84 %\n",
      "Class: (23) p : 1.82 %\n",
      "Class: (40) G : 1.80 %\n",
      "Class: (38) E : 1.79 %\n",
      "Class: (52) S : 1.78 %\n",
      "Class: (32) y : 1.72 %\n",
      "Class: (29) v : 1.69 %\n",
      "Class: (2) , : 1.67 %\n",
      "Class: (34) A : 1.67 %\n",
      "Class: (5) - : 1.67 %\n",
      "Class: (45) L : 1.66 %\n",
      "Class: (48) O : 1.66 %\n",
      "Class: (43) J : 1.63 %\n",
      "Class: (1) . : 1.61 %\n",
      "Class: (46) M : 1.60 %\n",
      "Class: (41) H : 1.60 %\n",
      "Class: (17) j : 1.57 %\n",
      "Class: (16) i : 1.57 %\n",
      "Class: (15) h : 1.56 %\n",
      "Class: (30) w : 1.55 %\n",
      "Class: (21) n : 1.55 %\n",
      "Class: (18) k : 1.53 %\n",
      "Class: (4) ! : 1.52 %\n",
      "Class: (26) s : 1.52 %\n",
      "Class: (56) W : 1.50 %\n",
      "Class: (36) C : 1.49 %\n",
      "Class: (28) u : 1.49 %\n",
      "Class: (24) q : 1.49 %\n",
      "Class: (39) F : 1.48 %\n",
      "Class: (58) Y : 1.47 %\n",
      "Class: (7) : : 1.47 %\n",
      "Class: (55) V : 1.46 %\n",
      "Class: (57) X : 1.42 %\n",
      "Class: (8) a : 1.40 %\n",
      "Class: (54) U : 1.40 %\n",
      "Class: (53) T : 1.40 %\n",
      "Class: (44) K : 1.38 %\n",
      "Class: (33) z : 1.36 %\n",
      "Class: (51) R : 1.32 %\n",
      "Class: (6) ' : 1.32 %\n",
      "Class: (11) d : 1.31 %\n",
      "Class: (14) g : 1.28 %\n",
      "Class: (35) B : 1.24 %\n",
      "Class: (20) m : 1.18 %\n"
     ]
    }
   ],
   "source": [
    "# To get probas from logits we can use the F.softmax function\n",
    "\n",
    "# Get sorted probas per class for first input. First input was 'h' and we expect the most probable value to be 'e'\n",
    "sorted_values, sorted_class_indexes = F.softmax(output[0,:], dim=0).sort(descending=True)\n",
    "\n",
    "for i, class_index in enumerate(sorted_class_indexes.data.numpy()):\n",
    "    print(f'Class: ({class_index}) {data.idx_to_char[class_index]} : {100*sorted_values[i]:.2f} %')"
   ]
  },
  {
   "cell_type": "markdown",
   "metadata": {},
   "source": [
    "#### Generate text"
   ]
  },
  {
   "cell_type": "code",
   "execution_count": 36,
   "metadata": {},
   "outputs": [
    {
     "name": "stdout",
     "output_type": "stream",
     "text": [
      "Starting with letter: h\n"
     ]
    },
    {
     "data": {
      "text/plain": [
       "'hello'"
      ]
     },
     "execution_count": 36,
     "metadata": {},
     "output_type": "execute_result"
    }
   ],
   "source": [
    "init_char = data.string[0]\n",
    "print(f'Starting with letter: {init_char}')\n",
    "net.generate(data, init_char, num_steps=len(data.string[0:]))"
   ]
  },
  {
   "cell_type": "markdown",
   "metadata": {},
   "source": [
    "### LSTM"
   ]
  },
  {
   "cell_type": "markdown",
   "metadata": {},
   "source": [
    "<img src=\"./images/lstm_equations.png\" width=\"1000\">\n",
    "<br/>\n",
    "<img src=\"./images/lstm.png\" width=\"1000\">"
   ]
  },
  {
   "cell_type": "code",
   "execution_count": 37,
   "metadata": {},
   "outputs": [],
   "source": [
    "class LSTMCell(nn.Module):\n",
    "    def __init__(self, num_features, num_hidden, num_classes):\n",
    "        super().__init__()\n",
    "        \n",
    "        self.num_features = num_features\n",
    "        self.num_hidden = num_hidden\n",
    "        self.num_classes = num_classes\n",
    "        \n",
    "        # Network Parameters\n",
    "        # New cell content\n",
    "        self.Wxh = nn.Parameter(torch.randn((num_features, num_hidden)))\n",
    "        self.Whh = nn.Parameter(torch.randn((num_hidden, num_hidden)))\n",
    "        self.bh = nn.Parameter(torch.zeros((num_hidden)))\n",
    "        \n",
    "        # Input gate parameters\n",
    "        self.Wxh_i = nn.Parameter(torch.randn_like(self.Wxh))\n",
    "        self.Whh_i = nn.Parameter(torch.randn_like(self.Whh))\n",
    "        self.bh_i = nn.Parameter(torch.randn_like(self.bh))\n",
    "        \n",
    "        # Forget gate parameters\n",
    "        self.Wxh_f = nn.Parameter(torch.randn_like(self.Wxh))\n",
    "        self.Whh_f = nn.Parameter(torch.randn_like(self.Whh))\n",
    "        self.bh_f = nn.Parameter(torch.randn_like(self.bh))\n",
    "        \n",
    "        # Output gate parameters\n",
    "        self.Wxh_o = nn.Parameter(torch.randn_like(self.Wxh))\n",
    "        self.Whh_o = nn.Parameter(torch.randn_like(self.Whh))\n",
    "        self.bh_o = nn.Parameter(torch.randn_like(self.bh))\n",
    "        \n",
    "        # Hidden -> Output\n",
    "        self.Why = nn.Parameter(torch.randn((num_hidden, self.num_classes)))\n",
    "        self.by = nn.Parameter(torch.zeros((self.num_classes))) \n",
    "        \n",
    "        # Activations\n",
    "        self.tanh = nn.Tanh()\n",
    "        self.sigmoid = nn.Sigmoid()\n",
    "    \n",
    "    def init(self):\n",
    "        self.h = torch.zeros((self.num_hidden))  # Hidden state\n",
    "        self.c = torch.zeros((self.num_hidden))  # Cell state\n",
    "        \n",
    "    def forward(self, x):\n",
    "        potential_input = self.tanh((x @ self.Wxh) + (self.h @ self.Whh + self.bh))\n",
    "        \n",
    "        # Gate updates\n",
    "        input_gate = self.sigmoid((x @ self.Wxh_i) + (self.h @ self.Whh_i + self.bh_i))\n",
    "        forget_gate = self.sigmoid((x @ self.Wxh_f) + (self.h @ self.Whh_f + self.bh_f))\n",
    "        output_gate = self.sigmoid((x @ self.Wxh_o) + (self.h @ self.Whh_o + self.bh_o))\n",
    "        \n",
    "        # Update c and h\n",
    "        self.c = self.c * forget_gate + potential_input * input_gate\n",
    "        self.h = output_gate * self.tanh(self.c)\n",
    "        \n",
    "        y_output = self.h @ self.Why + self.by\n",
    "        \n",
    "        return y_output"
   ]
  },
  {
   "cell_type": "markdown",
   "metadata": {},
   "source": [
    "### Update setup"
   ]
  },
  {
   "cell_type": "code",
   "execution_count": 38,
   "metadata": {},
   "outputs": [
    {
     "name": "stdout",
     "output_type": "stream",
     "text": [
      "Epoch 1/500 -- Loss: 4.1151 -- Network out: hDwJc\n",
      "Epoch 11/500 -- Loss: 4.0250 -- Network out: hNbgm\n",
      "Epoch 21/500 -- Loss: 3.9296 -- Network out: hloel\n",
      "Epoch 31/500 -- Loss: 3.8114 -- Network out: hloel\n",
      "Epoch 41/500 -- Loss: 3.6418 -- Network out: hello\n",
      "\n",
      "Ending early. Converged in 40 epochs.\n"
     ]
    },
    {
     "data": {
      "image/png": "[encoded data removed]",
      "text/plain": [
       "<Figure size 432x288 with 1 Axes>"
      ]
     },
     "metadata": {
      "needs_background": "light"
     },
     "output_type": "display_data"
    }
   ],
   "source": [
    "RNN.cells['LSTM'] = LSTMCell\n",
    "CELL_TYPE = 'LSTM' # vanilla\n",
    "num_hidden = 50\n",
    "net = RNN(num_features=data.num_characters, num_hidden=num_hidden, cell_type=CELL_TYPE)\n",
    "\n",
    "LR = 0.001\n",
    "\n",
    "optimizer = optim.Adam(net.parameters(), lr=LR)\n",
    "criterion = nn.CrossEntropyLoss()\n",
    "losses = []\n",
    "\n",
    "N_EPOCHS = 500\n",
    "print_every_ = 10\n",
    "end_early = False\n",
    "seq_i = \"\"\n",
    "\n",
    "\n",
    " # Ensure net in training mode\n",
    "net.train()\n",
    "for epoch_i in range(N_EPOCHS):\n",
    "    # Zero out gradients\n",
    "    optimizer.zero_grad()\n",
    "    \n",
    "    # Get net output, calculate loss, and generate gradients\n",
    "    output = net(data.X)\n",
    "    loss = criterion(output, data.y)\n",
    "    # Generate gradients via autodiff\n",
    "    loss.backward() \n",
    "    \n",
    "    # Step\n",
    "    # -----------------------------------\n",
    "    # Clip params\n",
    "    for param in net.parameters():\n",
    "        if param.grad is None:\n",
    "            continue\n",
    "        grad_val = torch.clamp(param.grad, -5, 5)\n",
    "    optimizer.step()\n",
    "    # -----------------------------------\n",
    "    \n",
    "    # Track loss\n",
    "    # CE loss\n",
    "    losses.append(loss.item())\n",
    "    \n",
    "    # Qualitative Eval\n",
    "    if epoch_i % print_every_ == 0:\n",
    "        seq_i = net.generate(data, data.string[0], num_steps=len(data.string))\n",
    "        \n",
    "        if seq_i == data.string:\n",
    "            end_early = True\n",
    "            \n",
    "        # Stdout\n",
    "        # --------------------------------\n",
    "        str_ = f'\\rEpoch {epoch_i+1}/{N_EPOCHS} -- Loss: {losses[-1]:0.4f} -- Network out: {seq_i}'\n",
    "        print(str_)\n",
    "        # --------------------------------\n",
    "    \n",
    "    if end_early:\n",
    "        print(f\"\\nEnding early. Converged in {epoch_i} epochs.\")\n",
    "        break\n",
    "    \n",
    "plt.plot(losses)\n",
    "plt.xlabel('# of epochs', fontsize=12)\n",
    "plt.ylabel('CE - Loss', fontsize=12)\n",
    "plt.show()"
   ]
  },
  {
   "cell_type": "markdown",
   "metadata": {},
   "source": [
    "<img src=\"./images/gru.png\" width=\"1000\">"
   ]
  },
  {
   "cell_type": "code",
   "execution_count": 39,
   "metadata": {},
   "outputs": [],
   "source": [
    "class GRUCell(nn.Module):\n",
    "    def __init__(self, num_features, num_hidden, num_classes):\n",
    "        super().__init__()\n",
    "        \n",
    "        self.num_features = num_features\n",
    "        self.num_hidden = num_hidden\n",
    "        self.num_classes = num_classes\n",
    "        \n",
    "        # Network Parameters\n",
    "        # Potential Input\n",
    "        self.Wxh = nn.Parameter(torch.randn((num_features, num_hidden)))\n",
    "        self.Whh = nn.Parameter(torch.randn((num_hidden, num_hidden)))\n",
    "        self.bh = nn.Parameter(torch.zeros((num_hidden)))\n",
    "        \n",
    "        # Update gate parameters\n",
    "        self.Wxh_u = nn.Parameter(torch.randn_like(self.Wxh))\n",
    "        self.Whh_u = nn.Parameter(torch.randn_like(self.Whh))\n",
    "        self.bh_u = nn.Parameter(torch.randn_like(self.bh))\n",
    "        \n",
    "        # Reset gate parameters\n",
    "        self.Wxh_r = nn.Parameter(torch.randn_like(self.Wxh))\n",
    "        self.Whh_r = nn.Parameter(torch.randn_like(self.Whh))\n",
    "        self.bh_r = nn.Parameter(torch.randn_like(self.bh))\n",
    "        \n",
    "        # Hidden -> Output\n",
    "        self.Why = nn.Parameter(torch.randn((num_hidden, self.num_classes)))\n",
    "        self.by = nn.Parameter(torch.zeros((self.num_classes))) \n",
    "        \n",
    "        # Activations\n",
    "        self.tanh = nn.Tanh()\n",
    "        self.sigmoid = nn.Sigmoid()\n",
    "    \n",
    "    def init(self):\n",
    "        self.h = torch.zeros((self.num_hidden))  # Hidden state\n",
    "        \n",
    "    def forward(self, x):\n",
    "        \n",
    "        # Gate updates\n",
    "        update_gate = self.sigmoid((x @ self.Wxh_u) + (self.h @ self.Whh_u + self.bh_u))\n",
    "        reset_gate = self.sigmoid((x @ self.Wxh_r) + (self.h @ self.Whh_r + self.bh_r))\n",
    "        \n",
    "        potential_input = self.tanh((x @ self.Wxh) + (reset_gate @ self.Whh + self.bh))\n",
    "        \n",
    "        self.h = self.h * (1-update_gate) + (potential_input * update_gate)\n",
    "        y_output = self.h @ self.Why + self.by\n",
    "        \n",
    "        return y_output"
   ]
  },
  {
   "cell_type": "markdown",
   "metadata": {},
   "source": [
    "### Add GRU"
   ]
  },
  {
   "cell_type": "code",
   "execution_count": 40,
   "metadata": {},
   "outputs": [
    {
     "name": "stdout",
     "output_type": "stream",
     "text": [
      "Epoch 1/500 -- Loss: 4.2630 -- Network out: hMGMG\n",
      "Epoch 11/500 -- Loss: 3.3905 -- Network out: hllll\n",
      "Epoch 21/500 -- Loss: 2.6097 -- Network out: hllll\n",
      "Epoch 31/500 -- Loss: 1.9793 -- Network out: hllll\n",
      "Epoch 41/500 -- Loss: 1.5481 -- Network out: hllll\n",
      "Epoch 51/500 -- Loss: 1.2567 -- Network out: hllll\n",
      "Epoch 61/500 -- Loss: 1.0792 -- Network out: hllll\n",
      "Epoch 71/500 -- Loss: 0.9534 -- Network out: hllll\n",
      "Epoch 81/500 -- Loss: 0.8562 -- Network out: hllll\n",
      "Epoch 91/500 -- Loss: 0.7737 -- Network out: helll\n",
      "Epoch 101/500 -- Loss: 0.7003 -- Network out: hello\n",
      "\n",
      "Ending early. Converged in 100 epochs.\n"
     ]
    },
    {
     "data": {
      "image/png": "[encoded data removed]",
      "text/plain": [
       "<Figure size 432x288 with 1 Axes>"
      ]
     },
     "metadata": {
      "needs_background": "light"
     },
     "output_type": "display_data"
    }
   ],
   "source": [
    "RNN.cells['GRU'] = GRUCell\n",
    "CELL_TYPE = 'GRU'\n",
    "num_hidden = 50\n",
    "net = RNN(num_features=data.num_characters, num_hidden=num_hidden, cell_type=CELL_TYPE)\n",
    "\n",
    "LR = 0.001\n",
    "\n",
    "optimizer = optim.Adam(net.parameters(), lr=LR)\n",
    "criterion = nn.CrossEntropyLoss()\n",
    "losses = []\n",
    "\n",
    "N_EPOCHS = 500\n",
    "print_every_ = 10\n",
    "end_early = False\n",
    "seq_i = \"\"\n",
    "\n",
    "\n",
    " # Ensure net in training mode\n",
    "net.train()\n",
    "for epoch_i in range(N_EPOCHS):\n",
    "    # Zero out gradients\n",
    "    optimizer.zero_grad()\n",
    "    \n",
    "    # Get net output, calculate loss, and generate gradients\n",
    "    output = net(data.X)\n",
    "    loss = criterion(output, data.y)\n",
    "    # Generate gradients via autodiff\n",
    "    loss.backward() \n",
    "    \n",
    "    # Step\n",
    "    # -----------------------------------\n",
    "    # Clip params\n",
    "    for param in net.parameters():\n",
    "        if param.grad is None:\n",
    "            continue\n",
    "        grad_val = torch.clamp(param.grad, -5, 5)\n",
    "    optimizer.step()\n",
    "    # -----------------------------------\n",
    "    \n",
    "    # Track loss\n",
    "    # CE loss\n",
    "    losses.append(loss.item())\n",
    "    \n",
    "    # Qualitative Eval\n",
    "    if epoch_i % print_every_ == 0:\n",
    "        seq_i = net.generate(data, data.string[0], num_steps=len(data.string))\n",
    "        \n",
    "        if seq_i == data.string:\n",
    "            end_early = True\n",
    "            \n",
    "        # Stdout\n",
    "        # --------------------------------\n",
    "        str_ = f'\\rEpoch {epoch_i+1}/{N_EPOCHS} -- Loss: {losses[-1]:0.4f} -- Network out: {seq_i}'\n",
    "        print(str_)\n",
    "        # --------------------------------\n",
    "    \n",
    "    if end_early:\n",
    "        print(f\"\\nEnding early. Converged in {epoch_i} epochs.\")\n",
    "        break\n",
    "    \n",
    "plt.plot(losses)\n",
    "plt.xlabel('# of epochs', fontsize=12)\n",
    "plt.ylabel('CE - Loss', fontsize=12)\n",
    "plt.show()"
   ]
  },
  {
   "cell_type": "markdown",
   "metadata": {},
   "source": [
    "### Long-term dependecies"
   ]
  },
  {
   "cell_type": "code",
   "execution_count": 41,
   "metadata": {},
   "outputs": [
    {
     "name": "stdout",
     "output_type": "stream",
     "text": [
      "Processed string: The quick brown fox jumps over the lazy dog --> The quick brown fox jumps over the lazy dog\n"
     ]
    }
   ],
   "source": [
    "data = SequenceHandler('The quick brown fox jumps over the lazy dog')"
   ]
  },
  {
   "cell_type": "code",
   "execution_count": 42,
   "metadata": {},
   "outputs": [
    {
     "name": "stdout",
     "output_type": "stream",
     "text": [
      "Fitting vanilla...\n",
      "\n",
      "Ending early. Converged in 20 epochs.\n",
      "Epoch 21/500 -- Loss: 0.4322 -- Network out: The quick brown fox jumps over the lazy dog\n",
      "~~~~~~~~~~~~~~~~~~~~~~~~~~~~~~~~~~~~~~~~~~~~~~~~~~\n",
      "Fitting LSTM...\n",
      "\n",
      "Ending early. Converged in 50 epochs.\n",
      "Epoch 51/500 -- Loss: 0.2151 -- Network out: The quick brown fox jumps over the lazy dog\n",
      "~~~~~~~~~~~~~~~~~~~~~~~~~~~~~~~~~~~~~~~~~~~~~~~~~~\n",
      "Fitting GRU...\n",
      "\n",
      "Ending early. Converged in 40 epochs.\n",
      "Epoch 41/500 -- Loss: 0.4050 -- Network out: The quick brown fox jumps over the lazy dog\n",
      "~~~~~~~~~~~~~~~~~~~~~~~~~~~~~~~~~~~~~~~~~~~~~~~~~~\n"
     ]
    }
   ],
   "source": [
    "N_EPOCHS = 500\n",
    "LR = 0.01\n",
    "num_hidden = 50\n",
    "\n",
    "for CELL_TYPE in ['vanilla', 'LSTM', 'GRU']:\n",
    "    print(f'Fitting {CELL_TYPE}...')\n",
    "    net = RNN(num_features=data.num_characters, num_hidden=num_hidden, cell_type=CELL_TYPE)\n",
    "    optimizer = optim.Adam(net.parameters(), lr=LR)\n",
    "    criterion = nn.CrossEntropyLoss()\n",
    "    losses = []\n",
    "\n",
    "\n",
    "    end_early = False\n",
    "    seq_i = \"\"\n",
    "\n",
    "\n",
    "    net.train() # Ensure net in training mode\n",
    "    for epoch_i in range(N_EPOCHS):\n",
    "        # Zero out gradients\n",
    "        optimizer.zero_grad()\n",
    "\n",
    "        # Get net output, calculate loss, and generate gradients\n",
    "        output = net(data.X)\n",
    "        loss = criterion(output, data.y)\n",
    "        loss.backward() # Generate gradients via autodiff\n",
    "\n",
    "        # Step\n",
    "        # -----------------------------------\n",
    "        # Clip params\n",
    "        for param in net.parameters():\n",
    "            if param.grad is None:\n",
    "                continue\n",
    "            grad_val = torch.clamp(param.grad, -5, 5)\n",
    "        optimizer.step()\n",
    "        # -----------------------------------\n",
    "\n",
    "        # Track loss\n",
    "        losses.append(loss.item())\n",
    "\n",
    "        # Qualitative Eval\n",
    "        if epoch_i % 10 == 0:\n",
    "            seq_i = net.generate(data, data.string[0], num_steps=len(data.string))\n",
    "\n",
    "            if seq_i == data.string:\n",
    "                end_early = True\n",
    "\n",
    "        # Stdout\n",
    "        # --------------------------------\n",
    "        str_ = f'\\rEpoch {epoch_i+1}/{N_EPOCHS} -- Loss: {losses[-1]:0.4f} -- Network out: {seq_i}'\n",
    "        # print(str_)\n",
    "        # --------------------------------\n",
    "\n",
    "        if end_early:\n",
    "            print(f\"\\nEnding early. Converged in {epoch_i} epochs.\")\n",
    "            break\n",
    "    str_ = f'\\rEpoch {epoch_i+1}/{N_EPOCHS} -- Loss: {losses[-1]:0.4f} -- Network out: {seq_i}'\n",
    "    print(str_)\n",
    "    print('~'*50)"
   ]
  },
  {
   "cell_type": "markdown",
   "metadata": {},
   "source": [
    "### Questions:\n",
    "Why does this happen?\n",
    "1. Try changing the learning rate (e.g. 0.08).\n",
    "2. Did the results change? If yes why?"
   ]
  },
  {
   "cell_type": "markdown",
   "metadata": {},
   "source": [
    "### Complexity"
   ]
  },
  {
   "cell_type": "code",
   "execution_count": 43,
   "metadata": {},
   "outputs": [
    {
     "name": "stdout",
     "output_type": "stream",
     "text": [
      "Number of Params:..\n",
      "vanilla : 310560\n",
      "LSTM : 1152060\n",
      "GRU : 871560\n"
     ]
    }
   ],
   "source": [
    "\n",
    "num_features, num_hidden, num_classes = 300, 500, 1\n",
    "print('Number of Params:..')\n",
    "for cell_type in ['vanilla', 'LSTM', 'GRU']:\n",
    "    net = RNN(num_features=data.num_characters, num_hidden=num_hidden, cell_type=cell_type)\n",
    "    net_param_count = 0\n",
    "    for name, param in net.named_parameters():\n",
    "        if param.requires_grad:\n",
    "            c = 1\n",
    "            for val in param.shape:\n",
    "                c *= val\n",
    "        net_param_count += c\n",
    "    print(f'{cell_type} : {net_param_count}')"
   ]
  },
  {
   "cell_type": "markdown",
   "metadata": {},
   "source": [
    "## Trump Speech Generator\n",
    "\n",
    "Sequence now is a series of words. Task is to predict the next word in the series"
   ]
  },
  {
   "cell_type": "code",
   "execution_count": 44,
   "metadata": {},
   "outputs": [
    {
     "ename": "FileNotFoundError",
     "evalue": "[Errno 2] No such file or directory: './trump_speeches.txt'",
     "output_type": "error",
     "traceback": [
      "\u001b[0;31m---------------------------------------------------------------------------\u001b[0m",
      "\u001b[0;31mFileNotFoundError\u001b[0m                         Traceback (most recent call last)",
      "\u001b[0;32m<ipython-input-44-7870bad9cfb8>\u001b[0m in \u001b[0;36m<module>\u001b[0;34m\u001b[0m\n\u001b[1;32m     15\u001b[0m   \u001b[0;32mreturn\u001b[0m \u001b[0;34m' '\u001b[0m\u001b[0;34m.\u001b[0m\u001b[0mjoin\u001b[0m\u001b[0;34m(\u001b[0m\u001b[0minput_text\u001b[0m\u001b[0;34m.\u001b[0m\u001b[0msplitlines\u001b[0m\u001b[0;34m(\u001b[0m\u001b[0;34m)\u001b[0m\u001b[0;34m)\u001b[0m\u001b[0;34m\u001b[0m\u001b[0;34m\u001b[0m\u001b[0m\n\u001b[1;32m     16\u001b[0m \u001b[0;34m\u001b[0m\u001b[0m\n\u001b[0;32m---> 17\u001b[0;31m \u001b[0mtrump_text\u001b[0m \u001b[0;34m=\u001b[0m \u001b[0mread_input\u001b[0m\u001b[0;34m(\u001b[0m\u001b[0mpath_to_file\u001b[0m\u001b[0;34m)\u001b[0m\u001b[0;34m\u001b[0m\u001b[0;34m\u001b[0m\u001b[0m\n\u001b[0m\u001b[1;32m     18\u001b[0m \u001b[0mtrump_tokens\u001b[0m \u001b[0;34m=\u001b[0m \u001b[0mnltk\u001b[0m\u001b[0;34m.\u001b[0m\u001b[0mword_tokenize\u001b[0m\u001b[0;34m(\u001b[0m\u001b[0mtrump_text\u001b[0m\u001b[0;34m)\u001b[0m \u001b[0;31m# Tokenize sentences\u001b[0m\u001b[0;34m\u001b[0m\u001b[0;34m\u001b[0m\u001b[0m\n\u001b[1;32m     19\u001b[0m \u001b[0mcharacters\u001b[0m \u001b[0;34m=\u001b[0m \u001b[0mset\u001b[0m\u001b[0;34m(\u001b[0m\u001b[0;34m[\u001b[0m\u001b[0mtoken\u001b[0m \u001b[0;32mfor\u001b[0m \u001b[0mtoken\u001b[0m \u001b[0;32min\u001b[0m \u001b[0mtrump_tokens\u001b[0m \u001b[0;32mif\u001b[0m \u001b[0mlen\u001b[0m\u001b[0;34m(\u001b[0m\u001b[0mtoken\u001b[0m\u001b[0;34m)\u001b[0m \u001b[0;34m>=\u001b[0m \u001b[0;36m2\u001b[0m\u001b[0;34m]\u001b[0m\u001b[0;34m)\u001b[0m \u001b[0;31m# Keep subset\u001b[0m\u001b[0;34m\u001b[0m\u001b[0;34m\u001b[0m\u001b[0m\n",
      "\u001b[0;32m<ipython-input-44-7870bad9cfb8>\u001b[0m in \u001b[0;36mread_input\u001b[0;34m(path_to_file)\u001b[0m\n\u001b[1;32m      7\u001b[0m   \u001b[0mReads\u001b[0m \u001b[0mthe\u001b[0m \u001b[0minput\u001b[0m \u001b[0mfile\u001b[0m\u001b[0;34m,\u001b[0m \u001b[0mget\u001b[0m \u001b[0mrid\u001b[0m \u001b[0mof\u001b[0m \u001b[0mnewlines\u001b[0m \u001b[0;32mand\u001b[0m \u001b[0mempty\u001b[0m \u001b[0mlines\u001b[0m\u001b[0;34m,\u001b[0m \u001b[0mreplace\u001b[0m \u001b[0;32mwith\u001b[0m \u001b[0mspace\u001b[0m\u001b[0;34m\u001b[0m\u001b[0;34m\u001b[0m\u001b[0m\n\u001b[1;32m      8\u001b[0m   \"\"\"\n\u001b[0;32m----> 9\u001b[0;31m   \u001b[0;32mwith\u001b[0m \u001b[0mopen\u001b[0m\u001b[0;34m(\u001b[0m\u001b[0mpath_to_file\u001b[0m\u001b[0;34m,\u001b[0m \u001b[0;34m\"r\"\u001b[0m\u001b[0;34m)\u001b[0m \u001b[0;32mas\u001b[0m \u001b[0mf\u001b[0m\u001b[0;34m:\u001b[0m\u001b[0;34m\u001b[0m\u001b[0;34m\u001b[0m\u001b[0m\n\u001b[0m\u001b[1;32m     10\u001b[0m     \u001b[0minput_text\u001b[0m \u001b[0;34m=\u001b[0m \u001b[0mf\u001b[0m\u001b[0;34m.\u001b[0m\u001b[0mread\u001b[0m\u001b[0;34m(\u001b[0m\u001b[0;34m)\u001b[0m\u001b[0;34m\u001b[0m\u001b[0;34m\u001b[0m\u001b[0m\n\u001b[1;32m     11\u001b[0m   \u001b[0minput_text\u001b[0m \u001b[0;34m=\u001b[0m \u001b[0mre\u001b[0m\u001b[0;34m.\u001b[0m\u001b[0msub\u001b[0m\u001b[0;34m(\u001b[0m\u001b[0;34m\"SPEECH\\s+\\d+\"\u001b[0m\u001b[0;34m,\u001b[0m \u001b[0;34m\"\"\u001b[0m\u001b[0;34m,\u001b[0m \u001b[0minput_text\u001b[0m\u001b[0;34m)\u001b[0m  \u001b[0;31m# Remove the speech headers\u001b[0m\u001b[0;34m\u001b[0m\u001b[0;34m\u001b[0m\u001b[0m\n",
      "\u001b[0;31mFileNotFoundError\u001b[0m: [Errno 2] No such file or directory: './trump_speeches.txt'"
     ]
    }
   ],
   "source": [
    "import re\n",
    "import nltk\n",
    "path_to_file = './trump_speeches.txt'\n",
    "\n",
    "def read_input(path_to_file):\n",
    "  \"\"\"\n",
    "  Reads the input file, get rid of newlines and empty lines, replace with space\n",
    "  \"\"\"\n",
    "  with open(path_to_file, \"r\") as f:\n",
    "    input_text = f.read()\n",
    "  input_text = re.sub(\"SPEECH\\s+\\d+\", \"\", input_text)  # Remove the speech headers\n",
    "  input_text = re.sub(\"\\n+\", \"\\n\", input_text) # Remove newlies\n",
    "  input_text = re.sub(\"\\d+\\\\\\d+\\\\\\d+\", \"\", input_text)  # Remove the dates\n",
    "  input_text = re.sub(\" +\", \" \", input_text)  # Remove double spaces.\n",
    "  return ' '.join(input_text.splitlines())\n",
    "\n",
    "trump_text = read_input(path_to_file)\n",
    "trump_tokens = nltk.word_tokenize(trump_text) # Tokenize sentences\n",
    "characters = set([token for token in trump_tokens if len(token) >= 2]) # Keep subset \n",
    "trump_tokens = [token for token in trump_tokens if token in characters] # Final vocabulary\n",
    "print(f'Vocubalary size: {len(characters)}')"
   ]
  },
  {
   "cell_type": "code",
   "execution_count": null,
   "metadata": {},
   "outputs": [],
   "source": [
    "import unicodedata\n",
    "import string\n",
    "\n",
    "    \n",
    "\n",
    "class WordHandler(SequenceHandler):\n",
    "    \"\"\"\n",
    "    Utility class to vectorize a sequence of characters. We will create one instance of this class for every string we want to feed to our model.\n",
    "    \"\"\"\n",
    "    def __init__(self, original_string, print_=False):\n",
    "        \"\"\"\n",
    "        - original_string: str,\n",
    "        the input string to vectorize\n",
    "        \"\"\"\n",
    "        \n",
    "        # Keep only letters in the vocab\n",
    "\n",
    "        self.tokens = [word for word in nltk.word_tokenize(original_string) if word in characters]\n",
    "        self.string = \" \".join(self.tokens)\n",
    "        if print_:\n",
    "            print(f'Processed string: {original_string} --> {self.string}')\n",
    "        # Save the input string\n",
    "        \n",
    "        self.num_characters = len(characters)\n",
    "        \n",
    "        # Mapper to char and back\n",
    "        self.char_to_idx = { ch : i for i, ch in enumerate(characters) }\n",
    "        self.idx_to_char = { i : ch for ch, i in self.char_to_idx.items() }\n",
    "        \n",
    "        self.ohe = self.init_ohe()\n",
    "        self._process()\n",
    "        self._process_for_cl()\n",
    "        \n",
    "    def _process(self):\n",
    "        \"\"\"\n",
    "        This will create the X and y variables of the instance. \n",
    "        In X we will store the vector representation of the sequence in a (N_seq - 1) x embedding_size tensor.\n",
    "        In y we will store the corresponding correct char index value for the next character in the sequence. This will be a tensor of size N_seq, containing integers.\n",
    "        \"\"\"\n",
    "        data_torch = torch.tensor([self.ohe[self.char_to_idx[char]] for char in self.tokens])\n",
    "        self.X = data_torch[:-1].float()\n",
    "        self.y = torch.argmax(data_torch[1:], dim=1).long()\n",
    "      \n",
    "    # For other purposes\n",
    "    def _process_for_cl(self):\n",
    "        \"\"\"\n",
    "        This will create the X_cl variable of the instance. \n",
    "        In X_cl we will store the vector representation of the sequence in a (N_seq) x embedding_size tensor.\n",
    "        \"\"\"\n",
    "        data_torch = torch.tensor([self.ohe[self.char_to_idx[char]] for char in self.tokens])\n",
    "        self.X_cl = data_torch[:].float()\n",
    "    "
   ]
  },
  {
   "cell_type": "code",
   "execution_count": null,
   "metadata": {},
   "outputs": [],
   "source": [
    "def generate_batches(tokens, sequence_length=50, batch_size=64, way='random'):\n",
    "    \"\"\"\n",
    "    Simple utility to generate batches of sequences of words from the speeches.\n",
    "    Sampling is either done randomly or around a word.\n",
    "    \"\"\"\n",
    "    X = []\n",
    "    for batch_id in range(batch_size):\n",
    "        if isinstance(way, str):\n",
    "            if way == 'random':\n",
    "                # get a random starting point\n",
    "                r = random.choice(range(len(tokens) - sequence_length - 1))\n",
    "                sample_seq = tokens[r:r + sequence_length + 1]\n",
    "            else:\n",
    "                indices = [i for i, word in enumerate(tokens) if word == way]\n",
    "                r = random.choice(indices)\n",
    "                sample_seq = tokens[r - int(sequence_length / 2):r +  int(sequence_length / 2) + 1]\n",
    "        elif isinstance(way, list):\n",
    "            indices = [i for i, word in enumerate(tokens) if word == way[0] and tokens[i+1] == way[1]]\n",
    "            r = random.choice(indices)\n",
    "            sample_seq = tokens[r: int(r + sequence_length)]\n",
    "        else:\n",
    "            raise NotImplementedError\n",
    "        X.append(\" \".join(sample_seq))\n",
    "       \n",
    "    return X\n"
   ]
  },
  {
   "cell_type": "code",
   "execution_count": null,
   "metadata": {},
   "outputs": [],
   "source": [
    "wanted_samples = generate_batches(trump_tokens, way=['Make', 'America'], sequence_length=10, batch_size=30)\n",
    "wanted_samples\n",
    "# wanted_samples = generate_batches(trump_tokens, way='Make', sequence_length=4, batch_size=10)\n",
    "# wanted_samples\n"
   ]
  },
  {
   "cell_type": "code",
   "execution_count": null,
   "metadata": {},
   "outputs": [],
   "source": [
    "CELL_TYPE = 'GRU' # vanilla\n",
    "num_hidden = 10\n",
    "net = RNN(num_features=len(characters), num_hidden=num_hidden, cell_type=CELL_TYPE)\n",
    "\n",
    "LR = 0.005\n",
    "\n",
    "optimizer = optim.Adam(net.parameters(), lr=LR)\n",
    "criterion = nn.CrossEntropyLoss()\n",
    "losses = []\n",
    "\n",
    "N_EPOCHS = 40\n",
    "print_every_ = 1\n",
    "end_early = False\n",
    "seq_i = \"\"\n",
    "\n",
    "\n",
    " # Ensure net in training mode\n",
    "net.train()\n",
    "for epoch_i in range(N_EPOCHS):\n",
    "    print(f'Epoch: {epoch_i + 1}...')\n",
    "    # Zero out gradients\n",
    "    optimizer.zero_grad()\n",
    "    \n",
    "    samples = wanted_samples#generate_batches(trump_tokens,  sequence_length=4, batch_size=50, way='random')\n",
    "    for sample in samples:\n",
    "        #print(f'Sampled sentence: {sample}')\n",
    "        data = WordHandler(sample)\n",
    "        output = net(data.X)\n",
    "        loss = criterion(output, data.y)\n",
    "        #print(f'Wanted: {data.tokens[1:]}')\n",
    "        #print(f'Predicted: {[data.idx_to_char[id_.item()] for id_ in torch.argmax(output, dim=1)]}')\n",
    "        # Generate gradients via autodiff\n",
    "        loss.backward() \n",
    "\n",
    "        # Step\n",
    "        # -----------------------------------\n",
    "        # Clip params\n",
    "        for param in net.parameters():\n",
    "            if param.grad is None:\n",
    "                continue\n",
    "            grad_val = torch.clamp(param.grad, -1, 1)\n",
    "        optimizer.step()\n",
    "        # -----------------------------------\n",
    "\n",
    "        # Track loss\n",
    "        # CE loss\n",
    "        losses.append(loss.item())\n",
    "    \n",
    "    # Qualitative Eval\n",
    "    if epoch_i % print_every_ == 0:\n",
    "        seq_i = net.generate(data, (\"Make\"), num_steps=4, output_type='word')\n",
    "        \n",
    "        #if seq_i == data.string:\n",
    "        #    end_early = True\n",
    "            \n",
    "        # Stdout\n",
    "        # --------------------------------\n",
    "        str_ = f'\\rEpoch {epoch_i+1}/{N_EPOCHS} -- Loss: {losses[-1]:0.4f} -- Network out: {seq_i}'\n",
    "        print(str_)\n",
    "        # --------------------------------\n",
    "    \n",
    "    \n",
    "plt.plot(losses)\n",
    "plt.xlabel('# of epochs', fontsize=12)\n",
    "plt.ylabel('CE - Loss', fontsize=12)\n",
    "plt.show()"
   ]
  },
  {
   "cell_type": "markdown",
   "metadata": {},
   "source": [
    "#### Generate sample text\n"
   ]
  },
  {
   "cell_type": "code",
   "execution_count": null,
   "metadata": {},
   "outputs": [],
   "source": [
    "net.generate(data, 'Make', 4, output_type='word')"
   ]
  },
  {
   "cell_type": "markdown",
   "metadata": {},
   "source": [
    "## Recap comments:\n",
    "- LSTM / GRU >> RNN. LSTM more effective, GRU more efficient.\n",
    "- Use RelUs and Adam as go to methods.\n",
    "- Tweak hidden sizes and learning rates according to model performance during training.\n",
    "- Better to create functions: def train(), def evaluate() ...  and also utilize already existing functionalities (Dataset and DataLoader from torch.utils) to avoid messy code and incosistencies.\n",
    "\n",
    "## Other resources:\n",
    "\n",
    "- Book with accompanying torch code:\n",
    "  - [Deep dive 2 deep learning: RRN Chapter](https://d2l.ai/chapter_recurrent-neural-networks/index.html)\n",
    "- Posts:\n",
    "    - [Karpathys famous blog post on RNNs](http://karpathy.github.io/2015/05/21/rnn-effectiveness/) \n",
    "    - [Colah's blog post on LSTMs](https://colah.github.io/posts/2015-08-Understanding-LSTMs/)\n",
    "    - [Explained extensive RNN post](https://explained.ai/rnn/index.html)\n",
    "- Applications\n",
    "    - [Surname classification with RNNs](https://github.com/joosthub/PyTorchNLPBook/blob/master/chapters/chapter_6/classifying-surnames/Chapter-6-Surname-Classification-with-RNNs.ipynb)\n",
    "    - [LSTM with trainable word embeddings](https://pytorch.org/tutorials/beginner/nlp/sequence_models_tutorial.html)\n",
    "    - [Emojifying sentences with Glove Embeddings](https://github.com/hiepnguyen034/Emojifier-plus)"
   ]
  }
 ],
 "metadata": {
  "kernelspec": {
   "display_name": "Python 3 (ipykernel)",
   "language": "python",
   "name": "python3"
  },
  "language_info": {
   "codemirror_mode": {
    "name": "ipython",
    "version": 3
   },
   "file_extension": ".py",
   "mimetype": "text/x-python",
   "name": "python",
   "nbconvert_exporter": "python",
   "pygments_lexer": "ipython3",
   "version": "3.7.6"
  }
 },
 "nbformat": 4,
 "nbformat_minor": 4
}
