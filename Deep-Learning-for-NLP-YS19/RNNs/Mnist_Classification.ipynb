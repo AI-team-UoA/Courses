{
 "cells": [
  {
   "cell_type": "markdown",
   "metadata": {},
   "source": [
    "### MNIST handwritten digits dataset for image classification\n",
    "\n",
    "In this example we will utilize the functionalitis of pytorch for data loading and rnn models.\n",
    "\n",
    "The task will be image classification on MNIST dataset utilizing sequence models.\n",
    "\n",
    "\n",
    "Modified example from [here](https://www.dezyre.com/recipes/run-basic-rnn-model-using-pytorch)"
   ]
  },
  {
   "cell_type": "code",
   "execution_count": 1,
   "metadata": {},
   "outputs": [
    {
     "name": "stdout",
     "output_type": "stream",
     "text": [
      "Working on: cpu\n"
     ]
    }
   ],
   "source": [
    "# Imports\n",
    "import torch\n",
    "import torch.nn as nn\n",
    "import torch.nn.functional as F\n",
    "import torch.optim as optim\n",
    "import os\n",
    "import numpy as np\n",
    "\n",
    "import torchvision\n",
    "import torchvision.datasets as dsets\n",
    "import torchvision.transforms as transforms\n",
    "\n",
    "import matplotlib.pyplot as plt\n",
    "%matplotlib inline\n",
    "import sklearn.metrics\n",
    "import seaborn as sns\n",
    "import random\n",
    "import sys\n",
    "\n",
    "\n",
    "\n",
    "def set_seed(seed = 1234):\n",
    "    '''Sets the seed of the entire notebook so results are the same every time we run.\n",
    "    This is for REPRODUCIBILITY.'''\n",
    "    np.random.seed(seed)\n",
    "    random.seed(seed)\n",
    "    torch.manual_seed(seed)\n",
    "    torch.cuda.manual_seed(seed)\n",
    "    # When running on the CuDNN backend, two further options must be set\n",
    "    torch.backends.cudnn.deterministic = True\n",
    "    # Set a fixed value for the hash seed\n",
    "    os.environ['PYTHONHASHSEED'] = str(seed)\n",
    "    \n",
    "set_seed()\n",
    "\n",
    "device = 'cpu'\n",
    "print('Working on:', device)"
   ]
  },
  {
   "cell_type": "code",
   "execution_count": 2,
   "metadata": {},
   "outputs": [],
   "source": [
    "# How many images at once\n",
    "BATCH_SIZE = 64\n",
    "\n",
    "# Mnist digital dataset\n",
    "train_data = dsets.MNIST(\n",
    "    root='./mnist/',\n",
    "    train=True,\n",
    "    # Converts a PIL.Image or numpy.ndarray to torch.FloatTensor of shape (Channel x Height x Width) and normalize in the range [0.0, 1.0]\n",
    "    transform=transforms.ToTensor(),    \n",
    "    # Set to True for the first time to download it                        \n",
    "    download=False,            \n",
    ")\n",
    "\n",
    "# Data Loader for batching\n",
    "train_loader = torch.utils.data.DataLoader(dataset=train_data,\n",
    "                                           batch_size=BATCH_SIZE, shuffle=True)"
   ]
  },
  {
   "cell_type": "code",
   "execution_count": 3,
   "metadata": {},
   "outputs": [
    {
     "name": "stdout",
     "output_type": "stream",
     "text": [
      "torch.Size([60000, 28, 28])\n",
      "torch.Size([60000])\n"
     ]
    },
    {
     "data": {
      "image/png": "[encoded data removed]",
      "text/plain": [
       "<Figure size 432x288 with 1 Axes>"
      ]
     },
     "metadata": {
      "needs_background": "light"
     },
     "output_type": "display_data"
    }
   ],
   "source": [
    "# plot one example\n",
    "print(train_data.data.size())     # (60000, 28, 28)\n",
    "print(train_data.targets.size())   # (60000)\n",
    "plt.imshow(train_data.data[0].numpy(), cmap='gray')\n",
    "plt.title('%i' % train_data.targets[0])\n",
    "plt.show()"
   ]
  },
  {
   "cell_type": "code",
   "execution_count": 4,
   "metadata": {},
   "outputs": [
    {
     "name": "stdout",
     "output_type": "stream",
     "text": [
      "torch.Size([1000, 28, 28]) torch.Size([1000])\n"
     ]
    }
   ],
   "source": [
    "# Get a subset of the test set for fast evaluation\n",
    "TEST_SIZE = 1000\n",
    "test_data = dsets.MNIST(root='./mnist/', train=False, transform=transforms.ToTensor())\n",
    "test_loader = torch.utils.data.DataLoader(dataset=test_data,\n",
    "                                           batch_size=TEST_SIZE, shuffle=True)\n",
    "# Remove the channel dimension\n",
    "for step, (test_x, test_y) in enumerate(test_loader):\n",
    "    test_x = test_x.view(-1,28,28)\n",
    "    pass\n",
    "print(test_x.shape, test_y.shape)"
   ]
  },
  {
   "cell_type": "markdown",
   "metadata": {},
   "source": [
    "#### Question:\n",
    "    - How can we view this image a sequence?\n",
    "    - What type of tasks is this? N-to-N? "
   ]
  },
  {
   "cell_type": "markdown",
   "metadata": {},
   "source": [
    "<img src=\"./mnist_lstm.png\" width=\"800\">"
   ]
  },
  {
   "cell_type": "code",
   "execution_count": 5,
   "metadata": {},
   "outputs": [],
   "source": [
    "class RNN(nn.Module):\n",
    "    \"\"\"\n",
    "    Wrapper module for RNN, LSTM, GRU cells using pytorch api. The output is fed to a FFN for classification.\n",
    "    \"\"\"\n",
    "    def __init__(self, cell_type, input_size, hidden_size, output_size):\n",
    "        super(RNN, self).__init__()\n",
    "        \n",
    "        cells = {\n",
    "        \"RNN\" : nn.RNN,\n",
    "        \"LSTM\"    : nn.LSTM,\n",
    "        \"GRU\"     : nn.GRU\n",
    "    }\n",
    "        self.cell_type = cell_type\n",
    "        self.rnn = cells[cell_type](         # Pick the specific model\n",
    "            input_size=input_size,           # Number of features for each time step\n",
    "            hidden_size=hidden_size,         # rnn hidden units\n",
    "            batch_first=True,       # input & output will has batch size as 1s dimension. e.g. (batch, time_step, input_size)\n",
    "        )\n",
    "\n",
    "        self.out = nn.Linear(hidden_size, output_size) # Feed forward network\n",
    "\n",
    "    def forward(self, x):\n",
    "        # x shape (batch, time_step, input_size)\n",
    "        # r_out shape (batch, time_step, output_size)\n",
    "        # h_n shape (n_layers, batch, hidden_size)\n",
    "        # h_c shape (n_layers, batch, hidden_size)\n",
    "        if self.cell_type == 'LSTM':\n",
    "            r_out, (h_n, h_c) = self.rnn(x) \n",
    "        else:\n",
    "            r_out, h_n = self.rnn(x)\n",
    "\n",
    "        # choose r_out at the last time step\n",
    "        out = self.out(r_out[:, -1, :])\n",
    "        return out"
   ]
  },
  {
   "cell_type": "code",
   "execution_count": 6,
   "metadata": {},
   "outputs": [
    {
     "name": "stdout",
     "output_type": "stream",
     "text": [
      "RNN(\n",
      "  (rnn): LSTM(28, 64, batch_first=True)\n",
      "  (out): Linear(in_features=64, out_features=10, bias=True)\n",
      ")\n"
     ]
    }
   ],
   "source": [
    "input_size = 28\n",
    "hidden_size = 64\n",
    "output_size = 10\n",
    "cell_type = 'LSTM'\n",
    "net = RNN(cell_type, input_size, hidden_size, output_size)\n",
    "print(net)"
   ]
  },
  {
   "cell_type": "markdown",
   "metadata": {},
   "source": [
    "#### Question:\n",
    " - What are the output dimensions?\n",
    " - What are other strategies for getting the representation of the whole image as input to the last-layer FFN?"
   ]
  },
  {
   "cell_type": "code",
   "execution_count": 7,
   "metadata": {},
   "outputs": [],
   "source": [
    "EPOCH = 1\n",
    "LR = 0.01\n",
    "\n",
    "optimizer = torch.optim.Adam(net.parameters(), lr=LR)   # optimize all net parameters\n",
    "loss_func = nn.CrossEntropyLoss()     "
   ]
  },
  {
   "cell_type": "code",
   "execution_count": 8,
   "metadata": {},
   "outputs": [
    {
     "name": "stdout",
     "output_type": "stream",
     "text": [
      "Epoch:  0 | train loss: 2.3094 | test accuracy: 0.11\n",
      "Epoch:  0 | train loss: 1.1737 | test accuracy: 0.65\n",
      "Epoch:  0 | train loss: 0.5995 | test accuracy: 0.77\n",
      "Epoch:  0 | train loss: 0.2556 | test accuracy: 0.81\n",
      "Epoch:  0 | train loss: 0.5036 | test accuracy: 0.88\n",
      "Epoch:  0 | train loss: 0.4031 | test accuracy: 0.93\n",
      "Epoch:  0 | train loss: 0.3027 | test accuracy: 0.93\n",
      "Epoch:  0 | train loss: 0.3472 | test accuracy: 0.94\n",
      "Epoch:  0 | train loss: 0.2327 | test accuracy: 0.93\n",
      "Epoch:  0 | train loss: 0.1547 | test accuracy: 0.94\n",
      "Epoch:  0 | train loss: 0.1181 | test accuracy: 0.95\n",
      "Epoch:  0 | train loss: 0.1763 | test accuracy: 0.95\n",
      "Epoch:  0 | train loss: 0.2232 | test accuracy: 0.95\n",
      "Epoch:  0 | train loss: 0.1304 | test accuracy: 0.94\n",
      "Epoch:  0 | train loss: 0.1873 | test accuracy: 0.96\n",
      "Epoch:  0 | train loss: 0.0550 | test accuracy: 0.97\n",
      "Epoch:  0 | train loss: 0.0975 | test accuracy: 0.96\n",
      "Epoch:  0 | train loss: 0.1681 | test accuracy: 0.96\n",
      "Epoch:  0 | train loss: 0.0577 | test accuracy: 0.96\n"
     ]
    },
    {
     "data": {
      "image/png": "[encoded data removed]",
      "text/plain": [
       "<Figure size 864x360 with 1 Axes>"
      ]
     },
     "metadata": {
      "needs_background": "light"
     },
     "output_type": "display_data"
    }
   ],
   "source": [
    "# training and testing\n",
    "\n",
    "# Start train mode\n",
    "net.train()\n",
    "# Accumulate losses\n",
    "losses = []\n",
    "# Count the number of batches given to the model\n",
    "step_count = 0\n",
    "# Evaluate the progress every # batches\n",
    "print_every = 50\n",
    "\n",
    "# Iterate over the whole dataset for one epoch\n",
    "for epoch in range(EPOCH):\n",
    "    # Generate batch data\n",
    "    for step, (x, y) in enumerate(train_loader):\n",
    "        # clear gradients for this training step\n",
    "        optimizer.zero_grad() \n",
    "        \n",
    "        # reshape x to (batch, time_step, input_size)\n",
    "        b_x = x.view(-1, 28, 28)\n",
    "        # batch y\n",
    "        b_y = y                               \n",
    "        \n",
    "        \n",
    "        output = net(b_x)                               \n",
    "        loss = loss_func(output, b_y) \n",
    "        \n",
    "        # For visualization\n",
    "        losses.append(loss.item())\n",
    "        step_count += 1\n",
    "        \n",
    "        \n",
    "        # backpropagation - compute gradients                             \n",
    "        loss.backward() \n",
    "        # apply gradients\n",
    "        optimizer.step()                               \n",
    "    \n",
    "        # evaluate every N batches\n",
    "        if step % print_every == 0:\n",
    "            # Do not calculate gradients\n",
    "            with torch.no_grad():\n",
    "                # Faster inference\n",
    "                net.eval()\n",
    "                \n",
    "                test_output = net(test_x)\n",
    "                # Get predicted class\n",
    "                pred_y = torch.argmax(test_output, dim=1).squeeze()\n",
    "                # Calculate accuracy\n",
    "                accuracy = (pred_y == test_y).sum().item() / float(TEST_SIZE)\n",
    "                print('Epoch: ', epoch, '| train loss: %.4f' % loss.item(), '| test accuracy: %.2f' % accuracy)\n",
    "            # Return to training mode\n",
    "            net.train()\n",
    "\n",
    "# Plot results\n",
    "plt.figure(figsize=(12,5))\n",
    "plt.plot(losses)\n",
    "plt.xlabel('# of steps', fontsize=12)\n",
    "plt.ylabel('CE - Loss', fontsize=12)\n",
    "plt.show()"
   ]
  },
  {
   "cell_type": "markdown",
   "metadata": {},
   "source": [
    "## Questions:\n",
    "- Try playin around with models/lr/epochs/hidden_size (e.g. RNN, 0.001) and guess the behavior"
   ]
  },
  {
   "cell_type": "markdown",
   "metadata": {},
   "source": [
    "## Inference on a set of samples"
   ]
  },
  {
   "cell_type": "code",
   "execution_count": 9,
   "metadata": {},
   "outputs": [
    {
     "name": "stdout",
     "output_type": "stream",
     "text": [
      "Make: 10 predictions\n",
      "[4 9 2 4 9 7 1 1 2 1] real number\n",
      "[4 9 2 4 9 7 1 1 2 1] prediction number\n"
     ]
    }
   ],
   "source": [
    "N = 10\n",
    "print(f'Make: {N} predictions')\n",
    "test_output = net(test_x[:N,:,:].view(-1,28,28))\n",
    "y_pred = torch.argmax(test_output, dim=1).data.numpy().squeeze()\n",
    "y_true = test_y[:N].data.numpy().squeeze()\n",
    "print(y_true, 'real number')\n",
    "print(y_pred, 'prediction number')"
   ]
  },
  {
   "cell_type": "code",
   "execution_count": 10,
   "metadata": {},
   "outputs": [
    {
     "name": "stdout",
     "output_type": "stream",
     "text": [
      "Classification Report:\n",
      "              precision    recall  f1-score   support\n",
      "\n",
      "           1       1.00      1.00      1.00         3\n",
      "           2       1.00      1.00      1.00         2\n",
      "           4       1.00      1.00      1.00         2\n",
      "           7       1.00      1.00      1.00         1\n",
      "           9       1.00      1.00      1.00         2\n",
      "\n",
      "    accuracy                           1.00        10\n",
      "   macro avg       1.00      1.00      1.00        10\n",
      "weighted avg       1.00      1.00      1.00        10\n",
      "\n",
      "Confusion Matrix\n",
      "[[3 0 0 0 0]\n",
      " [0 2 0 0 0]\n",
      " [0 0 2 0 0]\n",
      " [0 0 0 1 0]\n",
      " [0 0 0 0 2]]\n"
     ]
    }
   ],
   "source": [
    "from sklearn.metrics import classification_report, confusion_matrix\n",
    "print(f'Classification Report:')\n",
    "print(f'{classification_report(y_true, y_pred)}')\n",
    "print(f'Confusion Matrix')\n",
    "print(confusion_matrix(y_true, y_pred))"
   ]
  },
  {
   "cell_type": "markdown",
   "metadata": {},
   "source": [
    "## Other details:\n",
    "\n",
    "- Bidirectional + Multilayer. Check out layer sizes from the docs e.g. [LSTM module](https://pytorch.org/docs/stable/generated/torch.nn.LSTM.html)\n",
    "- Skipping connections\n",
    "- Trainable/Frozen embeddings as input\n",
    "- Hyperparameter tuning in pytorch\n"
   ]
  }
 ],
 "metadata": {
  "kernelspec": {
   "display_name": "Python 3 (ipykernel)",
   "language": "python",
   "name": "python3"
  },
  "language_info": {
   "codemirror_mode": {
    "name": "ipython",
    "version": 3
   },
   "file_extension": ".py",
   "mimetype": "text/x-python",
   "name": "python",
   "nbconvert_exporter": "python",
   "pygments_lexer": "ipython3",
   "version": "3.7.6"
  }
 },
 "nbformat": 4,
 "nbformat_minor": 4
}
