{
  "cells": [
    {
      "cell_type": "markdown",
      "source": [
        "---\n",
        "<div align=\"center\">\n",
        "\n",
        "<img align=\"center\" src=\"https://www.di.uoa.gr/themes/corporate_lite/logo_en.png\" width=\"500\"/>\n",
        "\n",
        "<hr>\n",
        "\n",
        "\n",
        "</div>\n",
        "\n",
        "<div align=\"center\">\n",
        "<h1><strong>YS19 - Artificial Intelligence II <br>Deep Learning for NLP</strong></h1>\n",
        "</div>\n",
        "\n",
        "<hr>\n",
        "\n",
        "<div align=\"center\">\n",
        "<h2>Homework #3 - RNNs/LSTMs/GRUs (1)</h2>\n",
        "</div>\n",
        "\n",
        "\n",
        "\n",
        "\n",
        "---\n"
      ],
      "metadata": {
        "id": "vJVebAnYRPMT"
      }
    },
    {
      "cell_type": "markdown",
      "source": [
        "# Import of packages and libraries including PyTorch\n",
        "\n"
      ],
      "metadata": {
        "id": "UVM3LqZIXWVc"
      }
    },
    {
      "cell_type": "code",
      "execution_count": 1,
      "metadata": {
        "pycharm": {
          "name": "#%%\n"
        },
        "colab": {
          "base_uri": "https://localhost:8080/"
        },
        "id": "aC4T3bvYQlml",
        "outputId": "e455ff64-f8fc-438f-c15d-88a2cadabeed"
      },
      "outputs": [
        {
          "output_type": "stream",
          "name": "stdout",
          "text": [
            "Working on: cpu\n"
          ]
        }
      ],
      "source": [
        "# Imports\n",
        "import torch\n",
        "import torch.nn as nn\n",
        "import torch.nn.functional as F\n",
        "import torch.optim as optim\n",
        "import os\n",
        "import numpy as np\n",
        "# import torchvision\n",
        "# import torchvision.transforms as transforms\n",
        "import matplotlib.pyplot as plt\n",
        "%matplotlib inline\n",
        "import sklearn.metrics\n",
        "import seaborn as sns\n",
        "import random\n",
        "import sys\n",
        "from IPython.display import Image\n",
        "\n",
        "def set_seed(seed = 1234):\n",
        "    '''Sets the seed of the entire notebook so results are the same every time we run.\n",
        "        This is for REPRODUCIBILITY.\n",
        "    '''\n",
        "    np.random.seed(seed)\n",
        "    random.seed(seed)\n",
        "    torch.manual_seed(seed)\n",
        "    torch.cuda.manual_seed(seed)\n",
        "    # When running on the CuDNN backend, two further options must be set\n",
        "    torch.backends.cudnn.deterministic = True\n",
        "    # Set a fixed value for the hash seed\n",
        "    os.environ['PYTHONHASHSEED'] = str(seed)\n",
        "    \n",
        "set_seed()\n",
        "\n",
        "device = 'cpu'\n",
        "print('Working on:', device)"
      ]
    },
    {
      "cell_type": "markdown",
      "metadata": {
        "id": "8OGzq7fgQlmv"
      },
      "source": []
    },
    {
      "cell_type": "markdown",
      "metadata": {
        "pycharm": {
          "name": "#%% md\n"
        },
        "id": "4h6gtg2kQlmz"
      },
      "source": [
        "# Vanilla RNN\n",
        "\n",
        "---\n",
        "\n",
        "\n",
        "\n",
        "## **What's an RNN**❓ \n",
        "\n",
        "\n",
        "RNNs model **sequential data**, meaning they have **sequential memory**. \n",
        "An RNN takes in different kind of inputs (text, words, letters, parts of an image, sounds, etc.) in the form of vectors.\n",
        "\n",
        "It returns different kinds of outputs, such as the next word/letter in a sequence or paired with an feed-forward NN it can return a class etc.\n",
        "\n",
        "**Hidden states**\n",
        "\n",
        "From the relationship between hidden layer outputs $h_t$  and $h_{t-1}$ of adjacent time steps, we know that these variables captured and retained the sequence’s historical information up to their current time step, just like the state or memory of the neural network’s current time step. Therefore, such a **hidden layer output is called a hidden state**.\n",
        "\n",
        "> It is noteworthy that __hidden layers__ and __hidden states__ refer to two very different concepts. Hidden layers are, as explained, layers that are hidden from view on the path from input to output. Hidden states are technically speaking inputs to whatever we do at a given step, and they can only be computed by looking at data at previous time steps.\n",
        "\n",
        "\n",
        "**How RNN works**:\n",
        "\n",
        "- It uses previous information to affect later ones\n",
        "- The loop: passes the input forward sequentialy, while *retaining information* about it\n",
        "- This info is stored in the *hidden state*\n",
        "- There are only 3 matrices  that contain weights as parameters. These *DON'T change* with the input, they stay the same through the entire sequence."
      ]
    },
    {
      "cell_type": "markdown",
      "metadata": {
        "pycharm": {
          "name": "#%% md\n"
        },
        "id": "I6nMPjXNQlmy"
      },
      "source": [
        "<img src=\"https://github.com/AI-team-UoA/Courses/blob/main/Deep-Learning-for-NLP-YS19/RNNs/images/rnn_function.png?raw=true\" width=\"1000\">\n",
        "\n",
        "\n",
        "\n",
        "\n",
        "\n"
      ]
    },
    {
      "cell_type": "markdown",
      "metadata": {
        "id": "a46NJa3zQlm1"
      },
      "source": [
        "## Language Model in pure pyΤorch"
      ]
    },
    {
      "cell_type": "markdown",
      "metadata": {
        "pycharm": {
          "name": "#%% md\n"
        },
        "id": "m5v2IaGLQlm2"
      },
      "source": [
        "Neural Nets in general can have different number of inputs/outputs.\n",
        "\n",
        "This is according to the application.\n",
        "\n",
        "<br>\n",
        "\n",
        "\n",
        "\n",
        "<img src=\"https://github.com/AI-team-UoA/Courses/blob/main/Deep-Learning-for-NLP-YS19/RNNs/images/input_outputs.jpeg?raw=true\" width=\"1000\">"
      ]
    },
    {
      "cell_type": "markdown",
      "metadata": {
        "id": "-kgIh9ocQlm3"
      },
      "source": [
        "We want to build a simple language model that can learn to predict the next letter in a sequence of letters."
      ]
    },
    {
      "cell_type": "markdown",
      "metadata": {
        "pycharm": {
          "name": "#%% md\n"
        },
        "id": "UvUctanrQlm5"
      },
      "source": [
        "<img src=\"https://github.com/AI-team-UoA/Courses/blob/main/Deep-Learning-for-NLP-YS19/RNNs/images/rnn_showcase.png?raw=true\" width=\"1000\">"
      ]
    },
    {
      "cell_type": "code",
      "execution_count": 3,
      "metadata": {
        "id": "IiPapOeHQlm6"
      },
      "outputs": [],
      "source": [
        "class VanillaRNN(nn.Module):\n",
        "    def __init__(self, num_features, num_hidden, num_classes):\n",
        "\n",
        "        # Syntactic sugar\n",
        "        super().__init__()\n",
        "        \n",
        "        # Needed to formulate the layer shapes\n",
        "        # The size of the embeddings or the # of features\n",
        "        self.num_features = num_features\n",
        "\n",
        "        # The hidden layer mapping size\n",
        "        self.num_hidden = num_hidden\n",
        "        \n",
        "        # The size of the output classes\n",
        "        self.num_classes = num_classes\n",
        "        \n",
        "        # Network Parameters (default requires_grad=True)\n",
        "        # Input\n",
        "        self.Wxh = nn.Parameter(torch.randn((num_features, num_hidden)))\n",
        "        self.Whh = nn.Parameter(torch.randn((num_hidden, num_hidden)))\n",
        "        self.bh  = nn.Parameter(torch.zeros((num_hidden)))\n",
        "        \n",
        "        # Hidden -> Output\n",
        "        self.Why = nn.Parameter(torch.randn((num_hidden, self.num_classes)))\n",
        "        self.by = nn.Parameter(torch.zeros((self.num_classes))) \n",
        "        \n",
        "        # Activation\n",
        "        self.tanh = nn.Tanh()\n",
        "    \n",
        "    def init(self):\n",
        "        # Initialize hidden state to zero\n",
        "        self.h = torch.zeros((self.num_hidden))\n",
        "        \n",
        "    def forward(self, x):\n",
        "        self.h = self.tanh((x @ self.Wxh) + (self.h @ self.Whh) + self.bh)\n",
        "        y_output = self.h @ self.Why + self.by\n",
        "        return y_output"
      ]
    },
    {
      "cell_type": "markdown",
      "metadata": {
        "id": "YRVR5C3WQlm8"
      },
      "source": [
        "## Questions on pytorch?\n",
        " - Why super() ...?\n",
        " - Why Parameter and no Tensor?\n",
        " > Parameter is a kind of Tensor that is to be considered a module parameter. Parameters are Tensor subclasses, that have a very special property when used with Module s - when they’re assigned as Module attributes they are automatically added to the list of its parameters, and will appear e.g. in parameters() iterator. Assigning a Tensor doesn’t have such effect. This is because one might want to cache some temporary state, like last hidden state of the RNN, in the model. If there was no such class as Parameter, these temporaries would get registered too.\n",
        " - Which activation function for hidden layers? [Check out this for details](https://cs231n.github.io/neural-networks-1/).\n",
        "     - In sort: ReLU (or LeakyRelU) >> tanh >> sigmoid\n",
        "     \n",
        " - @? [PEP-0465](https://legacy.python.org/dev/peps/pep-0465/)"
      ]
    },
    {
      "cell_type": "code",
      "execution_count": 4,
      "metadata": {
        "colab": {
          "base_uri": "https://localhost:8080/"
        },
        "id": "qsqp6DM9Qlm-",
        "outputId": "60c412d5-95ec-4c25-ee12-a5520c26452f"
      },
      "outputs": [
        {
          "output_type": "stream",
          "name": "stdout",
          "text": [
            "Wxh torch.Size([4, 3])\n",
            "Whh torch.Size([3, 3])\n",
            "bh torch.Size([3])\n",
            "Why torch.Size([3, 4])\n",
            "by torch.Size([4])\n"
          ]
        }
      ],
      "source": [
        "num_features, num_hidden, num_classes = 4, 3, 4\n",
        "model = VanillaRNN(num_features, num_hidden, num_classes)\n",
        "\n",
        "# Printing out the module parameters\n",
        "for name, param in model.named_parameters():\n",
        "    if param.requires_grad:\n",
        "        print(name, param.shape)"
      ]
    },
    {
      "cell_type": "markdown",
      "metadata": {
        "id": "Ph3Ahrq1Qlm_"
      },
      "source": [
        "## Simple Mapper to encode a sequence of chars to vectors\n",
        "\n",
        "\n",
        "### One-Hot encoding\n",
        "\n",
        "When dealing with such categorical data, the most common strategy is to represent each item by a one-hot encoding. A one-hot encoding is a vector whose length is given by the size of the vocabulary N, where all entries are set to 0, except for the entry corresponding to our token, which is set to 1. For example, if the vocabulary had 5 elements, then the one-hot vectors corresponding to indices 0 and 2 would be the following.\n",
        "\n",
        "```\n",
        "[1, 0, 0, 0, 0]\n",
        "[0, 0, 1, 0, 0]\n",
        "```"
      ]
    },
    {
      "cell_type": "code",
      "execution_count": 14,
      "metadata": {
        "colab": {
          "base_uri": "https://localhost:8080/"
        },
        "id": "RgphdldZQlm_",
        "outputId": "7d83374c-e4d2-44c3-f80c-ce09c67eb1be"
      },
      "outputs": [
        {
          "output_type": "stream",
          "name": "stdout",
          "text": [
            "Vocabulary:  .,;!-':abcdefghijklmnopqrstuvwxyzABCDEFGHIJKLMNOPQRSTUVWXYZ \n",
            "Size: 60\n"
          ]
        }
      ],
      "source": [
        "import unicodedata\n",
        "import string\n",
        "\n",
        "# Flag to limit the vocabulary to lowercase letters only\n",
        "lowercase_only = False\n",
        "if lowercase_only:\n",
        "    # the lowercase letters (a-z) + some special chars will be in our vocab\n",
        "    characters = \" .,;!-':\" + string.ascii_lowercase\n",
        "else:\n",
        "    # All letters (a-Z) + some special chars will be in our vocab\n",
        "    characters = \" .,;!-':\" + string.ascii_letters\n",
        "    \n",
        "print(f'Vocabulary: {characters} \\nSize: {len(characters)}')\n",
        "\n",
        "class SequenceHandler:\n",
        "    \"\"\"\n",
        "      Utility class to vectorize a sequence of characters. \n",
        "      We will create one instance of this class for every string we want to feed to our model.\n",
        "    \"\"\"\n",
        "    def __init__(self, original_string, max_number_char=-1, lowercase_only=False):\n",
        "        \"\"\"\n",
        "        - original_string: str, the input string to vectorize\n",
        "        - max_number_char: int, whether we want to pad or trim the input sequence. \n",
        "            If max_number_char > 0 the input sequence will be trimmed to max_number_char or will be padded with whitespace\n",
        "        - lowercase_only: bool,\n",
        "            If True, lowercase the input string first to avoid dropping OOV chars.\n",
        "        \"\"\"\n",
        "        \n",
        "        # If lowercase vocab, lowercase the input string as well to avoid dropping the\n",
        "        # OOV capital letters\n",
        "        if lowercase_only:\n",
        "            input_string = original_string.lower()\n",
        "        else:\n",
        "            input_string = original_string\n",
        "\n",
        "        # Keep only letters in the vocab\n",
        "        input_string= \"\".join([s for s in input_string if s in characters])\n",
        "        \n",
        "        # Trim or pad the sequence\n",
        "        if max_number_char > 0 :\n",
        "            if len(input_string) < max_number_char:\n",
        "                input_string = input_string + \" \" * (max_number_char - len(input_string))\n",
        "            else:\n",
        "                input_string = input_string[:max_number_char]\n",
        "            \n",
        "        print(f'Processed string: {original_string} --> {input_string}')\n",
        "        \n",
        "        # Save the input string\n",
        "        self.string = input_string\n",
        "        self.num_characters = len(characters)\n",
        "        \n",
        "        # Mapper to char and back\n",
        "        self.char_to_idx = { ch : i for i, ch in enumerate(characters) }\n",
        "        self.idx_to_char = { i : ch for ch, i in self.char_to_idx.items() }\n",
        "        \n",
        "        self.ohe = self.init_ohe()\n",
        "        print(\"One-hot encoding: \")\n",
        "        print(self.ohe.shape)\n",
        "        print(self.ohe)\n",
        "        self._process()\n",
        "        self._process_for_cl()\n",
        "        \n",
        "    def init_ohe(self):\n",
        "        \"\"\"\n",
        "        This will create a matrix with one hot encoded vectors for each char in the vocab.\n",
        "        Returns:\n",
        "            one_hot (np.ndarray): a collapsed one-hot encoding of all the chars in the vocab.\n",
        "        \"\"\"\n",
        "        one_hot = np.zeros((self.num_characters,self.num_characters), dtype=np.int8)\n",
        "        np.fill_diagonal(one_hot, 1)\n",
        "        return one_hot\n",
        "    \n",
        "    def _process(self):\n",
        "        \"\"\"\n",
        "        This will create the X and y variables of the instance. \n",
        "        In X we will store the vector representation of the sequence in a (N_seq - 1) x embedding_size tensor.\n",
        "        In y we will store the corresponding correct char index value for the next character in the sequence. This will be a tensor of size N_seq, containing integers.\n",
        "        \"\"\"\n",
        "        data_torch = torch.tensor([self.ohe[self.char_to_idx[char]] for char in self.string])\n",
        "        self.X = data_torch[:-1].float()\n",
        "        self.y = torch.argmax(data_torch[1:], dim=1).long()\n",
        "      \n",
        "    # For other purposes\n",
        "    def _process_for_cl(self):\n",
        "        \"\"\"\n",
        "        This will create the X_cl variable of the instance. \n",
        "        In X_cl we will store the vector representation of the sequence in a (N_seq) x embedding_size tensor.\n",
        "        \"\"\"\n",
        "        data_torch = torch.tensor([self.ohe[self.char_to_idx[char]] for char in self.string])\n",
        "        self.X_cl = data_torch[:].float()\n",
        "    \n",
        "    def __repr__(self):\n",
        "        return self.string\n",
        "        \n",
        "    def make_onehot(self, char):\n",
        "        return torch.Tensor(self.ohe[self.char_to_idx[char]]).float()\n",
        "    \n",
        "    def __repr__(self):\n",
        "        return self.string"
      ]
    },
    {
      "cell_type": "code",
      "execution_count": 15,
      "metadata": {
        "colab": {
          "base_uri": "https://localhost:8080/"
        },
        "id": "YgkBHm0YQlnB",
        "outputId": "decffb4a-2ce0-42fc-de33-2b097576ef10"
      },
      "outputs": [
        {
          "output_type": "stream",
          "name": "stdout",
          "text": [
            "Processed string: hello --> hello\n",
            "One-hot encoding: \n",
            "(60, 60)\n",
            "[[1 0 0 ... 0 0 0]\n",
            " [0 1 0 ... 0 0 0]\n",
            " [0 0 1 ... 0 0 0]\n",
            " ...\n",
            " [0 0 0 ... 1 0 0]\n",
            " [0 0 0 ... 0 1 0]\n",
            " [0 0 0 ... 0 0 1]]\n",
            "hello (length: 5)\n",
            "X vectors: torch.Size([4, 60]), Y: torch.Size([4])\n",
            "Input: (in chars)\n",
            "['h', 'e', 'l', 'l']\n",
            "Corresponding target output: (in chars)\n",
            "['e', 'l', 'l', 'o']\n"
          ]
        }
      ],
      "source": [
        "data = SequenceHandler('hello')\n",
        "print(f'{data} (length: {len(data.string)})')\n",
        "print(f'X vectors: {data.X.shape}, Y: {data.y.shape}')\n",
        "print(f'Input: (in chars)')\n",
        "print([data.idx_to_char[x_i.item()] for x_i in data.X.argmax(dim=1)])\n",
        "print(f'Corresponding target output: (in chars)')\n",
        "print([data.idx_to_char[y_i.item()] for y_i in data.y])"
      ]
    },
    {
      "cell_type": "code",
      "execution_count": 8,
      "metadata": {
        "id": "SV_qQj1VQlnC"
      },
      "outputs": [],
      "source": [
        "class RNN(nn.Module):\n",
        "    \"\"\"\n",
        "      Wrapper class that will hold the interface for VanillaRNN, LSTMs and GRUs\n",
        "    \"\"\"\n",
        "    cells = {\n",
        "        \"vanilla\" : VanillaRNN,\n",
        "        # \"LSTM\"    : LSTMCell, # for future implementations\n",
        "        # \"GRU\"     : GRUCell # for future implementations\n",
        "    }\n",
        "    \n",
        "    def __init__(self, \n",
        "                 num_features, \n",
        "                 num_hidden=10, \n",
        "                 num_classes=None, \n",
        "                 cell_type='vanilla'):\n",
        "        super().__init__()\n",
        "\n",
        "        # We default to LM\n",
        "        if num_classes == None:\n",
        "            num_classes = num_features\n",
        "        self.cell_type = cell_type\n",
        "        print(f\"Creating RNN with cell: {cell_type}\")\n",
        "        self.cell = RNN.cells[cell_type](num_features, num_hidden, num_classes)\n",
        "        \n",
        "        self._init_weights()\n",
        "    \n",
        "    def _init_weights(self):\n",
        "        for param in self.cell.parameters():\n",
        "\n",
        "            # Keep track of gradient for backprop\n",
        "            param.requires_grad_(True)\n",
        "            \n",
        "            # If we deal with weights xavier initialization\n",
        "            if param.data.ndimension() >= 2:\n",
        "                nn.init.xavier_uniform_(param.data)\n",
        "            \n",
        "            # Else is a bias term so all zeros\n",
        "            else: \n",
        "                nn.init.zeros_(param.data)\n",
        "                \n",
        "    def forward(self, X):\n",
        "\n",
        "        # Setup outputs container (the output at each step)\n",
        "        outputs = torch.zeros_like(X)\n",
        "        \n",
        "        # Iterate through sequence\n",
        "        self.cell.init()\n",
        "        for i, x in enumerate(X):\n",
        "            outputs[i] = self.cell(x)\n",
        "            \n",
        "        return outputs\n",
        "    \n",
        "    def generate(self, \n",
        "                 data, \n",
        "                 init_char, \n",
        "                 num_steps=5, \n",
        "                 output_type='char'):\n",
        "        \"\"\"\n",
        "        Generate text of length num_steps given an initial character.\n",
        "        \"\"\"\n",
        "        # Check for valid character\n",
        "        if init_char not in data.char_to_idx:\n",
        "            avail_chars = \",\".join(data.char_to_idx.keys())\n",
        "            print(f\"Character not in vocab. Pick another from: {avail_chars}\")\n",
        "            return\n",
        "        \n",
        "        # Use both see for example: https://discuss.pytorch.org/t/model-eval-vs-with-torch-no-grad/19615/3\n",
        "        with torch.no_grad():\n",
        "            self.eval()\n",
        "\n",
        "            # Setup feed that will be used to create the next char\n",
        "            feed = torch.zeros((num_steps, data.num_characters))\n",
        "\n",
        "            # First time feed buffer contains only the first string\n",
        "            feed[0] = data.make_onehot(init_char).unsqueeze(dim=0)\n",
        "            \n",
        "            # The output starts obv. with the first given char\n",
        "            output = [init_char]\n",
        "            \n",
        "            # For the rest of wanted chars\n",
        "            for predict_i in range(num_steps-1):\n",
        "                \n",
        "                # Update the feed buffer up to the current char\n",
        "                feed_in = feed[:predict_i+1]\n",
        "                \n",
        "                # Predict the next char in the sequence\n",
        "                next_chars = self(feed_in)[-1]\n",
        "                \n",
        "                # Get the next char id\n",
        "                next_char_idx = torch.argmax(next_chars).item()\n",
        "                \n",
        "                # Get the next char\n",
        "                next_char = data.idx_to_char[next_char_idx]\n",
        "                \n",
        "                # One hot encode the char and update the feed buffer\n",
        "                feed[predict_i+1] = data.make_onehot(next_char).unsqueeze(dim=0)\n",
        "                \n",
        "                # Update the final output\n",
        "                output.append(next_char)\n",
        "\n",
        "            # Concatenate the chars predicted\n",
        "            if output_type == 'char':\n",
        "                output_str = \"\".join(output)\n",
        "            elif output_type == 'word':\n",
        "                output_str = \" \".join(output)\n",
        "            else:\n",
        "                raise NotImplementedError\n",
        "\n",
        "            return output_str"
      ]
    },
    {
      "cell_type": "markdown",
      "source": [
        "Comments:\n",
        "\n",
        "- The __forward method__ defines how to compute the output and hidden state at any time step, given the current input and the state of the model at the previous time step. Note that the RNN model loops through the outermost dimension of inputs, updating the hidden state one time step at a time."
      ],
      "metadata": {
        "id": "Yvd4k5XwIN9h"
      }
    },
    {
      "cell_type": "markdown",
      "metadata": {
        "id": "j03aDUfYQlnD"
      },
      "source": [
        "#### Setup"
      ]
    },
    {
      "cell_type": "code",
      "execution_count": 17,
      "metadata": {
        "colab": {
          "base_uri": "https://localhost:8080/"
        },
        "id": "B1nckK6JQlnE",
        "outputId": "6ce51c62-898f-48a6-8bb0-a1ac56148fd0"
      },
      "outputs": [
        {
          "output_type": "stream",
          "name": "stdout",
          "text": [
            "Creating RNN with cell: vanilla\n",
            "cell.Wxh torch.Size([60, 50])\n",
            "cell.Whh torch.Size([50, 50])\n",
            "cell.bh torch.Size([50])\n",
            "cell.Why torch.Size([50, 60])\n",
            "cell.by torch.Size([60])\n"
          ]
        }
      ],
      "source": [
        "CELL_TYPE = 'vanilla' # vanilla\n",
        "num_hidden = 50\n",
        "net = RNN(num_features=60, \n",
        "          num_hidden=num_hidden, \n",
        "          cell_type=CELL_TYPE)\n",
        "\n",
        "for name, param in net.named_parameters():\n",
        "    if param.requires_grad:\n",
        "        print(name, param.shape)\n",
        "\n",
        "LR = 0.001\n",
        "optimizer = optim.Adam(net.parameters(), lr=LR)\n",
        "criterion = nn.CrossEntropyLoss()\n",
        "\n",
        "N_EPOCHS = 100\n",
        "print_every_ = 1\n",
        "end_early = False\n",
        "seq_i = \"\"        \n",
        "losses = []"
      ]
    },
    {
      "cell_type": "code",
      "execution_count": 18,
      "metadata": {
        "colab": {
          "base_uri": "https://localhost:8080/",
          "height": 1000
        },
        "id": "1miR_OmJQlnF",
        "outputId": "7e31c542-4f98-4506-ad7d-d85ed1278dd0"
      },
      "outputs": [
        {
          "output_type": "stream",
          "name": "stdout",
          "text": [
            "\rEpoch 1/100 -- Loss: 4.1822 -- Network out: ht-U-\n",
            "\rEpoch 2/100 -- Loss: 4.1369 -- Network out: ht-U-\n",
            "\rEpoch 3/100 -- Loss: 4.0920 -- Network out: ht-U-\n",
            "\rEpoch 4/100 -- Loss: 4.0475 -- Network out: ht-U-\n",
            "\rEpoch 5/100 -- Loss: 4.0033 -- Network out: ht-U-\n",
            "\rEpoch 6/100 -- Loss: 3.9594 -- Network out: ht-U-\n",
            "\rEpoch 7/100 -- Loss: 3.9157 -- Network out: ht-U-\n",
            "\rEpoch 8/100 -- Loss: 3.8720 -- Network out: ht-U-\n",
            "\rEpoch 9/100 -- Loss: 3.8282 -- Network out: ht-U-\n",
            "\rEpoch 10/100 -- Loss: 3.7843 -- Network out: ht-U-\n",
            "\rEpoch 11/100 -- Loss: 3.7401 -- Network out: hehl-\n",
            "\rEpoch 12/100 -- Loss: 3.6956 -- Network out: hehl-\n",
            "\rEpoch 13/100 -- Loss: 3.6506 -- Network out: hehlo\n",
            "\rEpoch 14/100 -- Loss: 3.6049 -- Network out: hehlo\n",
            "\rEpoch 15/100 -- Loss: 3.5586 -- Network out: hehlo\n",
            "\rEpoch 16/100 -- Loss: 3.5116 -- Network out: hehlo\n",
            "\rEpoch 17/100 -- Loss: 3.4636 -- Network out: hehlo\n",
            "\rEpoch 18/100 -- Loss: 3.4148 -- Network out: heXMo\n",
            "\rEpoch 19/100 -- Loss: 3.3649 -- Network out: heXMo\n",
            "\rEpoch 20/100 -- Loss: 3.3140 -- Network out: hello\n",
            "\n",
            "Ending early. Converged in 19 epochs.\n"
          ]
        },
        {
          "output_type": "display_data",
          "data": {
            "text/plain": [
              "<Figure size 864x864 with 1 Axes>"
            ],
            "image/png": "[encoded data removed]"
          },
          "metadata": {
            "needs_background": "light"
          }
        },
        {
          "output_type": "stream",
          "name": "stdout",
          "text": [
            "Last Output:  tensor([[ 0.1980, -0.0538, -0.0194,  0.1280, -0.1116, -0.0205, -0.2556, -0.1488,\n",
            "         -0.1919,  0.0942,  0.1398, -0.2608,  0.4029,  0.1110, -0.2841, -0.0838,\n",
            "         -0.0808, -0.0808, -0.1033,  0.2159, -0.3638, -0.0933,  0.2076,  0.0664,\n",
            "         -0.1343,  0.1058, -0.1157,  0.2689, -0.1321, -0.0088, -0.0929,  0.0932,\n",
            "          0.0103, -0.2244, -0.0203, -0.3138, -0.1308,  0.1610,  0.0530, -0.1401,\n",
            "          0.0543, -0.0597,  0.2261, -0.0398, -0.2091, -0.0219, -0.0593,  0.2413,\n",
            "         -0.0228,  0.0789,  0.0790, -0.2553,  0.0477, -0.1935, -0.1930, -0.1498,\n",
            "         -0.1287, -0.1787, -0.1480,  0.1305],\n",
            "        [ 0.2060,  0.1831, -0.3431, -0.0273, -0.0360,  0.1427, -0.0487, -0.1122,\n",
            "         -0.0910,  0.1935, -0.1512, -0.1774,  0.0409, -0.2532,  0.2465,  0.2728,\n",
            "         -0.3141,  0.1985, -0.0588,  0.2525, -0.1591, -0.5165, -0.2155,  0.2668,\n",
            "         -0.0938, -0.0680,  0.0899, -0.1688, -0.0510, -0.0066,  0.0600,  0.0353,\n",
            "         -0.1124, -0.1392,  0.0183,  0.0450,  0.0482, -0.1303, -0.1326,  0.1663,\n",
            "         -0.1297,  0.1766, -0.0574, -0.0838, -0.2657, -0.2761,  0.0904, -0.2767,\n",
            "          0.0936, -0.1984, -0.0175,  0.0072, -0.1968, -0.2340,  0.1487, -0.3910,\n",
            "          0.1545,  0.2737, -0.3386,  0.0282],\n",
            "        [-0.1601, -0.7531, -0.1231, -0.2226, -0.5377, -0.3192, -0.1603, -0.3478,\n",
            "         -0.1909,  0.1171, -0.2627, -0.0426, -0.1541,  0.5242, -0.5705, -0.3429,\n",
            "         -0.2186, -0.0450,  0.1335,  0.7922, -0.0033, -0.0735, -0.4789, -0.5128,\n",
            "          0.3656, -0.3315, -0.2177,  0.2477, -0.2081,  0.0587,  0.0402, -0.3213,\n",
            "         -0.1147,  0.0916, -0.2617, -0.2262,  0.2701,  0.0524, -0.1295, -0.3624,\n",
            "         -0.3508,  0.0374, -0.4189, -0.1327, -0.2030, -0.1386,  0.2595,  0.0922,\n",
            "         -0.5709, -0.0909,  0.0310, -0.3355,  0.0689,  0.1312, -0.0802,  0.0813,\n",
            "         -0.1793, -0.3553,  0.2543, -0.6625],\n",
            "        [-0.3042,  0.2323, -0.5116, -0.3191, -0.7594,  0.4402,  0.1760, -0.7992,\n",
            "          0.5328, -0.2054,  0.1198, -0.3929,  0.6607,  0.3547, -0.4262, -0.1870,\n",
            "         -0.1148,  0.0528,  0.1313,  0.1610, -0.1316, -0.3321,  1.4940, -0.4073,\n",
            "         -0.0402,  0.3203, -0.3090,  0.3249, -0.0702, -0.4340, -0.2634,  0.1718,\n",
            "          0.0339, -0.2505, -0.5952, -0.3098, -0.3079, -0.3005, -0.4609, -0.5383,\n",
            "         -0.0156, -1.1625, -0.5858, -0.5588, -0.1533, -0.9398, -0.7353, -0.1940,\n",
            "         -0.6466,  0.1131, -0.1446, -0.7072, -0.1033,  0.1027, -0.0597, -0.1661,\n",
            "         -0.1231, -0.0056,  0.1826,  0.2113]], grad_fn=<CopySlices>)\n"
          ]
        }
      ],
      "source": [
        " # Ensure net in training mode\n",
        "net.train()\n",
        "\n",
        "for epoch_i in range(N_EPOCHS):\n",
        "\n",
        "    # Zero out gradients\n",
        "    optimizer.zero_grad()\n",
        "    \n",
        "    # Get net output, calculate loss, and generate gradients\n",
        "    output = net(data.X)\n",
        "    loss = criterion(output, data.y)\n",
        "\n",
        "    # Generate gradients via autograd\n",
        "    loss.backward() \n",
        "    \n",
        "    # Step\n",
        "    # -----------------------------------\n",
        "    # Clip params\n",
        "    for param in net.parameters():\n",
        "        if param.grad is None:\n",
        "            continue\n",
        "        grad_val = torch.clamp(param.grad, -5, 5)\n",
        "    optimizer.step()\n",
        "    # -----------------------------------\n",
        "    \n",
        "    # Track loss\n",
        "    # CE loss\n",
        "    losses.append(loss.item())\n",
        "    \n",
        "    # Qualitative Eval\n",
        "    if epoch_i % print_every_ == 0:\n",
        "        seq_i = net.generate(data, data.string[0], num_steps=len(data.string))\n",
        "        \n",
        "        if seq_i == data.string:\n",
        "            end_early = True\n",
        "            \n",
        "        # Stdout\n",
        "        # --------------------------------\n",
        "        str_ = f'\\rEpoch {epoch_i+1}/{N_EPOCHS} -- Loss: {losses[-1]:0.4f} -- Network out: {seq_i}'\n",
        "        print(str_)\n",
        "        # --------------------------------\n",
        "    \n",
        "    if end_early:\n",
        "        print(f\"\\nEnding early. Converged in {epoch_i} epochs.\")\n",
        "        break\n",
        "        \n",
        "\n",
        "plt.figure(figsize=(12,12))\n",
        "plt.plot(losses)\n",
        "plt.xlabel('# of epochs', fontsize=12)\n",
        "plt.ylabel('CE - Loss', fontsize=12)\n",
        "plt.show()\n",
        "print(\"Last Output: \", output)"
      ]
    },
    {
      "cell_type": "markdown",
      "metadata": {
        "id": "oWYND9yfQlnG"
      },
      "source": [
        "### Questions\n",
        "- Do we really need all these epochs? Try tweaking hidden and LR? What's the expected outcome.\n",
        "- What's the final output? How do we get predictions. Can we calculate accuracy?\n",
        "- Qualitative early stopping. In the future what?\n",
        "- Better use a function to wrap-around..."
      ]
    },
    {
      "cell_type": "code",
      "execution_count": 9,
      "metadata": {
        "colab": {
          "base_uri": "https://localhost:8080/"
        },
        "id": "fgrWaoafQlnG",
        "outputId": "309c36aa-a66a-48e2-85d1-b874151cb98a"
      },
      "outputs": [
        {
          "output_type": "stream",
          "name": "stdout",
          "text": [
            "Accuracy: 75.00 %\n"
          ]
        }
      ],
      "source": [
        "def get_accuracy(y_true, y_pred):\n",
        "    \"\"\"\n",
        "    Simple utility function to get the accuracy given the tensors with the true values (y_true) and\n",
        "    a tensor with logits or probas.\n",
        "    Input:\n",
        "    - y_true: torch.Tensor,\n",
        "    shape N, containing the class index for N samples\n",
        "    - y_pred: torch.Tensor,\n",
        "    shape N x num_classes, containing logit / probas values on each cell for the corresponding class per sample\n",
        "    Output: accuracy, float range 0-1\n",
        "    \"\"\"\n",
        "    return (y_pred.argmax(dim=1) == y_true).sum().item() / float(len(y_true))\n",
        "print(f'Accuracy: {100 * get_accuracy(data.y, output):.2f} %')"
      ]
    },
    {
      "cell_type": "code",
      "execution_count": 10,
      "metadata": {
        "colab": {
          "base_uri": "https://localhost:8080/"
        },
        "id": "DzcH8rB-QlnH",
        "outputId": "14d7561a-0018-4993-d24b-fbf90f46d194"
      },
      "outputs": [
        {
          "output_type": "stream",
          "name": "stdout",
          "text": [
            "Class: (12) e : 2.55 %\n",
            "Class: (27) t : 2.23 %\n",
            "Class: (47) N : 2.17 %\n",
            "Class: (42) I : 2.13 %\n",
            "Class: (19) l : 2.11 %\n",
            "Class: (22) o : 2.09 %\n",
            "Class: (0)   : 2.07 %\n",
            "Class: (37) D : 2.00 %\n",
            "Class: (10) c : 1.96 %\n",
            "Class: (59) Z : 1.94 %\n",
            "Class: (3) ; : 1.93 %\n",
            "Class: (13) f : 1.90 %\n",
            "Class: (25) r : 1.89 %\n",
            "Class: (9) b : 1.87 %\n",
            "Class: (31) x : 1.87 %\n",
            "Class: (50) Q : 1.84 %\n",
            "Class: (49) P : 1.84 %\n",
            "Class: (23) p : 1.82 %\n",
            "Class: (40) G : 1.80 %\n",
            "Class: (38) E : 1.79 %\n",
            "Class: (52) S : 1.78 %\n",
            "Class: (32) y : 1.72 %\n",
            "Class: (29) v : 1.69 %\n",
            "Class: (2) , : 1.67 %\n",
            "Class: (34) A : 1.67 %\n",
            "Class: (5) - : 1.67 %\n",
            "Class: (45) L : 1.66 %\n",
            "Class: (48) O : 1.66 %\n",
            "Class: (43) J : 1.63 %\n",
            "Class: (1) . : 1.61 %\n",
            "Class: (46) M : 1.60 %\n",
            "Class: (41) H : 1.60 %\n",
            "Class: (17) j : 1.57 %\n",
            "Class: (16) i : 1.57 %\n",
            "Class: (15) h : 1.56 %\n",
            "Class: (30) w : 1.55 %\n",
            "Class: (21) n : 1.55 %\n",
            "Class: (18) k : 1.53 %\n",
            "Class: (4) ! : 1.52 %\n",
            "Class: (26) s : 1.52 %\n",
            "Class: (56) W : 1.50 %\n",
            "Class: (36) C : 1.49 %\n",
            "Class: (28) u : 1.49 %\n",
            "Class: (24) q : 1.49 %\n",
            "Class: (39) F : 1.48 %\n",
            "Class: (58) Y : 1.47 %\n",
            "Class: (7) : : 1.47 %\n",
            "Class: (55) V : 1.46 %\n",
            "Class: (57) X : 1.42 %\n",
            "Class: (8) a : 1.40 %\n",
            "Class: (54) U : 1.40 %\n",
            "Class: (53) T : 1.40 %\n",
            "Class: (44) K : 1.38 %\n",
            "Class: (33) z : 1.36 %\n",
            "Class: (51) R : 1.32 %\n",
            "Class: (6) ' : 1.32 %\n",
            "Class: (11) d : 1.31 %\n",
            "Class: (14) g : 1.28 %\n",
            "Class: (35) B : 1.24 %\n",
            "Class: (20) m : 1.18 %\n"
          ]
        }
      ],
      "source": [
        "# To get probas from logits we can use the F.softmax function\n",
        "# Get sorted probas per class for first input. First input was 'h' and we expect the most probable value to be 'e'\n",
        "sorted_values, sorted_class_indexes = F.softmax(output[0,:], dim=0).sort(descending=True)\n",
        "\n",
        "for i, class_index in enumerate(sorted_class_indexes.data.numpy()):\n",
        "    print(f'Class: ({class_index}) {data.idx_to_char[class_index]} : {100*sorted_values[i]:.2f} %')"
      ]
    },
    {
      "cell_type": "markdown",
      "metadata": {
        "id": "6FZgQ3aPQlnI"
      },
      "source": [
        "#### Generate text"
      ]
    },
    {
      "cell_type": "code",
      "execution_count": 19,
      "metadata": {
        "colab": {
          "base_uri": "https://localhost:8080/",
          "height": 53
        },
        "id": "6sPSW8RdQlnJ",
        "outputId": "6f877e0d-dfa0-4e15-c7d3-20096a238a48"
      },
      "outputs": [
        {
          "output_type": "stream",
          "name": "stdout",
          "text": [
            "Starting with letter: h\n"
          ]
        },
        {
          "output_type": "execute_result",
          "data": {
            "text/plain": [
              "'hello'"
            ],
            "application/vnd.google.colaboratory.intrinsic+json": {
              "type": "string"
            }
          },
          "metadata": {},
          "execution_count": 19
        }
      ],
      "source": [
        "init_char = data.string[0]\n",
        "print(f'Starting with letter: {init_char}')\n",
        "net.generate(data, init_char, num_steps=len(data.string[0:]))"
      ]
    },
    {
      "cell_type": "markdown",
      "source": [
        "## Gradients explode or vanish 💣 - the curse of RNNs\n",
        "\n",
        "While you are already used to thinking of neural networks as “deep” in the sense that many layers separate the input and output even within a single time step, the length of the sequence introduces a new notion of depth. In addition to the passing through the network in the input-to-output direction, inputs at the first time step must pass through a chain of T layers along the time steps in order to influence the output of the model at the final time step. Taking the backwards view, in each iteration, we backpropagate gradients through time, resulting in a chain of matrix-products with length O(T). This can result in numerical instability, causing the gradients to either explode or vanish depending on the properties of the weight matrices.\n",
        "\n",
        "Dealing with vanishing and exploding gradients is a fundamental problem when designing RNNs and has inspired some of the biggest advances in modern neural network architectures. \n",
        "\n",
        "### Gradient Clipping (heuristic) for the rescue\n",
        "\n",
        "This ensures that the gradient norm never exceeds the radius and that the updated gradient is entirely aligned with the original direction of gradient. It also has the desirable side-effect of limiting the influence any given minibatch (and within it any given sample) can exert on the parameter vector. This bestows a certain degree of robustness to the model. To be clear, it’s a hack. Gradient clipping means that we are not always following the true gradient and it’s hard to reason analytically about the possible side effects. However, it’s a very useful hack, and is widely adopted in RNN implementations in most deep learning frameworks.\n",
        "\n"
      ],
      "metadata": {
        "id": "d6vgVdLUJfhx"
      }
    },
    {
      "cell_type": "markdown",
      "metadata": {
        "id": "WeH6WNo7QlnK"
      },
      "source": [
        "# LSTM - Long Short-Term Memory\n",
        "\n",
        "\n",
        "---\n",
        "\n",
        "\n",
        "Although **gradient clipping** helps with **exploding gradients**, handling **vanishing gradients** appears to require a more elaborate solution. One of the first and most successful techniques for addressing vanishing gradients came in the form of the long short-term memory (LSTM) model due to Hochreiter and Schmidhuber (1997). LSTMs resemble standard recurrent neural networks but here each ordinary recurrent node is replaced by a **memory cell**. Each memory cell contains an internal state, i.e., a node with a self-connected recurrent edge of fixed weight 1, ensuring that the gradient can pass across many time steps without vanishing or exploding.\n",
        "\n",
        "\n",
        "### Memory cell\n",
        "\n",
        "Each memory cell is equipped with an internal state and a number of multiplicative gates that determine whether \n",
        "1. a given input should impact the internal state (the input gate), \n",
        "2. the internal state should be flushed to  (the forget gate), and \n",
        "3. the internal state of a given neuron should be allowed to impact the cell’s output (the output gate).\n",
        "\n",
        "The data feeding into the LSTM gates are the input at the current time step and the hidden state of the previous time step, as illustrated in Fig. 10.1.1. Three fully connected layers with sigmoid activation functions compute the values of the input, forget, and output gates. As a result of the sigmoid activation, all values of the three gates are in the range of (0, 1). Additionally, we require an input node, typically computed with a tanh activation function. \n",
        "\n",
        "Intuitively:\n",
        "- the input gate determines how much of the input node’s value should be added to the current memory cell internal state\n",
        "- the forget gate determines whether to keep the current value of the memory or flush it\n",
        "- the output gate determines whether the memory cell should influence the output at the current time step.\n",
        "\n",
        "<img src=\"https://github.com/AI-team-UoA/Courses/blob/main/Deep-Learning-for-NLP-YS19/RNNs/images/fig1011.png?raw=true\" width=\"700\">\n"
      ]
    },
    {
      "cell_type": "markdown",
      "metadata": {
        "id": "T0Gt95a2QlnK"
      },
      "source": [
        "<img src=\"https://github.com/AI-team-UoA/Courses/blob/main/Deep-Learning-for-NLP-YS19/RNNs/images/lstm.png?raw=true\" width=\"1000\">\n",
        "\n",
        "\n",
        "Link for more: https://d2l.ai/chapter_recurrent-modern/lstm.html"
      ]
    },
    {
      "cell_type": "markdown",
      "source": [
        "Question: What's the difference between Vanilla RNNs and LSTMs?\n",
        "\n",
        "> The latter support gating of the hidden state. This means that we have dedicated mechanisms for when a hidden state should be updated and also when it should be reset. These mechanisms are learned and they address the concerns listed above. For instance, if the first token is of great importance we will learn not to update the hidden state after the first observation. Likewise, we will learn to skip irrelevant temporary observations. Last, we will learn to reset the latent state whenever needed. We discuss this in detail below.\n",
        "\n"
      ],
      "metadata": {
        "id": "fjt5RigpOWw2"
      }
    },
    {
      "cell_type": "markdown",
      "source": [
        "## Implementation of LSTM from scratch"
      ],
      "metadata": {
        "id": "_Z74qViYgTzb"
      }
    },
    {
      "cell_type": "code",
      "execution_count": 12,
      "metadata": {
        "id": "vbpemQoDQlnK"
      },
      "outputs": [],
      "source": [
        "class LSTMCell(nn.Module):\n",
        "    def __init__(self, num_features, num_hidden, num_classes):\n",
        "        super().__init__()\n",
        "        \n",
        "        self.num_features = num_features\n",
        "        self.num_hidden = num_hidden\n",
        "        self.num_classes = num_classes\n",
        "        \n",
        "        # Network Parameters\n",
        "        # New cell content\n",
        "        self.Wxh = nn.Parameter(torch.randn((num_features, num_hidden)))\n",
        "        self.Whh = nn.Parameter(torch.randn((num_hidden, num_hidden)))\n",
        "        self.bh = nn.Parameter(torch.zeros((num_hidden)))\n",
        "        \n",
        "        # Input gate parameters\n",
        "        self.Wxh_i = nn.Parameter(torch.randn_like(self.Wxh))\n",
        "        self.Whh_i = nn.Parameter(torch.randn_like(self.Whh))\n",
        "        self.bh_i = nn.Parameter(torch.randn_like(self.bh))\n",
        "        \n",
        "        # Forget gate parameters\n",
        "        self.Wxh_f = nn.Parameter(torch.randn_like(self.Wxh))\n",
        "        self.Whh_f = nn.Parameter(torch.randn_like(self.Whh))\n",
        "        self.bh_f = nn.Parameter(torch.randn_like(self.bh))\n",
        "        \n",
        "        # Output gate parameters\n",
        "        self.Wxh_o = nn.Parameter(torch.randn_like(self.Wxh))\n",
        "        self.Whh_o = nn.Parameter(torch.randn_like(self.Whh))\n",
        "        self.bh_o = nn.Parameter(torch.randn_like(self.bh))\n",
        "        \n",
        "        # Hidden -> Output\n",
        "        self.Why = nn.Parameter(torch.randn((num_hidden, self.num_classes)))\n",
        "        self.by = nn.Parameter(torch.zeros((self.num_classes))) \n",
        "        \n",
        "        # Activations\n",
        "        self.tanh = nn.Tanh()\n",
        "        self.sigmoid = nn.Sigmoid()\n",
        "    \n",
        "    def init(self):\n",
        "        self.h = torch.zeros((self.num_hidden))  # Hidden state\n",
        "        self.c = torch.zeros((self.num_hidden))  # Cell state\n",
        "        \n",
        "    def forward(self, x):\n",
        "        potential_input = self.tanh((x @ self.Wxh) + (self.h @ self.Whh + self.bh))\n",
        "        \n",
        "        # Gate updates\n",
        "        input_gate = self.sigmoid((x @ self.Wxh_i) + (self.h @ self.Whh_i + self.bh_i))\n",
        "        forget_gate = self.sigmoid((x @ self.Wxh_f) + (self.h @ self.Whh_f + self.bh_f))\n",
        "        output_gate = self.sigmoid((x @ self.Wxh_o) + (self.h @ self.Whh_o + self.bh_o))\n",
        "        \n",
        "        # Update c and h\n",
        "        self.c = self.c * forget_gate + potential_input * input_gate\n",
        "        self.h = output_gate * self.tanh(self.c)\n",
        "        \n",
        "        y_output = self.h @ self.Why + self.by\n",
        "        \n",
        "        return y_output"
      ]
    },
    {
      "cell_type": "markdown",
      "metadata": {
        "id": "HX6jFsEDQlnL"
      },
      "source": [
        "## Update setup"
      ]
    },
    {
      "cell_type": "code",
      "execution_count": 13,
      "metadata": {
        "colab": {
          "base_uri": "https://localhost:8080/",
          "height": 404
        },
        "id": "mPBB0dO4QlnL",
        "outputId": "c1123676-dc12-4c20-ed20-31b1c50e614f"
      },
      "outputs": [
        {
          "output_type": "stream",
          "name": "stdout",
          "text": [
            "\rEpoch 1/500 -- Loss: 4.1151 -- Network out: hDwJc\n",
            "Epoch 11/500 -- Loss: 4.0250 -- Network out: hNbgm\n",
            "Epoch 21/500 -- Loss: 3.9296 -- Network out: hloel\n",
            "Epoch 31/500 -- Loss: 3.8114 -- Network out: hloel\n",
            "Epoch 41/500 -- Loss: 3.6418 -- Network out: hello\n",
            "\n",
            "Ending early. Converged in 40 epochs.\n"
          ]
        },
        {
          "output_type": "display_data",
          "data": {
            "text/plain": [
              "<Figure size 432x288 with 1 Axes>"
            ],
            "image/png": "[encoded data removed]"
          },
          "metadata": {
            "needs_background": "light"
          }
        }
      ],
      "source": [
        "RNN.cells['LSTM'] = LSTMCell\n",
        "CELL_TYPE = 'LSTM'\n",
        "num_hidden = 50\n",
        "net = RNN(num_features=data.num_characters, \n",
        "          num_hidden=num_hidden, \n",
        "          cell_type=CELL_TYPE)\n",
        "\n",
        "LR = 0.001\n",
        "\n",
        "optimizer = optim.Adam(net.parameters(), lr=LR)\n",
        "criterion = nn.CrossEntropyLoss()\n",
        "losses = []\n",
        "\n",
        "N_EPOCHS = 500\n",
        "print_every_ = 10\n",
        "end_early = False\n",
        "seq_i = \"\"\n",
        "\n",
        "\n",
        " # Ensure net in training mode\n",
        "net.train()\n",
        "\n",
        "for epoch_i in range(N_EPOCHS):\n",
        "\n",
        "    # Zero out gradients\n",
        "    optimizer.zero_grad()\n",
        "    \n",
        "    # Get net output, calculate loss, and generate gradients\n",
        "    output = net(data.X)\n",
        "    loss = criterion(output, data.y)\n",
        "\n",
        "    # Generate gradients via autodiff\n",
        "    loss.backward() \n",
        "    \n",
        "    # Step\n",
        "    # -----------------------------------\n",
        "    # Clip params\n",
        "    for param in net.parameters():\n",
        "        if param.grad is None:\n",
        "            continue\n",
        "        grad_val = torch.clamp(param.grad, -5, 5)\n",
        "    optimizer.step()\n",
        "    # -----------------------------------\n",
        "    \n",
        "    # Track loss\n",
        "    # CE loss\n",
        "    losses.append(loss.item())\n",
        "    \n",
        "    # Qualitative Eval\n",
        "    if epoch_i % print_every_ == 0:\n",
        "        seq_i = net.generate(data, data.string[0], num_steps=len(data.string))\n",
        "        \n",
        "        if seq_i == data.string:\n",
        "            end_early = True\n",
        "            \n",
        "        # Stdout\n",
        "        # --------------------------------\n",
        "        str_ = f'\\rEpoch {epoch_i+1}/{N_EPOCHS} -- Loss: {losses[-1]:0.4f} -- Network out: {seq_i}'\n",
        "        print(str_)\n",
        "        # --------------------------------\n",
        "    \n",
        "    if end_early:\n",
        "        print(f\"\\nEnding early. Converged in {epoch_i} epochs.\")\n",
        "        break\n",
        "    \n",
        "plt.plot(losses)\n",
        "plt.xlabel('# of epochs', fontsize=12)\n",
        "plt.ylabel('CE - Loss', fontsize=12)\n",
        "plt.show()"
      ]
    },
    {
      "cell_type": "markdown",
      "metadata": {
        "id": "9K5BydAwQlnN"
      },
      "source": [
        "# GRU - Gated Recurrent Units\n",
        "\n",
        "\n",
        "---\n",
        "\n",
        "\n",
        "The gated recurrent unit (GRU) (Cho et al., 2014) offered a streamlined version of the LSTM memory cell that often achieves comparable performance but with the advantage of being faster to compute.\n",
        "\n",
        "\n",
        "LSTM’s three gates are replaced by two: \n",
        "- the reset gate and \n",
        "- the update gate. \n",
        "\n",
        "As with LSTMs, these gates are given sigmoid activations, forcing their values to lie in the interval (0,1). \n",
        "\n",
        "\n",
        "Intuitively, \n",
        "- the reset gate controls how much of the previous state we might still want to remember\n",
        "- an update gate would allow us to control how much of the new state is just a copy of the old state. \n",
        "\n",
        "GRUs have the following two distinguishing features:\n",
        "\n",
        "- Reset gates help capture short-term dependencies in sequences.\n",
        "- Update gates help capture long-term dependencies in sequences.\n",
        "\n",
        "<img src=\"https://github.com/AI-team-UoA/Courses/blob/main/Deep-Learning-for-NLP-YS19/RNNs/images/gru.png?raw=true\" width=\"1000\">"
      ]
    },
    {
      "cell_type": "code",
      "execution_count": 14,
      "metadata": {
        "id": "A9i0VYZoQlnN"
      },
      "outputs": [],
      "source": [
        "class GRUCell(nn.Module):\n",
        "    def __init__(self, num_features, num_hidden, num_classes):\n",
        "        super().__init__()\n",
        "        \n",
        "        self.num_features = num_features\n",
        "        self.num_hidden = num_hidden\n",
        "        self.num_classes = num_classes\n",
        "        \n",
        "        # Network Parameters\n",
        "        # Potential Input\n",
        "        self.Wxh = nn.Parameter(torch.randn((num_features, num_hidden)))\n",
        "        self.Whh = nn.Parameter(torch.randn((num_hidden, num_hidden)))\n",
        "        self.bh = nn.Parameter(torch.zeros((num_hidden)))\n",
        "        \n",
        "        # Update gate parameters\n",
        "        self.Wxh_u = nn.Parameter(torch.randn_like(self.Wxh))\n",
        "        self.Whh_u = nn.Parameter(torch.randn_like(self.Whh))\n",
        "        self.bh_u = nn.Parameter(torch.randn_like(self.bh))\n",
        "        \n",
        "        # Reset gate parameters\n",
        "        self.Wxh_r = nn.Parameter(torch.randn_like(self.Wxh))\n",
        "        self.Whh_r = nn.Parameter(torch.randn_like(self.Whh))\n",
        "        self.bh_r = nn.Parameter(torch.randn_like(self.bh))\n",
        "        \n",
        "        # Hidden -> Output\n",
        "        self.Why = nn.Parameter(torch.randn((num_hidden, self.num_classes)))\n",
        "        self.by = nn.Parameter(torch.zeros((self.num_classes))) \n",
        "        \n",
        "        # Activations\n",
        "        self.tanh = nn.Tanh()\n",
        "        self.sigmoid = nn.Sigmoid()\n",
        "    \n",
        "    def init(self):\n",
        "        self.h = torch.zeros((self.num_hidden))  # Hidden state\n",
        "        \n",
        "    def forward(self, x):\n",
        "        \n",
        "        # Gate updates\n",
        "        update_gate = self.sigmoid((x @ self.Wxh_u) + (self.h @ self.Whh_u + self.bh_u))\n",
        "        reset_gate = self.sigmoid((x @ self.Wxh_r) + (self.h @ self.Whh_r + self.bh_r))\n",
        "        \n",
        "        potential_input = self.tanh((x @ self.Wxh) + (reset_gate @ self.Whh + self.bh))\n",
        "        \n",
        "        self.h = self.h * (1-update_gate) + (potential_input * update_gate)\n",
        "        y_output = self.h @ self.Why + self.by\n",
        "        \n",
        "        return y_output"
      ]
    },
    {
      "cell_type": "markdown",
      "source": [
        "Configure the GRU training"
      ],
      "metadata": {
        "id": "8XBgg4Coi1W1"
      }
    },
    {
      "cell_type": "code",
      "execution_count": 15,
      "metadata": {
        "colab": {
          "base_uri": "https://localhost:8080/",
          "height": 508
        },
        "id": "coHpWt4AQlnO",
        "outputId": "b3c26810-7c9f-4f29-b86d-4a86fbd13562"
      },
      "outputs": [
        {
          "output_type": "stream",
          "name": "stdout",
          "text": [
            "\rEpoch 1/500 -- Loss: 4.2630 -- Network out: hMGMG\n",
            "\rEpoch 11/500 -- Loss: 3.3905 -- Network out: hllll\n",
            "Epoch 21/500 -- Loss: 2.6097 -- Network out: hllll\n",
            "Epoch 31/500 -- Loss: 1.9793 -- Network out: hllll\n",
            "Epoch 41/500 -- Loss: 1.5481 -- Network out: hllll\n",
            "Epoch 51/500 -- Loss: 1.2567 -- Network out: hllll\n",
            "Epoch 61/500 -- Loss: 1.0792 -- Network out: hllll\n",
            "Epoch 71/500 -- Loss: 0.9534 -- Network out: hllll\n",
            "Epoch 81/500 -- Loss: 0.8562 -- Network out: hllll\n",
            "Epoch 91/500 -- Loss: 0.7737 -- Network out: helll\n",
            "Epoch 101/500 -- Loss: 0.7003 -- Network out: hello\n",
            "\n",
            "Ending early. Converged in 100 epochs.\n"
          ]
        },
        {
          "output_type": "display_data",
          "data": {
            "text/plain": [
              "<Figure size 432x288 with 1 Axes>"
            ],
            "image/png": "[encoded data removed]"
          },
          "metadata": {
            "needs_background": "light"
          }
        }
      ],
      "source": [
        "RNN.cells['GRU'] = GRUCell\n",
        "CELL_TYPE = 'GRU'\n",
        "num_hidden = 50\n",
        "net = RNN(num_features=data.num_characters, num_hidden=num_hidden, cell_type=CELL_TYPE)\n",
        "\n",
        "LR = 0.001\n",
        "\n",
        "optimizer = optim.Adam(net.parameters(), lr=LR)\n",
        "criterion = nn.CrossEntropyLoss()\n",
        "losses = []\n",
        "\n",
        "N_EPOCHS = 500\n",
        "print_every_ = 10\n",
        "end_early = False\n",
        "seq_i = \"\"\n",
        "\n",
        "\n",
        " # Ensure net in training mode\n",
        "net.train()\n",
        "for epoch_i in range(N_EPOCHS):\n",
        "    # Zero out gradients\n",
        "    optimizer.zero_grad()\n",
        "    \n",
        "    # Get net output, calculate loss, and generate gradients\n",
        "    output = net(data.X)\n",
        "    loss = criterion(output, data.y)\n",
        "    # Generate gradients via autodiff\n",
        "    loss.backward() \n",
        "    \n",
        "    # Step\n",
        "    # -----------------------------------\n",
        "    # Clip params\n",
        "    for param in net.parameters():\n",
        "        if param.grad is None:\n",
        "            continue\n",
        "        grad_val = torch.clamp(param.grad, -5, 5)\n",
        "    optimizer.step()\n",
        "    # -----------------------------------\n",
        "    \n",
        "    # Track loss\n",
        "    # CE loss\n",
        "    losses.append(loss.item())\n",
        "    \n",
        "    # Qualitative Eval\n",
        "    if epoch_i % print_every_ == 0:\n",
        "        seq_i = net.generate(data, data.string[0], num_steps=len(data.string))\n",
        "        \n",
        "        if seq_i == data.string:\n",
        "            end_early = True\n",
        "            \n",
        "        # Stdout\n",
        "        # --------------------------------\n",
        "        str_ = f'\\rEpoch {epoch_i+1}/{N_EPOCHS} -- Loss: {losses[-1]:0.4f} -- Network out: {seq_i}'\n",
        "        print(str_)\n",
        "        # --------------------------------\n",
        "    \n",
        "    if end_early:\n",
        "        print(f\"\\nEnding early. Converged in {epoch_i} epochs.\")\n",
        "        break\n",
        "    \n",
        "plt.plot(losses)\n",
        "plt.xlabel('# of epochs', fontsize=12)\n",
        "plt.ylabel('CE - Loss', fontsize=12)\n",
        "plt.show()"
      ]
    },
    {
      "cell_type": "markdown",
      "metadata": {
        "id": "zyUR-v18QlnO"
      },
      "source": [
        "## Long-term dependecies"
      ]
    },
    {
      "cell_type": "code",
      "execution_count": 16,
      "metadata": {
        "colab": {
          "base_uri": "https://localhost:8080/"
        },
        "id": "te7SVhibQlnP",
        "outputId": "6fa422ad-a3be-4829-f993-25aaeedfac26"
      },
      "outputs": [
        {
          "output_type": "stream",
          "name": "stdout",
          "text": [
            "Processed string: The quick brown fox jumps over the lazy dog --> The quick brown fox jumps over the lazy dog\n"
          ]
        }
      ],
      "source": [
        "data = SequenceHandler('The quick brown fox jumps over the lazy dog')"
      ]
    },
    {
      "cell_type": "code",
      "execution_count": 17,
      "metadata": {
        "colab": {
          "base_uri": "https://localhost:8080/"
        },
        "id": "45JUqda6QlnP",
        "outputId": "6145d1e5-f48d-4e8b-a199-158515897190"
      },
      "outputs": [
        {
          "output_type": "stream",
          "name": "stdout",
          "text": [
            "Fitting vanilla...\n",
            "\n",
            "Ending early. Converged in 20 epochs.\n",
            "Epoch 21/500 -- Loss: 0.4322 -- Network out: The quick brown fox jumps over the lazy dog\n",
            "~~~~~~~~~~~~~~~~~~~~~~~~~~~~~~~~~~~~~~~~~~~~~~~~~~\n",
            "Fitting LSTM...\n",
            "\n",
            "Ending early. Converged in 50 epochs.\n",
            "Epoch 51/500 -- Loss: 0.2151 -- Network out: The quick brown fox jumps over the lazy dog\n",
            "~~~~~~~~~~~~~~~~~~~~~~~~~~~~~~~~~~~~~~~~~~~~~~~~~~\n",
            "Fitting GRU...\n",
            "\n",
            "Ending early. Converged in 40 epochs.\n",
            "Epoch 41/500 -- Loss: 0.4050 -- Network out: The quick brown fox jumps over the lazy dog\n",
            "~~~~~~~~~~~~~~~~~~~~~~~~~~~~~~~~~~~~~~~~~~~~~~~~~~\n"
          ]
        }
      ],
      "source": [
        "N_EPOCHS = 500\n",
        "LR = 0.01\n",
        "num_hidden = 50\n",
        "\n",
        "for CELL_TYPE in ['vanilla', 'LSTM', 'GRU']:\n",
        "    print(f'Fitting {CELL_TYPE}...')\n",
        "    net = RNN(num_features=data.num_characters, num_hidden=num_hidden, cell_type=CELL_TYPE)\n",
        "    optimizer = optim.Adam(net.parameters(), lr=LR)\n",
        "    criterion = nn.CrossEntropyLoss()\n",
        "    losses = []\n",
        "\n",
        "\n",
        "    end_early = False\n",
        "    seq_i = \"\"\n",
        "\n",
        "\n",
        "    net.train() # Ensure net in training mode\n",
        "    for epoch_i in range(N_EPOCHS):\n",
        "        # Zero out gradients\n",
        "        optimizer.zero_grad()\n",
        "\n",
        "        # Get net output, calculate loss, and generate gradients\n",
        "        output = net(data.X)\n",
        "        loss = criterion(output, data.y)\n",
        "        loss.backward() # Generate gradients via autodiff\n",
        "\n",
        "        # Step\n",
        "        # -----------------------------------\n",
        "        # Clip params\n",
        "        for param in net.parameters():\n",
        "            if param.grad is None:\n",
        "                continue\n",
        "            grad_val = torch.clamp(param.grad, -5, 5)\n",
        "        optimizer.step()\n",
        "        # -----------------------------------\n",
        "\n",
        "        # Track loss\n",
        "        losses.append(loss.item())\n",
        "\n",
        "        # Qualitative Eval\n",
        "        if epoch_i % 10 == 0:\n",
        "            seq_i = net.generate(data, data.string[0], num_steps=len(data.string))\n",
        "\n",
        "            if seq_i == data.string:\n",
        "                end_early = True\n",
        "\n",
        "        # Stdout\n",
        "        # --------------------------------\n",
        "        str_ = f'\\rEpoch {epoch_i+1}/{N_EPOCHS} -- Loss: {losses[-1]:0.4f} -- Network out: {seq_i}'\n",
        "        # print(str_)\n",
        "        # --------------------------------\n",
        "\n",
        "        if end_early:\n",
        "            print(f\"\\nEnding early. Converged in {epoch_i} epochs.\")\n",
        "            break\n",
        "    str_ = f'\\rEpoch {epoch_i+1}/{N_EPOCHS} -- Loss: {losses[-1]:0.4f} -- Network out: {seq_i}'\n",
        "    print(str_)\n",
        "    print('~'*50)"
      ]
    },
    {
      "cell_type": "markdown",
      "metadata": {
        "id": "GU7a6gPnQlnQ"
      },
      "source": [
        "## Questions\n",
        "\n",
        "Why does this happen?\n",
        "1. Try changing the learning rate (e.g. 0.08).\n",
        "2. Did the results change? If yes why?"
      ]
    },
    {
      "cell_type": "markdown",
      "metadata": {
        "id": "1QoZT9CcQlnR"
      },
      "source": [
        "# Complexity comparison of Vanilla RNNs, LSTMs & GRUs"
      ]
    },
    {
      "cell_type": "code",
      "execution_count": 18,
      "metadata": {
        "colab": {
          "base_uri": "https://localhost:8080/"
        },
        "id": "SYMJsyTBQlnR",
        "outputId": "49f9b71c-3a87-46b7-ebd3-da04931aa3ee"
      },
      "outputs": [
        {
          "output_type": "stream",
          "name": "stdout",
          "text": [
            "Number of Params:..\n",
            "vanilla : 310560\n",
            "LSTM : 1152060\n",
            "GRU : 871560\n"
          ]
        }
      ],
      "source": [
        "num_features, num_hidden, num_classes = 300, 500, 1\n",
        "print('Number of Params:..')\n",
        "for cell_type in ['vanilla', 'LSTM', 'GRU']:\n",
        "    net = RNN(num_features=data.num_characters, num_hidden=num_hidden, cell_type=cell_type)\n",
        "    net_param_count = 0\n",
        "    for name, param in net.named_parameters():\n",
        "        if param.requires_grad:\n",
        "            c = 1\n",
        "            for val in param.shape:\n",
        "                c *= val\n",
        "        net_param_count += c\n",
        "    print(f'{cell_type} : {net_param_count}')"
      ]
    },
    {
      "cell_type": "markdown",
      "metadata": {
        "id": "htKe_aygQlnV"
      },
      "source": [
        "# Recap\n",
        "\n",
        "- LSTM / GRU >> RNN. LSTM more effective, GRU more efficient.\n",
        "- Use ReLUs and Adam as go to methods.\n",
        "- Tweak hidden sizes and learning rates according to model performance during training.\n",
        "- Better to create functions: def train(), def evaluate() ...  and also utilize already existing functionalities (Dataset and DataLoader from torch.utils) to avoid messy code and incosistencies.\n"
      ]
    },
    {
      "cell_type": "markdown",
      "source": [
        "\n",
        "\n",
        "# Other resources\n",
        "\n",
        "\n",
        "- Book with accompanying torch code:\n",
        "  - [Deep dive 2 deep learning: RRN Chapter](https://d2l.ai/chapter_recurrent-neural-networks/index.html)\n",
        "- Posts:\n",
        "    - [Karpathys famous blog post on RNNs](http://karpathy.github.io/2015/05/21/rnn-effectiveness/) \n",
        "    - [Colah's blog post on LSTMs](https://colah.github.io/posts/2015-08-Understanding-LSTMs/)\n",
        "    - [Explained extensive RNN post](https://explained.ai/rnn/index.html)\n",
        "- Applications\n",
        "    - [Surname classification with RNNs](https://github.com/joosthub/PyTorchNLPBook/blob/master/chapters/chapter_6/classifying-surnames/Chapter-6-Surname-Classification-with-RNNs.ipynb)\n",
        "    - [LSTM with trainable word embeddings](https://pytorch.org/tutorials/beginner/nlp/sequence_models_tutorial.html)\n",
        "    - [Emojifying sentences with Glove Embeddings](https://github.com/hiepnguyen034/Emojifier-plus)"
      ],
      "metadata": {
        "id": "NpvHiOHOk94v"
      }
    }
  ],
  "metadata": {
    "kernelspec": {
      "display_name": "Python 3 (ipykernel)",
      "language": "python",
      "name": "python3"
    },
    "language_info": {
      "codemirror_mode": {
        "name": "ipython",
        "version": 3
      },
      "file_extension": ".py",
      "mimetype": "text/x-python",
      "name": "python",
      "nbconvert_exporter": "python",
      "pygments_lexer": "ipython3",
      "version": "3.7.6"
    },
    "colab": {
      "provenance": [],
      "toc_visible": true
    }
  },
  "nbformat": 4,
  "nbformat_minor": 0
}