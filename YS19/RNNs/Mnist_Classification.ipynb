{
  "cells": [
    {
      "cell_type": "markdown",
      "source": [
        "---\n",
        "<div align=\"center\">\n",
        "\n",
        "<img align=\"center\" src=\"https://www.di.uoa.gr/themes/corporate_lite/logo_en.png\" width=\"500\"/>\n",
        "\n",
        "<hr>\n",
        "\n",
        "\n",
        "</div>\n",
        "\n",
        "<div align=\"center\">\n",
        "<h1><strong>YS19 - Artificial Intelligence II <br>Deep Learning for NLP</strong></h1>\n",
        "</div>\n",
        "\n",
        "<hr>\n",
        "\n",
        "<div align=\"center\">\n",
        "<h2>Homework #3 - RNNs/LSTMs/GRUs (2)</h2>\n",
        "</div>\n",
        "\n",
        "\n",
        "\n",
        "\n",
        "---\n"
      ],
      "metadata": {
        "id": "6qbLB0R85gy-"
      }
    },
    {
      "cell_type": "markdown",
      "metadata": {
        "id": "x-kSP71jBFHc"
      },
      "source": [
        "# MNIST classification example using RNNs\n",
        "\n",
        "----\n",
        "\n",
        "In this example we will utilize the functionalitis of pytorch for data loading and rnn models.\n",
        "\n",
        "The task will be image classification on MNIST dataset utilizing sequence models.\n",
        "\n",
        "\n",
        "Modified example from [here](https://www.dezyre.com/recipes/run-basic-rnn-model-using-pytorch)"
      ]
    },
    {
      "cell_type": "markdown",
      "source": [
        "## Package import"
      ],
      "metadata": {
        "id": "A32FoX6qoW0a"
      }
    },
    {
      "cell_type": "code",
      "execution_count": 1,
      "metadata": {
        "colab": {
          "base_uri": "https://localhost:8080/",
          "height": 0
        },
        "id": "nFwkkAYjBFHv",
        "outputId": "86af7969-f389-4770-9df5-505b72c19a17"
      },
      "outputs": [
        {
          "output_type": "stream",
          "name": "stdout",
          "text": [
            "Working on: cpu\n"
          ]
        }
      ],
      "source": [
        "# Imports\n",
        "import torch\n",
        "import torch.nn as nn\n",
        "import torch.nn.functional as F\n",
        "import torch.optim as optim\n",
        "import os\n",
        "import numpy as np\n",
        "\n",
        "import torchvision\n",
        "import torchvision.datasets as dsets\n",
        "import torchvision.transforms as transforms\n",
        "\n",
        "import matplotlib.pyplot as plt\n",
        "%matplotlib inline\n",
        "import sklearn.metrics\n",
        "import seaborn as sns\n",
        "import random\n",
        "import sys\n",
        "\n",
        "\n",
        "\n",
        "def set_seed(seed = 1234):\n",
        "    '''Sets the seed of the entire notebook so results are the same every time we run. This is for REPRODUCIBILITY.\n",
        "    '''\n",
        "    np.random.seed(seed)\n",
        "    random.seed(seed)\n",
        "    torch.manual_seed(seed)\n",
        "    torch.cuda.manual_seed(seed)\n",
        "    # When running on the CuDNN backend, two further options must be set\n",
        "    torch.backends.cudnn.deterministic = True\n",
        "    # Set a fixed value for the hash seed\n",
        "    os.environ['PYTHONHASHSEED'] = str(seed)\n",
        "    \n",
        "set_seed()\n",
        "\n",
        "device = 'cpu'\n",
        "print('Working on:', device)"
      ]
    },
    {
      "cell_type": "markdown",
      "source": [
        "## Downloading the MNIST dataset and creating pyTorch DataLoader"
      ],
      "metadata": {
        "id": "v4MzaOW4odOr"
      }
    },
    {
      "cell_type": "code",
      "execution_count": 2,
      "metadata": {
        "colab": {
          "base_uri": "https://localhost:8080/",
          "height": 423,
          "referenced_widgets": [
            "5ccaf74b26934696a964b8ee5a6473b7",
            "e076de381d5e43359134746eb97ce7b2",
            "6ac0f19c826544cf98f4cf9de9bfb7b3",
            "6e0f9993048047ffb15cac84109fd905",
            "72f47a419d2c42f8a196567dc058417c",
            "1a5de1d872834b0396f59008a8b241e4",
            "58398904a9694499a8c879ddcdd9a096",
            "05285767b99941d79426c983c9c22098",
            "d61ea7d449e34208a31846a4c983e2d6",
            "5b15745379764ee5993cf7f39b270a74",
            "d28992081be54a77b9d75296d162bd08",
            "dc3be947c8c74b34a26d721ab4886bb5",
            "b579160ad12e46c1ae7d4fcd04285f74",
            "22d5bece45b64d3c9388dd469bb33ac7",
            "b65de6b11ec24c81926b956e40ca0461",
            "4c875ef494634c7c88012c8870bef71c",
            "e05a57f83b064ffeb8797fa2af23bd40",
            "ec767e2f6bb049259f5c044a21305360",
            "ccb1770ba3204d0a9494b09e2053b229",
            "cb83bcbd858e48169ee427b5b56da921",
            "4b9dd1e824b7421898ac9d6c3965585b",
            "80200e3dd4064310a1454fc12d76fbdf",
            "9540fb44b75f4f25a3bf3445380fe061",
            "55f2fb7b23f04e059af1e31078857c5d",
            "b491bcdbe8cb4d81b0716fb50766ee1c",
            "b52f35fd06d94505b21a054317a2e35d",
            "3a941623af934b30b153873c14ed3fc8",
            "aaff66bdfd954acfa4d34943c5fef55a",
            "ee307d9f2b894f9280e798a50aa51cb3",
            "ea5fb09c8da84026b541a0973306b88b",
            "05b26a403ac9403896d54271848c5261",
            "7c4a0a33503742cba97671dcf8eeb9f9",
            "fc8f2488a07043ad9e4b21f9e5f79c8a",
            "b9c22c0e17994346b4baa31f46491c01",
            "ea33c2de01fd45cab708298266ab8d0d",
            "2266eb65ff3f4e55b2342f8bea78d135",
            "d3fa2f40d12f483485e80e8509119462",
            "7204029c02594ed68e82678df1890400",
            "24629b1780e14ee5aedb711f058545d9",
            "bcb37e753662466e9ab48734b26de6aa",
            "364ab1e6c07b4a7a87e1031cc2bee7fc",
            "ef357c941e614d05b472bb7a40589e71",
            "3dea90296736439882c67307cde6d09f",
            "c585360eb9734473bc1bc2c99ac70b4d"
          ]
        },
        "id": "r89k8XXiBFH6",
        "outputId": "b80b9ea5-41bc-4894-c8e4-5af0d4399ae0"
      },
      "outputs": [
        {
          "output_type": "stream",
          "name": "stdout",
          "text": [
            "Downloading http://yann.lecun.com/exdb/mnist/train-images-idx3-ubyte.gz\n",
            "Downloading http://yann.lecun.com/exdb/mnist/train-images-idx3-ubyte.gz to ./mnist/MNIST/raw/train-images-idx3-ubyte.gz\n"
          ]
        },
        {
          "output_type": "display_data",
          "data": {
            "text/plain": [
              "  0%|          | 0/9912422 [00:00<?, ?it/s]"
            ],
            "application/vnd.jupyter.widget-view+json": {
              "version_major": 2,
              "version_minor": 0,
              "model_id": "5ccaf74b26934696a964b8ee5a6473b7"
            }
          },
          "metadata": {}
        },
        {
          "output_type": "stream",
          "name": "stdout",
          "text": [
            "Extracting ./mnist/MNIST/raw/train-images-idx3-ubyte.gz to ./mnist/MNIST/raw\n",
            "\n",
            "Downloading http://yann.lecun.com/exdb/mnist/train-labels-idx1-ubyte.gz\n",
            "Downloading http://yann.lecun.com/exdb/mnist/train-labels-idx1-ubyte.gz to ./mnist/MNIST/raw/train-labels-idx1-ubyte.gz\n"
          ]
        },
        {
          "output_type": "display_data",
          "data": {
            "text/plain": [
              "  0%|          | 0/28881 [00:00<?, ?it/s]"
            ],
            "application/vnd.jupyter.widget-view+json": {
              "version_major": 2,
              "version_minor": 0,
              "model_id": "dc3be947c8c74b34a26d721ab4886bb5"
            }
          },
          "metadata": {}
        },
        {
          "output_type": "stream",
          "name": "stdout",
          "text": [
            "Extracting ./mnist/MNIST/raw/train-labels-idx1-ubyte.gz to ./mnist/MNIST/raw\n",
            "\n",
            "Downloading http://yann.lecun.com/exdb/mnist/t10k-images-idx3-ubyte.gz\n",
            "Downloading http://yann.lecun.com/exdb/mnist/t10k-images-idx3-ubyte.gz to ./mnist/MNIST/raw/t10k-images-idx3-ubyte.gz\n"
          ]
        },
        {
          "output_type": "display_data",
          "data": {
            "text/plain": [
              "  0%|          | 0/1648877 [00:00<?, ?it/s]"
            ],
            "application/vnd.jupyter.widget-view+json": {
              "version_major": 2,
              "version_minor": 0,
              "model_id": "9540fb44b75f4f25a3bf3445380fe061"
            }
          },
          "metadata": {}
        },
        {
          "output_type": "stream",
          "name": "stdout",
          "text": [
            "Extracting ./mnist/MNIST/raw/t10k-images-idx3-ubyte.gz to ./mnist/MNIST/raw\n",
            "\n",
            "Downloading http://yann.lecun.com/exdb/mnist/t10k-labels-idx1-ubyte.gz\n",
            "Downloading http://yann.lecun.com/exdb/mnist/t10k-labels-idx1-ubyte.gz to ./mnist/MNIST/raw/t10k-labels-idx1-ubyte.gz\n"
          ]
        },
        {
          "output_type": "display_data",
          "data": {
            "text/plain": [
              "  0%|          | 0/4542 [00:00<?, ?it/s]"
            ],
            "application/vnd.jupyter.widget-view+json": {
              "version_major": 2,
              "version_minor": 0,
              "model_id": "b9c22c0e17994346b4baa31f46491c01"
            }
          },
          "metadata": {}
        },
        {
          "output_type": "stream",
          "name": "stdout",
          "text": [
            "Extracting ./mnist/MNIST/raw/t10k-labels-idx1-ubyte.gz to ./mnist/MNIST/raw\n",
            "\n"
          ]
        }
      ],
      "source": [
        "# How many images at once\n",
        "BATCH_SIZE = 64\n",
        "\n",
        "# Mnist digital dataset\n",
        "train_data = dsets.MNIST(\n",
        "    root='./mnist/',\n",
        "    train=True,\n",
        "    # Converts a PIL.Image or numpy.ndarray to torch.FloatTensor of shape (Channel x Height x Width) and normalize in the range [0.0, 1.0]\n",
        "    transform=transforms.ToTensor(),    \n",
        "    # Set to True for the first time to download it                        \n",
        "    download=True,\n",
        ")\n",
        "\n",
        "# Data Loader for batching\n",
        "train_loader = torch.utils.data.DataLoader(dataset=train_data,\n",
        "                                           batch_size=BATCH_SIZE, shuffle=True)"
      ]
    },
    {
      "cell_type": "code",
      "execution_count": 3,
      "metadata": {
        "colab": {
          "base_uri": "https://localhost:8080/",
          "height": 316
        },
        "id": "APQLMCOeBFH-",
        "outputId": "79a9c9a8-05cf-4bec-8417-3123c87eec12"
      },
      "outputs": [
        {
          "output_type": "stream",
          "name": "stdout",
          "text": [
            "torch.Size([60000, 28, 28])\n",
            "torch.Size([60000])\n"
          ]
        },
        {
          "output_type": "display_data",
          "data": {
            "text/plain": [
              "<Figure size 432x288 with 1 Axes>"
            ],
            "image/png": "[encoded data removed]"
          },
          "metadata": {
            "needs_background": "light"
          }
        }
      ],
      "source": [
        "# plot one example\n",
        "print(train_data.data.size())     # (60000, 28, 28)\n",
        "print(train_data.targets.size())   # (60000)\n",
        "plt.imshow(train_data.data[0].numpy(), cmap='gray')\n",
        "plt.title('%i' % train_data.targets[0])\n",
        "plt.show()"
      ]
    },
    {
      "cell_type": "markdown",
      "source": [
        "## Creating test set"
      ],
      "metadata": {
        "id": "1rRrNbLkorRo"
      }
    },
    {
      "cell_type": "code",
      "execution_count": 4,
      "metadata": {
        "colab": {
          "base_uri": "https://localhost:8080/",
          "height": 0
        },
        "id": "-LG-1GNVBFIC",
        "outputId": "c3f1e6b4-c06a-48f1-d06b-9d51131f2851"
      },
      "outputs": [
        {
          "output_type": "stream",
          "name": "stdout",
          "text": [
            "torch.Size([1000, 28, 28]) torch.Size([1000])\n"
          ]
        }
      ],
      "source": [
        "# Get a subset of the test set for fast evaluation\n",
        "TEST_SIZE = 1000\n",
        "test_data = dsets.MNIST(root='./mnist/', train=False, transform=transforms.ToTensor())\n",
        "test_loader = torch.utils.data.DataLoader(dataset=test_data,\n",
        "                                           batch_size=TEST_SIZE, shuffle=True)\n",
        "# Remove the channel dimension\n",
        "for step, (test_x, test_y) in enumerate(test_loader):\n",
        "    test_x = test_x.view(-1,28,28)\n",
        "    pass\n",
        "print(test_x.shape, test_y.shape)"
      ]
    },
    {
      "cell_type": "markdown",
      "source": [
        "## Initializing consine RNN class from pyTorch"
      ],
      "metadata": {
        "id": "3U_55lTAoyIb"
      }
    },
    {
      "cell_type": "code",
      "execution_count": 5,
      "metadata": {
        "id": "RdTfJuTTBFIK"
      },
      "outputs": [],
      "source": [
        "class RNN(nn.Module):\n",
        "    \"\"\"\n",
        "      Wrapper module for RNN, LSTM, GRU cells using pytorch api. The output is fed to a FFN for classification.\n",
        "    \"\"\"\n",
        "    def __init__(self, cell_type, input_size, hidden_size, output_size):\n",
        "        super(RNN, self).__init__()\n",
        "        \n",
        "        cells = {\n",
        "        \"RNN\" : nn.RNN,\n",
        "        \"LSTM\"    : nn.LSTM,\n",
        "        \"GRU\"     : nn.GRU\n",
        "    }\n",
        "        self.cell_type = cell_type\n",
        "        self.rnn = cells[cell_type](         # Pick the specific model\n",
        "            input_size=input_size,           # Number of features for each time step\n",
        "            hidden_size=hidden_size,         # rnn hidden units\n",
        "            batch_first=True,       # input & output will has batch size as 1s dimension. e.g. (batch, time_step, input_size)\n",
        "        )\n",
        "\n",
        "        self.out = nn.Linear(hidden_size, output_size) # Feed forward network\n",
        "\n",
        "    def forward(self, x):\n",
        "        # x shape (batch, time_step, input_size)\n",
        "        # r_out shape (batch, time_step, output_size)\n",
        "        # h_n shape (n_layers, batch, hidden_size)\n",
        "        # h_c shape (n_layers, batch, hidden_size)\n",
        "        \n",
        "        if self.cell_type == 'LSTM':\n",
        "            r_out, (h_n, h_c) = self.rnn(x) \n",
        "        else:\n",
        "            r_out, h_n = self.rnn(x)\n",
        "\n",
        "        # choose r_out at the last time step\n",
        "        out = self.out(r_out[:, -1, :])\n",
        "        return out"
      ]
    },
    {
      "cell_type": "markdown",
      "source": [
        "## Configuring the RNN"
      ],
      "metadata": {
        "id": "_XEsiVIXo9EX"
      }
    },
    {
      "cell_type": "code",
      "execution_count": 6,
      "metadata": {
        "colab": {
          "base_uri": "https://localhost:8080/",
          "height": 0
        },
        "id": "8ZFE_WiFBFIO",
        "outputId": "95aae89a-65fe-4f45-eed7-13ba508f3b7a"
      },
      "outputs": [
        {
          "output_type": "stream",
          "name": "stdout",
          "text": [
            "RNN(\n",
            "  (rnn): LSTM(28, 64, batch_first=True)\n",
            "  (out): Linear(in_features=64, out_features=10, bias=True)\n",
            ")\n"
          ]
        }
      ],
      "source": [
        "input_size = 28\n",
        "hidden_size = 64\n",
        "output_size = 10\n",
        "cell_type = 'LSTM'\n",
        "net = RNN(cell_type, input_size, hidden_size, output_size)\n",
        "print(net)"
      ]
    },
    {
      "cell_type": "markdown",
      "metadata": {
        "id": "31_cxbdyBFIS"
      },
      "source": [
        "### Questions ❓\n",
        "\n",
        "- What are the output dimensions?\n",
        "- What are other strategies for getting the representation of the whole image as input to the last-layer FFN?"
      ]
    },
    {
      "cell_type": "code",
      "execution_count": 7,
      "metadata": {
        "id": "1lZ8A8nQBFIV"
      },
      "outputs": [],
      "source": [
        "EPOCH = 1\n",
        "LR = 0.01\n",
        "\n",
        "optimizer = torch.optim.Adam(net.parameters(), lr=LR)   # optimize all net parameters\n",
        "loss_func = nn.CrossEntropyLoss()"
      ]
    },
    {
      "cell_type": "markdown",
      "source": [
        "## Train and test the model"
      ],
      "metadata": {
        "id": "mvHMjp9LpHDR"
      }
    },
    {
      "cell_type": "code",
      "execution_count": 8,
      "metadata": {
        "colab": {
          "base_uri": "https://localhost:8080/",
          "height": 667
        },
        "id": "Qwa7W4vEBFIY",
        "outputId": "4d2aba60-a2ee-4b6e-e136-d41f41f4f7c2"
      },
      "outputs": [
        {
          "output_type": "stream",
          "name": "stdout",
          "text": [
            "Epoch:  0 | train loss: 2.2976 | test accuracy: 0.10\n",
            "Epoch:  0 | train loss: 0.9061 | test accuracy: 0.58\n",
            "Epoch:  0 | train loss: 0.7806 | test accuracy: 0.77\n",
            "Epoch:  0 | train loss: 0.5939 | test accuracy: 0.83\n",
            "Epoch:  0 | train loss: 0.3056 | test accuracy: 0.87\n",
            "Epoch:  0 | train loss: 0.4103 | test accuracy: 0.91\n",
            "Epoch:  0 | train loss: 0.2851 | test accuracy: 0.93\n",
            "Epoch:  0 | train loss: 0.3337 | test accuracy: 0.92\n",
            "Epoch:  0 | train loss: 0.2880 | test accuracy: 0.93\n",
            "Epoch:  0 | train loss: 0.0832 | test accuracy: 0.94\n",
            "Epoch:  0 | train loss: 0.2906 | test accuracy: 0.94\n",
            "Epoch:  0 | train loss: 0.1232 | test accuracy: 0.94\n",
            "Epoch:  0 | train loss: 0.0218 | test accuracy: 0.94\n",
            "Epoch:  0 | train loss: 0.1070 | test accuracy: 0.95\n",
            "Epoch:  0 | train loss: 0.0494 | test accuracy: 0.95\n",
            "Epoch:  0 | train loss: 0.2646 | test accuracy: 0.93\n",
            "Epoch:  0 | train loss: 0.1448 | test accuracy: 0.94\n",
            "Epoch:  0 | train loss: 0.1875 | test accuracy: 0.95\n",
            "Epoch:  0 | train loss: 0.3009 | test accuracy: 0.96\n"
          ]
        },
        {
          "output_type": "display_data",
          "data": {
            "text/plain": [
              "<Figure size 864x360 with 1 Axes>"
            ],
            "image/png": "[encoded data removed]"
          },
          "metadata": {
            "needs_background": "light"
          }
        }
      ],
      "source": [
        "# Start train mode\n",
        "net.train()\n",
        "\n",
        "# Accumulate losses\n",
        "losses = []\n",
        "\n",
        "# Count the number of batches given to the model\n",
        "step_count = 0\n",
        "\n",
        "# Evaluate the progress every # batches\n",
        "print_every = 50\n",
        "\n",
        "# Iterate over the whole dataset for one epoch\n",
        "for epoch in range(EPOCH):\n",
        "\n",
        "    # Generate batch data\n",
        "    for step, (x, y) in enumerate(train_loader):\n",
        "\n",
        "        # clear gradients for this training step\n",
        "        optimizer.zero_grad() \n",
        "        \n",
        "        # reshape x to (batch, time_step, input_size)\n",
        "        b_x = x.view(-1, 28, 28)\n",
        "\n",
        "        # batch y\n",
        "        b_y = y                               \n",
        "        \n",
        "        \n",
        "        output = net(b_x)                               \n",
        "        loss = loss_func(output, b_y) \n",
        "        \n",
        "        # For visualization\n",
        "        losses.append(loss.item())\n",
        "        step_count += 1\n",
        "        \n",
        "        \n",
        "        # backpropagation - compute gradients                             \n",
        "        loss.backward() \n",
        "\n",
        "        # apply gradients\n",
        "        optimizer.step()                               \n",
        "    \n",
        "        # evaluate every N batches\n",
        "        if step % print_every == 0:\n",
        "\n",
        "            # Do not calculate gradients\n",
        "            with torch.no_grad():\n",
        "\n",
        "                # Faster inference\n",
        "                net.eval()\n",
        "                \n",
        "                test_output = net(test_x)\n",
        "\n",
        "                # Get predicted class\n",
        "                pred_y = torch.argmax(test_output, dim=1).squeeze()\n",
        "\n",
        "                # Calculate accuracy\n",
        "                accuracy = (pred_y == test_y).sum().item() / float(TEST_SIZE)\n",
        "                print('Epoch: ', epoch, '| train loss: %.4f' % loss.item(), '| test accuracy: %.2f' % accuracy)\n",
        "\n",
        "            # Return to training mode\n",
        "            net.train()\n",
        "\n",
        "# Plot results\n",
        "plt.figure(figsize=(12,5))\n",
        "plt.plot(losses)\n",
        "plt.xlabel('# of steps', fontsize=12)\n",
        "plt.ylabel('CE - Loss', fontsize=12)\n",
        "plt.show()"
      ]
    },
    {
      "cell_type": "markdown",
      "metadata": {
        "id": "hYIkILElBFIc"
      },
      "source": [
        "### Hint 🤔\n",
        "\n",
        "- Try playin around with models/lr/epochs/hidden_size (e.g. RNN, 0.001) and guess the behavior"
      ]
    },
    {
      "cell_type": "markdown",
      "metadata": {
        "id": "cPYQ6DBXBFIe"
      },
      "source": [
        "## Inference on a set of samples"
      ]
    },
    {
      "cell_type": "code",
      "execution_count": 9,
      "metadata": {
        "colab": {
          "base_uri": "https://localhost:8080/",
          "height": 0
        },
        "id": "pmXg9t9iBFIf",
        "outputId": "66904008-b563-4654-e9c4-4e89f72595b5"
      },
      "outputs": [
        {
          "output_type": "stream",
          "name": "stdout",
          "text": [
            "Make: 10 predictions\n",
            "[0 1 7 9 8 2 3 1 0 9] real number\n",
            "[0 1 7 9 8 2 3 1 0 9] prediction number\n"
          ]
        }
      ],
      "source": [
        "N = 10\n",
        "print(f'Make: {N} predictions')\n",
        "test_output = net(test_x[:N,:,:].view(-1,28,28))\n",
        "y_pred = torch.argmax(test_output, dim=1).data.numpy().squeeze()\n",
        "y_true = test_y[:N].data.numpy().squeeze()\n",
        "print(y_true, 'real number')\n",
        "print(y_pred, 'prediction number')"
      ]
    },
    {
      "cell_type": "code",
      "execution_count": 10,
      "metadata": {
        "colab": {
          "base_uri": "https://localhost:8080/",
          "height": 0
        },
        "id": "X0QEK6V5BFIh",
        "outputId": "082d2b7c-a1d2-4d6e-fb54-8e742432b08f"
      },
      "outputs": [
        {
          "output_type": "stream",
          "name": "stdout",
          "text": [
            "Classification Report:\n",
            "              precision    recall  f1-score   support\n",
            "\n",
            "           0       1.00      1.00      1.00         2\n",
            "           1       1.00      1.00      1.00         2\n",
            "           2       1.00      1.00      1.00         1\n",
            "           3       1.00      1.00      1.00         1\n",
            "           7       1.00      1.00      1.00         1\n",
            "           8       1.00      1.00      1.00         1\n",
            "           9       1.00      1.00      1.00         2\n",
            "\n",
            "    accuracy                           1.00        10\n",
            "   macro avg       1.00      1.00      1.00        10\n",
            "weighted avg       1.00      1.00      1.00        10\n",
            "\n",
            "Confusion Matrix\n",
            "[[2 0 0 0 0 0 0]\n",
            " [0 2 0 0 0 0 0]\n",
            " [0 0 1 0 0 0 0]\n",
            " [0 0 0 1 0 0 0]\n",
            " [0 0 0 0 1 0 0]\n",
            " [0 0 0 0 0 1 0]\n",
            " [0 0 0 0 0 0 2]]\n"
          ]
        }
      ],
      "source": [
        "from sklearn.metrics import classification_report, confusion_matrix\n",
        "print(f'Classification Report:')\n",
        "print(f'{classification_report(y_true, y_pred)}')\n",
        "print(f'Confusion Matrix')\n",
        "print(confusion_matrix(y_true, y_pred))"
      ]
    },
    {
      "cell_type": "markdown",
      "metadata": {
        "id": "CjufRDYLBFIj"
      },
      "source": [
        "## Other details\n",
        "\n",
        "- Bidirectional + Multilayer. Check out layer sizes from the docs e.g. [LSTM module](https://pytorch.org/docs/stable/generated/torch.nn.LSTM.html)\n",
        "- Skipping connections\n",
        "- Trainable/Frozen embeddings as input\n",
        "- Hyperparameter tuning in pytorch\n"
      ]
    },
    {
      "cell_type": "markdown",
      "source": [
        "## **BONUS: Optuna**  💣\n",
        "\n",
        "An open source hyperparameter optimization framework to automate hyperparameter search"
      ],
      "metadata": {
        "id": "-S7EZpEHtU19"
      }
    },
    {
      "cell_type": "code",
      "source": [
        "%pip install optuna"
      ],
      "metadata": {
        "id": "s6X8mQ42tUOZ"
      },
      "execution_count": null,
      "outputs": []
    },
    {
      "cell_type": "code",
      "source": [
        "import optuna\n",
        "\n",
        "# 1. Define an objective function to be maximized.\n",
        "def objective(trial):\n",
        "\n",
        "  input_size = 28\n",
        "  hidden_size =  trial.suggest_categorical('hidden_size', [64, 128])\n",
        "  output_size = 10\n",
        "  cell_type = trial.suggest_categorical('cell_type', ['LSTM', 'GRU'])\n",
        "  net = RNN(cell_type, input_size, hidden_size, output_size)\n",
        "  print(net)\n",
        "\n",
        "  EPOCH = 1\n",
        "  LR = 0.01\n",
        "  optimizer = torch.optim.Adam(net.parameters(), lr=LR)   # optimize all net parameters\n",
        "  loss_func = nn.CrossEntropyLoss()\n",
        "\n",
        "  # # 2. Suggest values of the hyperparameters using a trial object.\n",
        "  # n_layers = trial.suggest_int('n_layers', 1, 3)\n",
        "  # layers = []\n",
        "\n",
        "  # Start train mode\n",
        "  net.train()\n",
        "\n",
        "  # Accumulate losses\n",
        "  losses = []\n",
        "\n",
        "  # Count the number of batches given to the model\n",
        "  step_count = 0\n",
        "\n",
        "  # Evaluate the progress every # batches\n",
        "  print_every = 50\n",
        "\n",
        "  # Iterate over the whole dataset for one epoch\n",
        "  for epoch in range(EPOCH):\n",
        "\n",
        "      # Generate batch data\n",
        "      for step, (x, y) in enumerate(train_loader):\n",
        "\n",
        "          # clear gradients for this training step\n",
        "          optimizer.zero_grad() \n",
        "          \n",
        "          # reshape x to (batch, time_step, input_size)\n",
        "          b_x = x.view(-1, 28, 28)\n",
        "\n",
        "          # batch y\n",
        "          b_y = y                               \n",
        "          \n",
        "          \n",
        "          output = net(b_x)                               \n",
        "          loss = loss_func(output, b_y) \n",
        "          \n",
        "          # For visualization\n",
        "          losses.append(loss.item())\n",
        "          step_count += 1\n",
        "          \n",
        "          \n",
        "          # backpropagation - compute gradients                             \n",
        "          loss.backward() \n",
        "\n",
        "          # apply gradients\n",
        "          optimizer.step()                               \n",
        "      \n",
        "          # evaluate every N batches\n",
        "          if step % print_every == 0:\n",
        "\n",
        "              # Do not calculate gradients\n",
        "              with torch.no_grad():\n",
        "\n",
        "                  # Faster inference\n",
        "                  net.eval()\n",
        "                  \n",
        "                  test_output = net(test_x)\n",
        "\n",
        "                  # Get predicted class\n",
        "                  pred_y = torch.argmax(test_output, dim=1).squeeze()\n",
        "\n",
        "                  # Calculate accuracy\n",
        "                  accuracy = (pred_y == test_y).sum().item() / float(TEST_SIZE)\n",
        "                  print('Epoch: ', epoch, '| train loss: %.4f' % loss.item(), '| test accuracy: %.2f' % accuracy)\n",
        "\n",
        "              # Return to training mode\n",
        "              net.train()\n",
        "\n",
        "  return accuracy\n",
        "\n",
        "# 3. Create a study object and optimize the objective function.\n",
        "study = optuna.create_study(direction='maximize')\n",
        "study.optimize(objective, n_trials=5)"
      ],
      "metadata": {
        "colab": {
          "base_uri": "https://localhost:8080/"
        },
        "id": "ZvkwK8wQtyW8",
        "outputId": "3a0945d5-af4a-4834-8701-00c5f368b2d8"
      },
      "execution_count": 14,
      "outputs": [
        {
          "output_type": "stream",
          "name": "stderr",
          "text": [
            "\u001b[32m[I 2022-12-14 13:04:11,952]\u001b[0m A new study created in memory with name: no-name-bb8b07c7-6100-42c2-9d55-6e7051d8a880\u001b[0m\n"
          ]
        },
        {
          "output_type": "stream",
          "name": "stdout",
          "text": [
            "RNN(\n",
            "  (rnn): LSTM(28, 64, batch_first=True)\n",
            "  (out): Linear(in_features=64, out_features=10, bias=True)\n",
            ")\n",
            "Epoch:  0 | train loss: 2.3126 | test accuracy: 0.10\n",
            "Epoch:  0 | train loss: 1.3643 | test accuracy: 0.56\n",
            "Epoch:  0 | train loss: 0.9075 | test accuracy: 0.71\n",
            "Epoch:  0 | train loss: 0.7976 | test accuracy: 0.79\n",
            "Epoch:  0 | train loss: 0.3181 | test accuracy: 0.86\n",
            "Epoch:  0 | train loss: 0.2853 | test accuracy: 0.90\n",
            "Epoch:  0 | train loss: 0.3572 | test accuracy: 0.92\n",
            "Epoch:  0 | train loss: 0.1955 | test accuracy: 0.94\n",
            "Epoch:  0 | train loss: 0.1736 | test accuracy: 0.93\n",
            "Epoch:  0 | train loss: 0.2738 | test accuracy: 0.94\n",
            "Epoch:  0 | train loss: 0.1627 | test accuracy: 0.94\n",
            "Epoch:  0 | train loss: 0.0987 | test accuracy: 0.95\n",
            "Epoch:  0 | train loss: 0.1147 | test accuracy: 0.94\n",
            "Epoch:  0 | train loss: 0.1922 | test accuracy: 0.95\n",
            "Epoch:  0 | train loss: 0.0425 | test accuracy: 0.96\n",
            "Epoch:  0 | train loss: 0.1703 | test accuracy: 0.94\n",
            "Epoch:  0 | train loss: 0.0511 | test accuracy: 0.96\n",
            "Epoch:  0 | train loss: 0.1309 | test accuracy: 0.96\n",
            "Epoch:  0 | train loss: 0.2124 | test accuracy: 0.96\n"
          ]
        },
        {
          "output_type": "stream",
          "name": "stderr",
          "text": [
            "\u001b[32m[I 2022-12-14 13:04:37,520]\u001b[0m Trial 0 finished with value: 0.958 and parameters: {'hidden_size': 64, 'cell_type': 'LSTM'}. Best is trial 0 with value: 0.958.\u001b[0m\n"
          ]
        },
        {
          "output_type": "stream",
          "name": "stdout",
          "text": [
            "RNN(\n",
            "  (rnn): LSTM(28, 64, batch_first=True)\n",
            "  (out): Linear(in_features=64, out_features=10, bias=True)\n",
            ")\n",
            "Epoch:  0 | train loss: 2.3004 | test accuracy: 0.10\n",
            "Epoch:  0 | train loss: 1.0231 | test accuracy: 0.60\n",
            "Epoch:  0 | train loss: 0.9308 | test accuracy: 0.77\n",
            "Epoch:  0 | train loss: 0.4536 | test accuracy: 0.82\n",
            "Epoch:  0 | train loss: 0.3300 | test accuracy: 0.90\n",
            "Epoch:  0 | train loss: 0.5166 | test accuracy: 0.91\n",
            "Epoch:  0 | train loss: 0.2875 | test accuracy: 0.92\n",
            "Epoch:  0 | train loss: 0.1110 | test accuracy: 0.95\n",
            "Epoch:  0 | train loss: 0.2197 | test accuracy: 0.94\n",
            "Epoch:  0 | train loss: 0.1351 | test accuracy: 0.95\n",
            "Epoch:  0 | train loss: 0.3174 | test accuracy: 0.94\n",
            "Epoch:  0 | train loss: 0.2043 | test accuracy: 0.95\n",
            "Epoch:  0 | train loss: 0.2693 | test accuracy: 0.96\n",
            "Epoch:  0 | train loss: 0.2788 | test accuracy: 0.94\n",
            "Epoch:  0 | train loss: 0.2304 | test accuracy: 0.97\n",
            "Epoch:  0 | train loss: 0.2064 | test accuracy: 0.96\n",
            "Epoch:  0 | train loss: 0.1501 | test accuracy: 0.96\n",
            "Epoch:  0 | train loss: 0.1320 | test accuracy: 0.96\n",
            "Epoch:  0 | train loss: 0.1735 | test accuracy: 0.97\n"
          ]
        },
        {
          "output_type": "stream",
          "name": "stderr",
          "text": [
            "\u001b[32m[I 2022-12-14 13:05:01,491]\u001b[0m Trial 1 finished with value: 0.972 and parameters: {'hidden_size': 64, 'cell_type': 'LSTM'}. Best is trial 1 with value: 0.972.\u001b[0m\n"
          ]
        },
        {
          "output_type": "stream",
          "name": "stdout",
          "text": [
            "RNN(\n",
            "  (rnn): GRU(28, 128, batch_first=True)\n",
            "  (out): Linear(in_features=128, out_features=10, bias=True)\n",
            ")\n",
            "Epoch:  0 | train loss: 2.3014 | test accuracy: 0.10\n",
            "Epoch:  0 | train loss: 0.7659 | test accuracy: 0.70\n",
            "Epoch:  0 | train loss: 0.4617 | test accuracy: 0.84\n",
            "Epoch:  0 | train loss: 0.3493 | test accuracy: 0.94\n",
            "Epoch:  0 | train loss: 0.1797 | test accuracy: 0.94\n",
            "Epoch:  0 | train loss: 0.3414 | test accuracy: 0.94\n",
            "Epoch:  0 | train loss: 0.0698 | test accuracy: 0.96\n",
            "Epoch:  0 | train loss: 0.1830 | test accuracy: 0.97\n",
            "Epoch:  0 | train loss: 0.2112 | test accuracy: 0.96\n",
            "Epoch:  0 | train loss: 0.2350 | test accuracy: 0.96\n",
            "Epoch:  0 | train loss: 0.2335 | test accuracy: 0.94\n",
            "Epoch:  0 | train loss: 0.1435 | test accuracy: 0.97\n",
            "Epoch:  0 | train loss: 0.2510 | test accuracy: 0.97\n",
            "Epoch:  0 | train loss: 0.0902 | test accuracy: 0.95\n",
            "Epoch:  0 | train loss: 0.1209 | test accuracy: 0.97\n",
            "Epoch:  0 | train loss: 0.0970 | test accuracy: 0.97\n",
            "Epoch:  0 | train loss: 0.2753 | test accuracy: 0.97\n",
            "Epoch:  0 | train loss: 0.0802 | test accuracy: 0.97\n",
            "Epoch:  0 | train loss: 0.1293 | test accuracy: 0.97\n"
          ]
        },
        {
          "output_type": "stream",
          "name": "stderr",
          "text": [
            "\u001b[32m[I 2022-12-14 13:05:34,681]\u001b[0m Trial 2 finished with value: 0.967 and parameters: {'hidden_size': 128, 'cell_type': 'GRU'}. Best is trial 1 with value: 0.972.\u001b[0m\n"
          ]
        },
        {
          "output_type": "stream",
          "name": "stdout",
          "text": [
            "RNN(\n",
            "  (rnn): GRU(28, 64, batch_first=True)\n",
            "  (out): Linear(in_features=64, out_features=10, bias=True)\n",
            ")\n",
            "Epoch:  0 | train loss: 2.2936 | test accuracy: 0.09\n",
            "Epoch:  0 | train loss: 1.5797 | test accuracy: 0.57\n",
            "Epoch:  0 | train loss: 0.4280 | test accuracy: 0.75\n",
            "Epoch:  0 | train loss: 0.4430 | test accuracy: 0.88\n",
            "Epoch:  0 | train loss: 0.2597 | test accuracy: 0.90\n",
            "Epoch:  0 | train loss: 0.1974 | test accuracy: 0.92\n",
            "Epoch:  0 | train loss: 0.1031 | test accuracy: 0.94\n",
            "Epoch:  0 | train loss: 0.2160 | test accuracy: 0.94\n",
            "Epoch:  0 | train loss: 0.1495 | test accuracy: 0.95\n",
            "Epoch:  0 | train loss: 0.1222 | test accuracy: 0.96\n",
            "Epoch:  0 | train loss: 0.0427 | test accuracy: 0.96\n",
            "Epoch:  0 | train loss: 0.1467 | test accuracy: 0.95\n",
            "Epoch:  0 | train loss: 0.0920 | test accuracy: 0.97\n",
            "Epoch:  0 | train loss: 0.0765 | test accuracy: 0.97\n",
            "Epoch:  0 | train loss: 0.1080 | test accuracy: 0.97\n",
            "Epoch:  0 | train loss: 0.1489 | test accuracy: 0.96\n",
            "Epoch:  0 | train loss: 0.0687 | test accuracy: 0.96\n",
            "Epoch:  0 | train loss: 0.0320 | test accuracy: 0.97\n",
            "Epoch:  0 | train loss: 0.1193 | test accuracy: 0.97\n"
          ]
        },
        {
          "output_type": "stream",
          "name": "stderr",
          "text": [
            "\u001b[32m[I 2022-12-14 13:05:55,552]\u001b[0m Trial 3 finished with value: 0.968 and parameters: {'hidden_size': 64, 'cell_type': 'GRU'}. Best is trial 1 with value: 0.972.\u001b[0m\n"
          ]
        },
        {
          "output_type": "stream",
          "name": "stdout",
          "text": [
            "RNN(\n",
            "  (rnn): GRU(28, 64, batch_first=True)\n",
            "  (out): Linear(in_features=64, out_features=10, bias=True)\n",
            ")\n",
            "Epoch:  0 | train loss: 2.3133 | test accuracy: 0.09\n",
            "Epoch:  0 | train loss: 1.0749 | test accuracy: 0.63\n",
            "Epoch:  0 | train loss: 0.8937 | test accuracy: 0.81\n",
            "Epoch:  0 | train loss: 0.4735 | test accuracy: 0.85\n",
            "Epoch:  0 | train loss: 0.5430 | test accuracy: 0.91\n",
            "Epoch:  0 | train loss: 0.3068 | test accuracy: 0.93\n",
            "Epoch:  0 | train loss: 0.2847 | test accuracy: 0.92\n",
            "Epoch:  0 | train loss: 0.2238 | test accuracy: 0.95\n",
            "Epoch:  0 | train loss: 0.1295 | test accuracy: 0.94\n",
            "Epoch:  0 | train loss: 0.0984 | test accuracy: 0.95\n",
            "Epoch:  0 | train loss: 0.0155 | test accuracy: 0.96\n",
            "Epoch:  0 | train loss: 0.0521 | test accuracy: 0.96\n",
            "Epoch:  0 | train loss: 0.2229 | test accuracy: 0.97\n",
            "Epoch:  0 | train loss: 0.1540 | test accuracy: 0.95\n",
            "Epoch:  0 | train loss: 0.1429 | test accuracy: 0.96\n",
            "Epoch:  0 | train loss: 0.0685 | test accuracy: 0.96\n",
            "Epoch:  0 | train loss: 0.3072 | test accuracy: 0.96\n",
            "Epoch:  0 | train loss: 0.2719 | test accuracy: 0.96\n",
            "Epoch:  0 | train loss: 0.2345 | test accuracy: 0.97\n"
          ]
        },
        {
          "output_type": "stream",
          "name": "stderr",
          "text": [
            "\u001b[32m[I 2022-12-14 13:06:18,956]\u001b[0m Trial 4 finished with value: 0.972 and parameters: {'hidden_size': 64, 'cell_type': 'GRU'}. Best is trial 1 with value: 0.972.\u001b[0m\n"
          ]
        },
        {
          "output_type": "stream",
          "name": "stdout",
          "text": [
            "RNN(\n",
            "  (rnn): GRU(28, 64, batch_first=True)\n",
            "  (out): Linear(in_features=64, out_features=10, bias=True)\n",
            ")\n",
            "Epoch:  0 | train loss: 2.2903 | test accuracy: 0.11\n",
            "Epoch:  0 | train loss: 1.0358 | test accuracy: 0.63\n",
            "Epoch:  0 | train loss: 0.6318 | test accuracy: 0.83\n",
            "Epoch:  0 | train loss: 0.4461 | test accuracy: 0.90\n",
            "Epoch:  0 | train loss: 0.1551 | test accuracy: 0.92\n",
            "Epoch:  0 | train loss: 0.2884 | test accuracy: 0.95\n",
            "Epoch:  0 | train loss: 0.1589 | test accuracy: 0.95\n",
            "Epoch:  0 | train loss: 0.0788 | test accuracy: 0.95\n",
            "Epoch:  0 | train loss: 0.1664 | test accuracy: 0.95\n",
            "Epoch:  0 | train loss: 0.1106 | test accuracy: 0.95\n",
            "Epoch:  0 | train loss: 0.0897 | test accuracy: 0.95\n",
            "Epoch:  0 | train loss: 0.2734 | test accuracy: 0.96\n",
            "Epoch:  0 | train loss: 0.1388 | test accuracy: 0.96\n",
            "Epoch:  0 | train loss: 0.0525 | test accuracy: 0.96\n",
            "Epoch:  0 | train loss: 0.0911 | test accuracy: 0.97\n",
            "Epoch:  0 | train loss: 0.2137 | test accuracy: 0.96\n",
            "Epoch:  0 | train loss: 0.1316 | test accuracy: 0.96\n",
            "Epoch:  0 | train loss: 0.0300 | test accuracy: 0.97\n",
            "Epoch:  0 | train loss: 0.0542 | test accuracy: 0.96\n"
          ]
        },
        {
          "output_type": "stream",
          "name": "stderr",
          "text": [
            "\u001b[32m[I 2022-12-14 13:06:44,003]\u001b[0m Trial 5 finished with value: 0.964 and parameters: {'hidden_size': 64, 'cell_type': 'GRU'}. Best is trial 1 with value: 0.972.\u001b[0m\n"
          ]
        },
        {
          "output_type": "stream",
          "name": "stdout",
          "text": [
            "RNN(\n",
            "  (rnn): LSTM(28, 64, batch_first=True)\n",
            "  (out): Linear(in_features=64, out_features=10, bias=True)\n",
            ")\n",
            "Epoch:  0 | train loss: 2.3090 | test accuracy: 0.08\n",
            "Epoch:  0 | train loss: 1.0574 | test accuracy: 0.58\n",
            "Epoch:  0 | train loss: 0.8780 | test accuracy: 0.79\n",
            "Epoch:  0 | train loss: 0.4194 | test accuracy: 0.83\n",
            "Epoch:  0 | train loss: 0.5017 | test accuracy: 0.87\n",
            "Epoch:  0 | train loss: 0.4472 | test accuracy: 0.91\n",
            "Epoch:  0 | train loss: 0.2758 | test accuracy: 0.93\n",
            "Epoch:  0 | train loss: 0.3605 | test accuracy: 0.92\n",
            "Epoch:  0 | train loss: 0.4133 | test accuracy: 0.91\n",
            "Epoch:  0 | train loss: 0.2603 | test accuracy: 0.93\n",
            "Epoch:  0 | train loss: 0.2132 | test accuracy: 0.93\n",
            "Epoch:  0 | train loss: 0.0745 | test accuracy: 0.95\n",
            "Epoch:  0 | train loss: 0.2542 | test accuracy: 0.94\n",
            "Epoch:  0 | train loss: 0.1485 | test accuracy: 0.96\n",
            "Epoch:  0 | train loss: 0.0869 | test accuracy: 0.96\n",
            "Epoch:  0 | train loss: 0.0976 | test accuracy: 0.95\n",
            "Epoch:  0 | train loss: 0.1904 | test accuracy: 0.96\n",
            "Epoch:  0 | train loss: 0.0221 | test accuracy: 0.96\n",
            "Epoch:  0 | train loss: 0.0258 | test accuracy: 0.97\n"
          ]
        },
        {
          "output_type": "stream",
          "name": "stderr",
          "text": [
            "\u001b[32m[I 2022-12-14 13:07:15,568]\u001b[0m Trial 6 finished with value: 0.968 and parameters: {'hidden_size': 64, 'cell_type': 'LSTM'}. Best is trial 1 with value: 0.972.\u001b[0m\n"
          ]
        },
        {
          "output_type": "stream",
          "name": "stdout",
          "text": [
            "RNN(\n",
            "  (rnn): GRU(28, 128, batch_first=True)\n",
            "  (out): Linear(in_features=128, out_features=10, bias=True)\n",
            ")\n",
            "Epoch:  0 | train loss: 2.3046 | test accuracy: 0.15\n",
            "Epoch:  0 | train loss: 0.9105 | test accuracy: 0.71\n",
            "Epoch:  0 | train loss: 0.6359 | test accuracy: 0.84\n",
            "Epoch:  0 | train loss: 0.2954 | test accuracy: 0.87\n",
            "Epoch:  0 | train loss: 0.2644 | test accuracy: 0.93\n",
            "Epoch:  0 | train loss: 0.2704 | test accuracy: 0.95\n",
            "Epoch:  0 | train loss: 0.1724 | test accuracy: 0.94\n",
            "Epoch:  0 | train loss: 0.2510 | test accuracy: 0.97\n",
            "Epoch:  0 | train loss: 0.0832 | test accuracy: 0.97\n",
            "Epoch:  0 | train loss: 0.2632 | test accuracy: 0.94\n",
            "Epoch:  0 | train loss: 0.0115 | test accuracy: 0.96\n",
            "Epoch:  0 | train loss: 0.2322 | test accuracy: 0.95\n",
            "Epoch:  0 | train loss: 0.1176 | test accuracy: 0.96\n",
            "Epoch:  0 | train loss: 0.0862 | test accuracy: 0.97\n",
            "Epoch:  0 | train loss: 0.0943 | test accuracy: 0.96\n",
            "Epoch:  0 | train loss: 0.0666 | test accuracy: 0.96\n",
            "Epoch:  0 | train loss: 0.1832 | test accuracy: 0.95\n",
            "Epoch:  0 | train loss: 0.0821 | test accuracy: 0.95\n",
            "Epoch:  0 | train loss: 0.1965 | test accuracy: 0.97\n"
          ]
        },
        {
          "output_type": "stream",
          "name": "stderr",
          "text": [
            "\u001b[32m[I 2022-12-14 13:07:55,264]\u001b[0m Trial 7 finished with value: 0.974 and parameters: {'hidden_size': 128, 'cell_type': 'GRU'}. Best is trial 7 with value: 0.974.\u001b[0m\n"
          ]
        },
        {
          "output_type": "stream",
          "name": "stdout",
          "text": [
            "RNN(\n",
            "  (rnn): LSTM(28, 128, batch_first=True)\n",
            "  (out): Linear(in_features=128, out_features=10, bias=True)\n",
            ")\n",
            "Epoch:  0 | train loss: 2.3222 | test accuracy: 0.14\n",
            "Epoch:  0 | train loss: 1.5515 | test accuracy: 0.46\n",
            "Epoch:  0 | train loss: 0.8464 | test accuracy: 0.67\n",
            "Epoch:  0 | train loss: 0.8430 | test accuracy: 0.74\n",
            "Epoch:  0 | train loss: 0.4950 | test accuracy: 0.85\n",
            "Epoch:  0 | train loss: 0.2905 | test accuracy: 0.90\n",
            "Epoch:  0 | train loss: 0.4903 | test accuracy: 0.89\n",
            "Epoch:  0 | train loss: 0.6169 | test accuracy: 0.89\n",
            "Epoch:  0 | train loss: 0.3142 | test accuracy: 0.94\n",
            "Epoch:  0 | train loss: 0.2978 | test accuracy: 0.92\n",
            "Epoch:  0 | train loss: 0.0818 | test accuracy: 0.95\n",
            "Epoch:  0 | train loss: 0.1362 | test accuracy: 0.96\n",
            "Epoch:  0 | train loss: 0.2566 | test accuracy: 0.95\n",
            "Epoch:  0 | train loss: 0.2257 | test accuracy: 0.95\n",
            "Epoch:  0 | train loss: 0.1035 | test accuracy: 0.94\n",
            "Epoch:  0 | train loss: 0.1542 | test accuracy: 0.96\n",
            "Epoch:  0 | train loss: 0.0902 | test accuracy: 0.96\n",
            "Epoch:  0 | train loss: 0.1538 | test accuracy: 0.96\n",
            "Epoch:  0 | train loss: 0.0236 | test accuracy: 0.96\n"
          ]
        },
        {
          "output_type": "stream",
          "name": "stderr",
          "text": [
            "\u001b[32m[I 2022-12-14 13:08:36,399]\u001b[0m Trial 8 finished with value: 0.963 and parameters: {'hidden_size': 128, 'cell_type': 'LSTM'}. Best is trial 7 with value: 0.974.\u001b[0m\n"
          ]
        },
        {
          "output_type": "stream",
          "name": "stdout",
          "text": [
            "RNN(\n",
            "  (rnn): GRU(28, 128, batch_first=True)\n",
            "  (out): Linear(in_features=128, out_features=10, bias=True)\n",
            ")\n",
            "Epoch:  0 | train loss: 2.3090 | test accuracy: 0.16\n",
            "Epoch:  0 | train loss: 0.8147 | test accuracy: 0.74\n",
            "Epoch:  0 | train loss: 0.2981 | test accuracy: 0.88\n",
            "Epoch:  0 | train loss: 0.2740 | test accuracy: 0.87\n",
            "Epoch:  0 | train loss: 0.3009 | test accuracy: 0.94\n",
            "Epoch:  0 | train loss: 0.1929 | test accuracy: 0.94\n",
            "Epoch:  0 | train loss: 0.3505 | test accuracy: 0.96\n",
            "Epoch:  0 | train loss: 0.1732 | test accuracy: 0.95\n",
            "Epoch:  0 | train loss: 0.0416 | test accuracy: 0.95\n",
            "Epoch:  0 | train loss: 0.1320 | test accuracy: 0.95\n",
            "Epoch:  0 | train loss: 0.1923 | test accuracy: 0.96\n",
            "Epoch:  0 | train loss: 0.0987 | test accuracy: 0.97\n",
            "Epoch:  0 | train loss: 0.1135 | test accuracy: 0.97\n",
            "Epoch:  0 | train loss: 0.1617 | test accuracy: 0.97\n",
            "Epoch:  0 | train loss: 0.0883 | test accuracy: 0.97\n",
            "Epoch:  0 | train loss: 0.1233 | test accuracy: 0.97\n",
            "Epoch:  0 | train loss: 0.1495 | test accuracy: 0.97\n",
            "Epoch:  0 | train loss: 0.3021 | test accuracy: 0.95\n",
            "Epoch:  0 | train loss: 0.0430 | test accuracy: 0.97\n"
          ]
        },
        {
          "output_type": "stream",
          "name": "stderr",
          "text": [
            "\u001b[32m[I 2022-12-14 13:09:13,246]\u001b[0m Trial 9 finished with value: 0.966 and parameters: {'hidden_size': 128, 'cell_type': 'GRU'}. Best is trial 7 with value: 0.974.\u001b[0m\n"
          ]
        }
      ]
    },
    {
      "cell_type": "markdown",
      "source": [
        "### Optuna Visualizations 🔍"
      ],
      "metadata": {
        "id": "IZ6o1GHwvnRq"
      }
    },
    {
      "cell_type": "code",
      "source": [
        "from optuna.visualization import plot_contour\n",
        "from optuna.visualization import plot_edf\n",
        "from optuna.visualization import plot_intermediate_values\n",
        "from optuna.visualization import plot_optimization_history\n",
        "from optuna.visualization import plot_parallel_coordinate\n",
        "from optuna.visualization import plot_param_importances\n",
        "from optuna.visualization import plot_slice"
      ],
      "metadata": {
        "id": "V4aFrah-v00q"
      },
      "execution_count": 15,
      "outputs": []
    },
    {
      "cell_type": "code",
      "source": [
        "plot_optimization_history(study)"
      ],
      "metadata": {
        "colab": {
          "base_uri": "https://localhost:8080/",
          "height": 542
        },
        "id": "GN_rh1tzvhj7",
        "outputId": "8e69ab58-c999-49bc-856f-c01070c595d5"
      },
      "execution_count": 16,
      "outputs": [
        {
          "output_type": "display_data",
          "data": {
            "text/html": [
              "<html>\n",
              "<head><meta charset=\"utf-8\" /></head>\n",
              "<body>\n",
              "    <div>            <script src=\"https://cdnjs.cloudflare.com/ajax/libs/mathjax/2.7.5/MathJax.js?config=TeX-AMS-MML_SVG\"></script><script type=\"text/javascript\">if (window.MathJax) {MathJax.Hub.Config({SVG: {font: \"STIX-Web\"}});}</script>                <script type=\"text/javascript\">window.PlotlyConfig = {MathJaxConfig: 'local'};</script>\n",
              "        <script src=\"https://cdn.plot.ly/plotly-2.8.3.min.js\"></script>                <div id=\"af5f6ce2-2eea-46c4-b606-5fdca433760b\" class=\"plotly-graph-div\" style=\"height:525px; width:100%;\"></div>            <script type=\"text/javascript\">                                    window.PLOTLYENV=window.PLOTLYENV || {};                                    if (document.getElementById(\"af5f6ce2-2eea-46c4-b606-5fdca433760b\")) {                    Plotly.newPlot(                        \"af5f6ce2-2eea-46c4-b606-5fdca433760b\",                        [{\"mode\":\"markers\",\"name\":\"Objective Value\",\"x\":[0,1,2,3,4,5,6,7,8,9],\"y\":[0.958,0.972,0.967,0.968,0.972,0.964,0.968,0.974,0.963,0.966],\"type\":\"scatter\"},{\"name\":\"Best Value\",\"x\":[0,1,2,3,4,5,6,7,8,9],\"y\":[0.958,0.972,0.972,0.972,0.972,0.972,0.972,0.974,0.974,0.974],\"type\":\"scatter\"}],                        {\"title\":{\"text\":\"Optimization History Plot\"},\"xaxis\":{\"title\":{\"text\":\"Trial\"}},\"yaxis\":{\"title\":{\"text\":\"Objective Value\"}},\"template\":{\"data\":{\"bar\":[{\"error_x\":{\"color\":\"#2a3f5f\"},\"error_y\":{\"color\":\"#2a3f5f\"},\"marker\":{\"line\":{\"color\":\"#E5ECF6\",\"width\":0.5},\"pattern\":{\"fillmode\":\"overlay\",\"size\":10,\"solidity\":0.2}},\"type\":\"bar\"}],\"barpolar\":[{\"marker\":{\"line\":{\"color\":\"#E5ECF6\",\"width\":0.5},\"pattern\":{\"fillmode\":\"overlay\",\"size\":10,\"solidity\":0.2}},\"type\":\"barpolar\"}],\"carpet\":[{\"aaxis\":{\"endlinecolor\":\"#2a3f5f\",\"gridcolor\":\"white\",\"linecolor\":\"white\",\"minorgridcolor\":\"white\",\"startlinecolor\":\"#2a3f5f\"},\"baxis\":{\"endlinecolor\":\"#2a3f5f\",\"gridcolor\":\"white\",\"linecolor\":\"white\",\"minorgridcolor\":\"white\",\"startlinecolor\":\"#2a3f5f\"},\"type\":\"carpet\"}],\"choropleth\":[{\"colorbar\":{\"outlinewidth\":0,\"ticks\":\"\"},\"type\":\"choropleth\"}],\"contour\":[{\"colorbar\":{\"outlinewidth\":0,\"ticks\":\"\"},\"colorscale\":[[0.0,\"#0d0887\"],[0.1111111111111111,\"#46039f\"],[0.2222222222222222,\"#7201a8\"],[0.3333333333333333,\"#9c179e\"],[0.4444444444444444,\"#bd3786\"],[0.5555555555555556,\"#d8576b\"],[0.6666666666666666,\"#ed7953\"],[0.7777777777777778,\"#fb9f3a\"],[0.8888888888888888,\"#fdca26\"],[1.0,\"#f0f921\"]],\"type\":\"contour\"}],\"contourcarpet\":[{\"colorbar\":{\"outlinewidth\":0,\"ticks\":\"\"},\"type\":\"contourcarpet\"}],\"heatmap\":[{\"colorbar\":{\"outlinewidth\":0,\"ticks\":\"\"},\"colorscale\":[[0.0,\"#0d0887\"],[0.1111111111111111,\"#46039f\"],[0.2222222222222222,\"#7201a8\"],[0.3333333333333333,\"#9c179e\"],[0.4444444444444444,\"#bd3786\"],[0.5555555555555556,\"#d8576b\"],[0.6666666666666666,\"#ed7953\"],[0.7777777777777778,\"#fb9f3a\"],[0.8888888888888888,\"#fdca26\"],[1.0,\"#f0f921\"]],\"type\":\"heatmap\"}],\"heatmapgl\":[{\"colorbar\":{\"outlinewidth\":0,\"ticks\":\"\"},\"colorscale\":[[0.0,\"#0d0887\"],[0.1111111111111111,\"#46039f\"],[0.2222222222222222,\"#7201a8\"],[0.3333333333333333,\"#9c179e\"],[0.4444444444444444,\"#bd3786\"],[0.5555555555555556,\"#d8576b\"],[0.6666666666666666,\"#ed7953\"],[0.7777777777777778,\"#fb9f3a\"],[0.8888888888888888,\"#fdca26\"],[1.0,\"#f0f921\"]],\"type\":\"heatmapgl\"}],\"histogram\":[{\"marker\":{\"pattern\":{\"fillmode\":\"overlay\",\"size\":10,\"solidity\":0.2}},\"type\":\"histogram\"}],\"histogram2d\":[{\"colorbar\":{\"outlinewidth\":0,\"ticks\":\"\"},\"colorscale\":[[0.0,\"#0d0887\"],[0.1111111111111111,\"#46039f\"],[0.2222222222222222,\"#7201a8\"],[0.3333333333333333,\"#9c179e\"],[0.4444444444444444,\"#bd3786\"],[0.5555555555555556,\"#d8576b\"],[0.6666666666666666,\"#ed7953\"],[0.7777777777777778,\"#fb9f3a\"],[0.8888888888888888,\"#fdca26\"],[1.0,\"#f0f921\"]],\"type\":\"histogram2d\"}],\"histogram2dcontour\":[{\"colorbar\":{\"outlinewidth\":0,\"ticks\":\"\"},\"colorscale\":[[0.0,\"#0d0887\"],[0.1111111111111111,\"#46039f\"],[0.2222222222222222,\"#7201a8\"],[0.3333333333333333,\"#9c179e\"],[0.4444444444444444,\"#bd3786\"],[0.5555555555555556,\"#d8576b\"],[0.6666666666666666,\"#ed7953\"],[0.7777777777777778,\"#fb9f3a\"],[0.8888888888888888,\"#fdca26\"],[1.0,\"#f0f921\"]],\"type\":\"histogram2dcontour\"}],\"mesh3d\":[{\"colorbar\":{\"outlinewidth\":0,\"ticks\":\"\"},\"type\":\"mesh3d\"}],\"parcoords\":[{\"line\":{\"colorbar\":{\"outlinewidth\":0,\"ticks\":\"\"}},\"type\":\"parcoords\"}],\"pie\":[{\"automargin\":true,\"type\":\"pie\"}],\"scatter\":[{\"marker\":{\"colorbar\":{\"outlinewidth\":0,\"ticks\":\"\"}},\"type\":\"scatter\"}],\"scatter3d\":[{\"line\":{\"colorbar\":{\"outlinewidth\":0,\"ticks\":\"\"}},\"marker\":{\"colorbar\":{\"outlinewidth\":0,\"ticks\":\"\"}},\"type\":\"scatter3d\"}],\"scattercarpet\":[{\"marker\":{\"colorbar\":{\"outlinewidth\":0,\"ticks\":\"\"}},\"type\":\"scattercarpet\"}],\"scattergeo\":[{\"marker\":{\"colorbar\":{\"outlinewidth\":0,\"ticks\":\"\"}},\"type\":\"scattergeo\"}],\"scattergl\":[{\"marker\":{\"colorbar\":{\"outlinewidth\":0,\"ticks\":\"\"}},\"type\":\"scattergl\"}],\"scattermapbox\":[{\"marker\":{\"colorbar\":{\"outlinewidth\":0,\"ticks\":\"\"}},\"type\":\"scattermapbox\"}],\"scatterpolar\":[{\"marker\":{\"colorbar\":{\"outlinewidth\":0,\"ticks\":\"\"}},\"type\":\"scatterpolar\"}],\"scatterpolargl\":[{\"marker\":{\"colorbar\":{\"outlinewidth\":0,\"ticks\":\"\"}},\"type\":\"scatterpolargl\"}],\"scatterternary\":[{\"marker\":{\"colorbar\":{\"outlinewidth\":0,\"ticks\":\"\"}},\"type\":\"scatterternary\"}],\"surface\":[{\"colorbar\":{\"outlinewidth\":0,\"ticks\":\"\"},\"colorscale\":[[0.0,\"#0d0887\"],[0.1111111111111111,\"#46039f\"],[0.2222222222222222,\"#7201a8\"],[0.3333333333333333,\"#9c179e\"],[0.4444444444444444,\"#bd3786\"],[0.5555555555555556,\"#d8576b\"],[0.6666666666666666,\"#ed7953\"],[0.7777777777777778,\"#fb9f3a\"],[0.8888888888888888,\"#fdca26\"],[1.0,\"#f0f921\"]],\"type\":\"surface\"}],\"table\":[{\"cells\":{\"fill\":{\"color\":\"#EBF0F8\"},\"line\":{\"color\":\"white\"}},\"header\":{\"fill\":{\"color\":\"#C8D4E3\"},\"line\":{\"color\":\"white\"}},\"type\":\"table\"}]},\"layout\":{\"annotationdefaults\":{\"arrowcolor\":\"#2a3f5f\",\"arrowhead\":0,\"arrowwidth\":1},\"autotypenumbers\":\"strict\",\"coloraxis\":{\"colorbar\":{\"outlinewidth\":0,\"ticks\":\"\"}},\"colorscale\":{\"diverging\":[[0,\"#8e0152\"],[0.1,\"#c51b7d\"],[0.2,\"#de77ae\"],[0.3,\"#f1b6da\"],[0.4,\"#fde0ef\"],[0.5,\"#f7f7f7\"],[0.6,\"#e6f5d0\"],[0.7,\"#b8e186\"],[0.8,\"#7fbc41\"],[0.9,\"#4d9221\"],[1,\"#276419\"]],\"sequential\":[[0.0,\"#0d0887\"],[0.1111111111111111,\"#46039f\"],[0.2222222222222222,\"#7201a8\"],[0.3333333333333333,\"#9c179e\"],[0.4444444444444444,\"#bd3786\"],[0.5555555555555556,\"#d8576b\"],[0.6666666666666666,\"#ed7953\"],[0.7777777777777778,\"#fb9f3a\"],[0.8888888888888888,\"#fdca26\"],[1.0,\"#f0f921\"]],\"sequentialminus\":[[0.0,\"#0d0887\"],[0.1111111111111111,\"#46039f\"],[0.2222222222222222,\"#7201a8\"],[0.3333333333333333,\"#9c179e\"],[0.4444444444444444,\"#bd3786\"],[0.5555555555555556,\"#d8576b\"],[0.6666666666666666,\"#ed7953\"],[0.7777777777777778,\"#fb9f3a\"],[0.8888888888888888,\"#fdca26\"],[1.0,\"#f0f921\"]]},\"colorway\":[\"#636efa\",\"#EF553B\",\"#00cc96\",\"#ab63fa\",\"#FFA15A\",\"#19d3f3\",\"#FF6692\",\"#B6E880\",\"#FF97FF\",\"#FECB52\"],\"font\":{\"color\":\"#2a3f5f\"},\"geo\":{\"bgcolor\":\"white\",\"lakecolor\":\"white\",\"landcolor\":\"#E5ECF6\",\"showlakes\":true,\"showland\":true,\"subunitcolor\":\"white\"},\"hoverlabel\":{\"align\":\"left\"},\"hovermode\":\"closest\",\"mapbox\":{\"style\":\"light\"},\"paper_bgcolor\":\"white\",\"plot_bgcolor\":\"#E5ECF6\",\"polar\":{\"angularaxis\":{\"gridcolor\":\"white\",\"linecolor\":\"white\",\"ticks\":\"\"},\"bgcolor\":\"#E5ECF6\",\"radialaxis\":{\"gridcolor\":\"white\",\"linecolor\":\"white\",\"ticks\":\"\"}},\"scene\":{\"xaxis\":{\"backgroundcolor\":\"#E5ECF6\",\"gridcolor\":\"white\",\"gridwidth\":2,\"linecolor\":\"white\",\"showbackground\":true,\"ticks\":\"\",\"zerolinecolor\":\"white\"},\"yaxis\":{\"backgroundcolor\":\"#E5ECF6\",\"gridcolor\":\"white\",\"gridwidth\":2,\"linecolor\":\"white\",\"showbackground\":true,\"ticks\":\"\",\"zerolinecolor\":\"white\"},\"zaxis\":{\"backgroundcolor\":\"#E5ECF6\",\"gridcolor\":\"white\",\"gridwidth\":2,\"linecolor\":\"white\",\"showbackground\":true,\"ticks\":\"\",\"zerolinecolor\":\"white\"}},\"shapedefaults\":{\"line\":{\"color\":\"#2a3f5f\"}},\"ternary\":{\"aaxis\":{\"gridcolor\":\"white\",\"linecolor\":\"white\",\"ticks\":\"\"},\"baxis\":{\"gridcolor\":\"white\",\"linecolor\":\"white\",\"ticks\":\"\"},\"bgcolor\":\"#E5ECF6\",\"caxis\":{\"gridcolor\":\"white\",\"linecolor\":\"white\",\"ticks\":\"\"}},\"title\":{\"x\":0.05},\"xaxis\":{\"automargin\":true,\"gridcolor\":\"white\",\"linecolor\":\"white\",\"ticks\":\"\",\"title\":{\"standoff\":15},\"zerolinecolor\":\"white\",\"zerolinewidth\":2},\"yaxis\":{\"automargin\":true,\"gridcolor\":\"white\",\"linecolor\":\"white\",\"ticks\":\"\",\"title\":{\"standoff\":15},\"zerolinecolor\":\"white\",\"zerolinewidth\":2}}}},                        {\"responsive\": true}                    ).then(function(){\n",
              "                            \n",
              "var gd = document.getElementById('af5f6ce2-2eea-46c4-b606-5fdca433760b');\n",
              "var x = new MutationObserver(function (mutations, observer) {{\n",
              "        var display = window.getComputedStyle(gd).display;\n",
              "        if (!display || display === 'none') {{\n",
              "            console.log([gd, 'removed!']);\n",
              "            Plotly.purge(gd);\n",
              "            observer.disconnect();\n",
              "        }}\n",
              "}});\n",
              "\n",
              "// Listen for the removal of the full notebook cells\n",
              "var notebookContainer = gd.closest('#notebook-container');\n",
              "if (notebookContainer) {{\n",
              "    x.observe(notebookContainer, {childList: true});\n",
              "}}\n",
              "\n",
              "// Listen for the clearing of the current output cell\n",
              "var outputEl = gd.closest('.output');\n",
              "if (outputEl) {{\n",
              "    x.observe(outputEl, {childList: true});\n",
              "}}\n",
              "\n",
              "                        })                };                            </script>        </div>\n",
              "</body>\n",
              "</html>"
            ]
          },
          "metadata": {}
        }
      ]
    },
    {
      "cell_type": "code",
      "source": [
        "plot_parallel_coordinate(study)"
      ],
      "metadata": {
        "colab": {
          "base_uri": "https://localhost:8080/",
          "height": 542
        },
        "id": "grUe-vT5vjEZ",
        "outputId": "142f37ac-7e2a-4a8d-a68b-cb539bf5888b"
      },
      "execution_count": 19,
      "outputs": [
        {
          "output_type": "display_data",
          "data": {
            "text/html": [
              "<html>\n",
              "<head><meta charset=\"utf-8\" /></head>\n",
              "<body>\n",
              "    <div>            <script src=\"https://cdnjs.cloudflare.com/ajax/libs/mathjax/2.7.5/MathJax.js?config=TeX-AMS-MML_SVG\"></script><script type=\"text/javascript\">if (window.MathJax) {MathJax.Hub.Config({SVG: {font: \"STIX-Web\"}});}</script>                <script type=\"text/javascript\">window.PlotlyConfig = {MathJaxConfig: 'local'};</script>\n",
              "        <script src=\"https://cdn.plot.ly/plotly-2.8.3.min.js\"></script>                <div id=\"e74e58b6-1002-4708-9e17-46b5a0444114\" class=\"plotly-graph-div\" style=\"height:525px; width:100%;\"></div>            <script type=\"text/javascript\">                                    window.PLOTLYENV=window.PLOTLYENV || {};                                    if (document.getElementById(\"e74e58b6-1002-4708-9e17-46b5a0444114\")) {                    Plotly.newPlot(                        \"e74e58b6-1002-4708-9e17-46b5a0444114\",                        [{\"dimensions\":[{\"label\":\"Objective Value\",\"range\":[0.958,0.974],\"values\":[0.958,0.972,0.968,0.972,0.964,0.968,0.967,0.974,0.963,0.966]},{\"label\":\"cell_type\",\"range\":[0,1],\"ticktext\":[\"LSTM\",\"GRU\"],\"tickvals\":[0,1],\"values\":[0,0,1,1,1,0,1,1,0,1]},{\"label\":\"hidden_size\",\"range\":[0,1],\"ticktext\":[\"64\",\"128\"],\"tickvals\":[0,1],\"values\":[0,0,0,0,0,0,1,1,1,1]}],\"labelangle\":30,\"labelside\":\"bottom\",\"line\":{\"color\":[0.958,0.972,0.968,0.972,0.964,0.968,0.967,0.974,0.963,0.966],\"colorbar\":{\"title\":{\"text\":\"Objective Value\"}},\"colorscale\":[[0.0,\"rgb(247,251,255)\"],[0.125,\"rgb(222,235,247)\"],[0.25,\"rgb(198,219,239)\"],[0.375,\"rgb(158,202,225)\"],[0.5,\"rgb(107,174,214)\"],[0.625,\"rgb(66,146,198)\"],[0.75,\"rgb(33,113,181)\"],[0.875,\"rgb(8,81,156)\"],[1.0,\"rgb(8,48,107)\"]],\"reversescale\":false,\"showscale\":true},\"type\":\"parcoords\"}],                        {\"title\":{\"text\":\"Parallel Coordinate Plot\"},\"template\":{\"data\":{\"bar\":[{\"error_x\":{\"color\":\"#2a3f5f\"},\"error_y\":{\"color\":\"#2a3f5f\"},\"marker\":{\"line\":{\"color\":\"#E5ECF6\",\"width\":0.5},\"pattern\":{\"fillmode\":\"overlay\",\"size\":10,\"solidity\":0.2}},\"type\":\"bar\"}],\"barpolar\":[{\"marker\":{\"line\":{\"color\":\"#E5ECF6\",\"width\":0.5},\"pattern\":{\"fillmode\":\"overlay\",\"size\":10,\"solidity\":0.2}},\"type\":\"barpolar\"}],\"carpet\":[{\"aaxis\":{\"endlinecolor\":\"#2a3f5f\",\"gridcolor\":\"white\",\"linecolor\":\"white\",\"minorgridcolor\":\"white\",\"startlinecolor\":\"#2a3f5f\"},\"baxis\":{\"endlinecolor\":\"#2a3f5f\",\"gridcolor\":\"white\",\"linecolor\":\"white\",\"minorgridcolor\":\"white\",\"startlinecolor\":\"#2a3f5f\"},\"type\":\"carpet\"}],\"choropleth\":[{\"colorbar\":{\"outlinewidth\":0,\"ticks\":\"\"},\"type\":\"choropleth\"}],\"contour\":[{\"colorbar\":{\"outlinewidth\":0,\"ticks\":\"\"},\"colorscale\":[[0.0,\"#0d0887\"],[0.1111111111111111,\"#46039f\"],[0.2222222222222222,\"#7201a8\"],[0.3333333333333333,\"#9c179e\"],[0.4444444444444444,\"#bd3786\"],[0.5555555555555556,\"#d8576b\"],[0.6666666666666666,\"#ed7953\"],[0.7777777777777778,\"#fb9f3a\"],[0.8888888888888888,\"#fdca26\"],[1.0,\"#f0f921\"]],\"type\":\"contour\"}],\"contourcarpet\":[{\"colorbar\":{\"outlinewidth\":0,\"ticks\":\"\"},\"type\":\"contourcarpet\"}],\"heatmap\":[{\"colorbar\":{\"outlinewidth\":0,\"ticks\":\"\"},\"colorscale\":[[0.0,\"#0d0887\"],[0.1111111111111111,\"#46039f\"],[0.2222222222222222,\"#7201a8\"],[0.3333333333333333,\"#9c179e\"],[0.4444444444444444,\"#bd3786\"],[0.5555555555555556,\"#d8576b\"],[0.6666666666666666,\"#ed7953\"],[0.7777777777777778,\"#fb9f3a\"],[0.8888888888888888,\"#fdca26\"],[1.0,\"#f0f921\"]],\"type\":\"heatmap\"}],\"heatmapgl\":[{\"colorbar\":{\"outlinewidth\":0,\"ticks\":\"\"},\"colorscale\":[[0.0,\"#0d0887\"],[0.1111111111111111,\"#46039f\"],[0.2222222222222222,\"#7201a8\"],[0.3333333333333333,\"#9c179e\"],[0.4444444444444444,\"#bd3786\"],[0.5555555555555556,\"#d8576b\"],[0.6666666666666666,\"#ed7953\"],[0.7777777777777778,\"#fb9f3a\"],[0.8888888888888888,\"#fdca26\"],[1.0,\"#f0f921\"]],\"type\":\"heatmapgl\"}],\"histogram\":[{\"marker\":{\"pattern\":{\"fillmode\":\"overlay\",\"size\":10,\"solidity\":0.2}},\"type\":\"histogram\"}],\"histogram2d\":[{\"colorbar\":{\"outlinewidth\":0,\"ticks\":\"\"},\"colorscale\":[[0.0,\"#0d0887\"],[0.1111111111111111,\"#46039f\"],[0.2222222222222222,\"#7201a8\"],[0.3333333333333333,\"#9c179e\"],[0.4444444444444444,\"#bd3786\"],[0.5555555555555556,\"#d8576b\"],[0.6666666666666666,\"#ed7953\"],[0.7777777777777778,\"#fb9f3a\"],[0.8888888888888888,\"#fdca26\"],[1.0,\"#f0f921\"]],\"type\":\"histogram2d\"}],\"histogram2dcontour\":[{\"colorbar\":{\"outlinewidth\":0,\"ticks\":\"\"},\"colorscale\":[[0.0,\"#0d0887\"],[0.1111111111111111,\"#46039f\"],[0.2222222222222222,\"#7201a8\"],[0.3333333333333333,\"#9c179e\"],[0.4444444444444444,\"#bd3786\"],[0.5555555555555556,\"#d8576b\"],[0.6666666666666666,\"#ed7953\"],[0.7777777777777778,\"#fb9f3a\"],[0.8888888888888888,\"#fdca26\"],[1.0,\"#f0f921\"]],\"type\":\"histogram2dcontour\"}],\"mesh3d\":[{\"colorbar\":{\"outlinewidth\":0,\"ticks\":\"\"},\"type\":\"mesh3d\"}],\"parcoords\":[{\"line\":{\"colorbar\":{\"outlinewidth\":0,\"ticks\":\"\"}},\"type\":\"parcoords\"}],\"pie\":[{\"automargin\":true,\"type\":\"pie\"}],\"scatter\":[{\"marker\":{\"colorbar\":{\"outlinewidth\":0,\"ticks\":\"\"}},\"type\":\"scatter\"}],\"scatter3d\":[{\"line\":{\"colorbar\":{\"outlinewidth\":0,\"ticks\":\"\"}},\"marker\":{\"colorbar\":{\"outlinewidth\":0,\"ticks\":\"\"}},\"type\":\"scatter3d\"}],\"scattercarpet\":[{\"marker\":{\"colorbar\":{\"outlinewidth\":0,\"ticks\":\"\"}},\"type\":\"scattercarpet\"}],\"scattergeo\":[{\"marker\":{\"colorbar\":{\"outlinewidth\":0,\"ticks\":\"\"}},\"type\":\"scattergeo\"}],\"scattergl\":[{\"marker\":{\"colorbar\":{\"outlinewidth\":0,\"ticks\":\"\"}},\"type\":\"scattergl\"}],\"scattermapbox\":[{\"marker\":{\"colorbar\":{\"outlinewidth\":0,\"ticks\":\"\"}},\"type\":\"scattermapbox\"}],\"scatterpolar\":[{\"marker\":{\"colorbar\":{\"outlinewidth\":0,\"ticks\":\"\"}},\"type\":\"scatterpolar\"}],\"scatterpolargl\":[{\"marker\":{\"colorbar\":{\"outlinewidth\":0,\"ticks\":\"\"}},\"type\":\"scatterpolargl\"}],\"scatterternary\":[{\"marker\":{\"colorbar\":{\"outlinewidth\":0,\"ticks\":\"\"}},\"type\":\"scatterternary\"}],\"surface\":[{\"colorbar\":{\"outlinewidth\":0,\"ticks\":\"\"},\"colorscale\":[[0.0,\"#0d0887\"],[0.1111111111111111,\"#46039f\"],[0.2222222222222222,\"#7201a8\"],[0.3333333333333333,\"#9c179e\"],[0.4444444444444444,\"#bd3786\"],[0.5555555555555556,\"#d8576b\"],[0.6666666666666666,\"#ed7953\"],[0.7777777777777778,\"#fb9f3a\"],[0.8888888888888888,\"#fdca26\"],[1.0,\"#f0f921\"]],\"type\":\"surface\"}],\"table\":[{\"cells\":{\"fill\":{\"color\":\"#EBF0F8\"},\"line\":{\"color\":\"white\"}},\"header\":{\"fill\":{\"color\":\"#C8D4E3\"},\"line\":{\"color\":\"white\"}},\"type\":\"table\"}]},\"layout\":{\"annotationdefaults\":{\"arrowcolor\":\"#2a3f5f\",\"arrowhead\":0,\"arrowwidth\":1},\"autotypenumbers\":\"strict\",\"coloraxis\":{\"colorbar\":{\"outlinewidth\":0,\"ticks\":\"\"}},\"colorscale\":{\"diverging\":[[0,\"#8e0152\"],[0.1,\"#c51b7d\"],[0.2,\"#de77ae\"],[0.3,\"#f1b6da\"],[0.4,\"#fde0ef\"],[0.5,\"#f7f7f7\"],[0.6,\"#e6f5d0\"],[0.7,\"#b8e186\"],[0.8,\"#7fbc41\"],[0.9,\"#4d9221\"],[1,\"#276419\"]],\"sequential\":[[0.0,\"#0d0887\"],[0.1111111111111111,\"#46039f\"],[0.2222222222222222,\"#7201a8\"],[0.3333333333333333,\"#9c179e\"],[0.4444444444444444,\"#bd3786\"],[0.5555555555555556,\"#d8576b\"],[0.6666666666666666,\"#ed7953\"],[0.7777777777777778,\"#fb9f3a\"],[0.8888888888888888,\"#fdca26\"],[1.0,\"#f0f921\"]],\"sequentialminus\":[[0.0,\"#0d0887\"],[0.1111111111111111,\"#46039f\"],[0.2222222222222222,\"#7201a8\"],[0.3333333333333333,\"#9c179e\"],[0.4444444444444444,\"#bd3786\"],[0.5555555555555556,\"#d8576b\"],[0.6666666666666666,\"#ed7953\"],[0.7777777777777778,\"#fb9f3a\"],[0.8888888888888888,\"#fdca26\"],[1.0,\"#f0f921\"]]},\"colorway\":[\"#636efa\",\"#EF553B\",\"#00cc96\",\"#ab63fa\",\"#FFA15A\",\"#19d3f3\",\"#FF6692\",\"#B6E880\",\"#FF97FF\",\"#FECB52\"],\"font\":{\"color\":\"#2a3f5f\"},\"geo\":{\"bgcolor\":\"white\",\"lakecolor\":\"white\",\"landcolor\":\"#E5ECF6\",\"showlakes\":true,\"showland\":true,\"subunitcolor\":\"white\"},\"hoverlabel\":{\"align\":\"left\"},\"hovermode\":\"closest\",\"mapbox\":{\"style\":\"light\"},\"paper_bgcolor\":\"white\",\"plot_bgcolor\":\"#E5ECF6\",\"polar\":{\"angularaxis\":{\"gridcolor\":\"white\",\"linecolor\":\"white\",\"ticks\":\"\"},\"bgcolor\":\"#E5ECF6\",\"radialaxis\":{\"gridcolor\":\"white\",\"linecolor\":\"white\",\"ticks\":\"\"}},\"scene\":{\"xaxis\":{\"backgroundcolor\":\"#E5ECF6\",\"gridcolor\":\"white\",\"gridwidth\":2,\"linecolor\":\"white\",\"showbackground\":true,\"ticks\":\"\",\"zerolinecolor\":\"white\"},\"yaxis\":{\"backgroundcolor\":\"#E5ECF6\",\"gridcolor\":\"white\",\"gridwidth\":2,\"linecolor\":\"white\",\"showbackground\":true,\"ticks\":\"\",\"zerolinecolor\":\"white\"},\"zaxis\":{\"backgroundcolor\":\"#E5ECF6\",\"gridcolor\":\"white\",\"gridwidth\":2,\"linecolor\":\"white\",\"showbackground\":true,\"ticks\":\"\",\"zerolinecolor\":\"white\"}},\"shapedefaults\":{\"line\":{\"color\":\"#2a3f5f\"}},\"ternary\":{\"aaxis\":{\"gridcolor\":\"white\",\"linecolor\":\"white\",\"ticks\":\"\"},\"baxis\":{\"gridcolor\":\"white\",\"linecolor\":\"white\",\"ticks\":\"\"},\"bgcolor\":\"#E5ECF6\",\"caxis\":{\"gridcolor\":\"white\",\"linecolor\":\"white\",\"ticks\":\"\"}},\"title\":{\"x\":0.05},\"xaxis\":{\"automargin\":true,\"gridcolor\":\"white\",\"linecolor\":\"white\",\"ticks\":\"\",\"title\":{\"standoff\":15},\"zerolinecolor\":\"white\",\"zerolinewidth\":2},\"yaxis\":{\"automargin\":true,\"gridcolor\":\"white\",\"linecolor\":\"white\",\"ticks\":\"\",\"title\":{\"standoff\":15},\"zerolinecolor\":\"white\",\"zerolinewidth\":2}}}},                        {\"responsive\": true}                    ).then(function(){\n",
              "                            \n",
              "var gd = document.getElementById('e74e58b6-1002-4708-9e17-46b5a0444114');\n",
              "var x = new MutationObserver(function (mutations, observer) {{\n",
              "        var display = window.getComputedStyle(gd).display;\n",
              "        if (!display || display === 'none') {{\n",
              "            console.log([gd, 'removed!']);\n",
              "            Plotly.purge(gd);\n",
              "            observer.disconnect();\n",
              "        }}\n",
              "}});\n",
              "\n",
              "// Listen for the removal of the full notebook cells\n",
              "var notebookContainer = gd.closest('#notebook-container');\n",
              "if (notebookContainer) {{\n",
              "    x.observe(notebookContainer, {childList: true});\n",
              "}}\n",
              "\n",
              "// Listen for the clearing of the current output cell\n",
              "var outputEl = gd.closest('.output');\n",
              "if (outputEl) {{\n",
              "    x.observe(outputEl, {childList: true});\n",
              "}}\n",
              "\n",
              "                        })                };                            </script>        </div>\n",
              "</body>\n",
              "</html>"
            ]
          },
          "metadata": {}
        }
      ]
    },
    {
      "cell_type": "markdown",
      "source": [
        "### 👉 **Check-out Optuna**\n",
        "\n",
        "**https://optuna.org**"
      ],
      "metadata": {
        "id": "_ZsdSvu_xQRO"
      }
    },
    {
      "cell_type": "markdown",
      "source": [
        "# Save and load a NN with pyTorch\n",
        "\n"
      ],
      "metadata": {
        "id": "Em6x8F4hyD1B"
      }
    },
    {
      "cell_type": "code",
      "source": [
        "model_scripted = torch.jit.script(net) # Export to TorchScript\n",
        "model_scripted.save('myNN.pt') # Save\n",
        "model = torch.jit.load('myNN.pt')\n",
        "model.eval()"
      ],
      "metadata": {
        "colab": {
          "base_uri": "https://localhost:8080/"
        },
        "id": "AKtzPvXayDDB",
        "outputId": "492b13eb-de32-4622-b198-f051eda4cef4"
      },
      "execution_count": 23,
      "outputs": [
        {
          "output_type": "execute_result",
          "data": {
            "text/plain": [
              "RecursiveScriptModule(\n",
              "  original_name=RNN\n",
              "  (rnn): RecursiveScriptModule(original_name=LSTM)\n",
              "  (out): RecursiveScriptModule(original_name=Linear)\n",
              ")"
            ]
          },
          "metadata": {},
          "execution_count": 23
        }
      ]
    }
  ],
  "metadata": {
    "kernelspec": {
      "display_name": "Python 3 (ipykernel)",
      "language": "python",
      "name": "python3"
    },
    "language_info": {
      "codemirror_mode": {
        "name": "ipython",
        "version": 3
      },
      "file_extension": ".py",
      "mimetype": "text/x-python",
      "name": "python",
      "nbconvert_exporter": "python",
      "pygments_lexer": "ipython3",
      "version": "3.7.6"
    },
    "colab": {
      "provenance": [],
      "toc_visible": true
    },
    "widgets": {
      "application/vnd.jupyter.widget-state+json": {
        "5ccaf74b26934696a964b8ee5a6473b7": {
          "model_module": "@jupyter-widgets/controls",
          "model_name": "HBoxModel",
          "model_module_version": "1.5.0",
          "state": {
            "_dom_classes": [],
            "_model_module": "@jupyter-widgets/controls",
            "_model_module_version": "1.5.0",
            "_model_name": "HBoxModel",
            "_view_count": null,
            "_view_module": "@jupyter-widgets/controls",
            "_view_module_version": "1.5.0",
            "_view_name": "HBoxView",
            "box_style": "",
            "children": [
              "IPY_MODEL_e076de381d5e43359134746eb97ce7b2",
              "IPY_MODEL_6ac0f19c826544cf98f4cf9de9bfb7b3",
              "IPY_MODEL_6e0f9993048047ffb15cac84109fd905"
            ],
            "layout": "IPY_MODEL_72f47a419d2c42f8a196567dc058417c"
          }
        },
        "e076de381d5e43359134746eb97ce7b2": {
          "model_module": "@jupyter-widgets/controls",
          "model_name": "HTMLModel",
          "model_module_version": "1.5.0",
          "state": {
            "_dom_classes": [],
            "_model_module": "@jupyter-widgets/controls",
            "_model_module_version": "1.5.0",
            "_model_name": "HTMLModel",
            "_view_count": null,
            "_view_module": "@jupyter-widgets/controls",
            "_view_module_version": "1.5.0",
            "_view_name": "HTMLView",
            "description": "",
            "description_tooltip": null,
            "layout": "IPY_MODEL_1a5de1d872834b0396f59008a8b241e4",
            "placeholder": "​",
            "style": "IPY_MODEL_58398904a9694499a8c879ddcdd9a096",
            "value": "100%"
          }
        },
        "6ac0f19c826544cf98f4cf9de9bfb7b3": {
          "model_module": "@jupyter-widgets/controls",
          "model_name": "FloatProgressModel",
          "model_module_version": "1.5.0",
          "state": {
            "_dom_classes": [],
            "_model_module": "@jupyter-widgets/controls",
            "_model_module_version": "1.5.0",
            "_model_name": "FloatProgressModel",
            "_view_count": null,
            "_view_module": "@jupyter-widgets/controls",
            "_view_module_version": "1.5.0",
            "_view_name": "ProgressView",
            "bar_style": "success",
            "description": "",
            "description_tooltip": null,
            "layout": "IPY_MODEL_05285767b99941d79426c983c9c22098",
            "max": 9912422,
            "min": 0,
            "orientation": "horizontal",
            "style": "IPY_MODEL_d61ea7d449e34208a31846a4c983e2d6",
            "value": 9912422
          }
        },
        "6e0f9993048047ffb15cac84109fd905": {
          "model_module": "@jupyter-widgets/controls",
          "model_name": "HTMLModel",
          "model_module_version": "1.5.0",
          "state": {
            "_dom_classes": [],
            "_model_module": "@jupyter-widgets/controls",
            "_model_module_version": "1.5.0",
            "_model_name": "HTMLModel",
            "_view_count": null,
            "_view_module": "@jupyter-widgets/controls",
            "_view_module_version": "1.5.0",
            "_view_name": "HTMLView",
            "description": "",
            "description_tooltip": null,
            "layout": "IPY_MODEL_5b15745379764ee5993cf7f39b270a74",
            "placeholder": "​",
            "style": "IPY_MODEL_d28992081be54a77b9d75296d162bd08",
            "value": " 9912422/9912422 [00:01&lt;00:00, 8416936.95it/s]"
          }
        },
        "72f47a419d2c42f8a196567dc058417c": {
          "model_module": "@jupyter-widgets/base",
          "model_name": "LayoutModel",
          "model_module_version": "1.2.0",
          "state": {
            "_model_module": "@jupyter-widgets/base",
            "_model_module_version": "1.2.0",
            "_model_name": "LayoutModel",
            "_view_count": null,
            "_view_module": "@jupyter-widgets/base",
            "_view_module_version": "1.2.0",
            "_view_name": "LayoutView",
            "align_content": null,
            "align_items": null,
            "align_self": null,
            "border": null,
            "bottom": null,
            "display": null,
            "flex": null,
            "flex_flow": null,
            "grid_area": null,
            "grid_auto_columns": null,
            "grid_auto_flow": null,
            "grid_auto_rows": null,
            "grid_column": null,
            "grid_gap": null,
            "grid_row": null,
            "grid_template_areas": null,
            "grid_template_columns": null,
            "grid_template_rows": null,
            "height": null,
            "justify_content": null,
            "justify_items": null,
            "left": null,
            "margin": null,
            "max_height": null,
            "max_width": null,
            "min_height": null,
            "min_width": null,
            "object_fit": null,
            "object_position": null,
            "order": null,
            "overflow": null,
            "overflow_x": null,
            "overflow_y": null,
            "padding": null,
            "right": null,
            "top": null,
            "visibility": null,
            "width": null
          }
        },
        "1a5de1d872834b0396f59008a8b241e4": {
          "model_module": "@jupyter-widgets/base",
          "model_name": "LayoutModel",
          "model_module_version": "1.2.0",
          "state": {
            "_model_module": "@jupyter-widgets/base",
            "_model_module_version": "1.2.0",
            "_model_name": "LayoutModel",
            "_view_count": null,
            "_view_module": "@jupyter-widgets/base",
            "_view_module_version": "1.2.0",
            "_view_name": "LayoutView",
            "align_content": null,
            "align_items": null,
            "align_self": null,
            "border": null,
            "bottom": null,
            "display": null,
            "flex": null,
            "flex_flow": null,
            "grid_area": null,
            "grid_auto_columns": null,
            "grid_auto_flow": null,
            "grid_auto_rows": null,
            "grid_column": null,
            "grid_gap": null,
            "grid_row": null,
            "grid_template_areas": null,
            "grid_template_columns": null,
            "grid_template_rows": null,
            "height": null,
            "justify_content": null,
            "justify_items": null,
            "left": null,
            "margin": null,
            "max_height": null,
            "max_width": null,
            "min_height": null,
            "min_width": null,
            "object_fit": null,
            "object_position": null,
            "order": null,
            "overflow": null,
            "overflow_x": null,
            "overflow_y": null,
            "padding": null,
            "right": null,
            "top": null,
            "visibility": null,
            "width": null
          }
        },
        "58398904a9694499a8c879ddcdd9a096": {
          "model_module": "@jupyter-widgets/controls",
          "model_name": "DescriptionStyleModel",
          "model_module_version": "1.5.0",
          "state": {
            "_model_module": "@jupyter-widgets/controls",
            "_model_module_version": "1.5.0",
            "_model_name": "DescriptionStyleModel",
            "_view_count": null,
            "_view_module": "@jupyter-widgets/base",
            "_view_module_version": "1.2.0",
            "_view_name": "StyleView",
            "description_width": ""
          }
        },
        "05285767b99941d79426c983c9c22098": {
          "model_module": "@jupyter-widgets/base",
          "model_name": "LayoutModel",
          "model_module_version": "1.2.0",
          "state": {
            "_model_module": "@jupyter-widgets/base",
            "_model_module_version": "1.2.0",
            "_model_name": "LayoutModel",
            "_view_count": null,
            "_view_module": "@jupyter-widgets/base",
            "_view_module_version": "1.2.0",
            "_view_name": "LayoutView",
            "align_content": null,
            "align_items": null,
            "align_self": null,
            "border": null,
            "bottom": null,
            "display": null,
            "flex": null,
            "flex_flow": null,
            "grid_area": null,
            "grid_auto_columns": null,
            "grid_auto_flow": null,
            "grid_auto_rows": null,
            "grid_column": null,
            "grid_gap": null,
            "grid_row": null,
            "grid_template_areas": null,
            "grid_template_columns": null,
            "grid_template_rows": null,
            "height": null,
            "justify_content": null,
            "justify_items": null,
            "left": null,
            "margin": null,
            "max_height": null,
            "max_width": null,
            "min_height": null,
            "min_width": null,
            "object_fit": null,
            "object_position": null,
            "order": null,
            "overflow": null,
            "overflow_x": null,
            "overflow_y": null,
            "padding": null,
            "right": null,
            "top": null,
            "visibility": null,
            "width": null
          }
        },
        "d61ea7d449e34208a31846a4c983e2d6": {
          "model_module": "@jupyter-widgets/controls",
          "model_name": "ProgressStyleModel",
          "model_module_version": "1.5.0",
          "state": {
            "_model_module": "@jupyter-widgets/controls",
            "_model_module_version": "1.5.0",
            "_model_name": "ProgressStyleModel",
            "_view_count": null,
            "_view_module": "@jupyter-widgets/base",
            "_view_module_version": "1.2.0",
            "_view_name": "StyleView",
            "bar_color": null,
            "description_width": ""
          }
        },
        "5b15745379764ee5993cf7f39b270a74": {
          "model_module": "@jupyter-widgets/base",
          "model_name": "LayoutModel",
          "model_module_version": "1.2.0",
          "state": {
            "_model_module": "@jupyter-widgets/base",
            "_model_module_version": "1.2.0",
            "_model_name": "LayoutModel",
            "_view_count": null,
            "_view_module": "@jupyter-widgets/base",
            "_view_module_version": "1.2.0",
            "_view_name": "LayoutView",
            "align_content": null,
            "align_items": null,
            "align_self": null,
            "border": null,
            "bottom": null,
            "display": null,
            "flex": null,
            "flex_flow": null,
            "grid_area": null,
            "grid_auto_columns": null,
            "grid_auto_flow": null,
            "grid_auto_rows": null,
            "grid_column": null,
            "grid_gap": null,
            "grid_row": null,
            "grid_template_areas": null,
            "grid_template_columns": null,
            "grid_template_rows": null,
            "height": null,
            "justify_content": null,
            "justify_items": null,
            "left": null,
            "margin": null,
            "max_height": null,
            "max_width": null,
            "min_height": null,
            "min_width": null,
            "object_fit": null,
            "object_position": null,
            "order": null,
            "overflow": null,
            "overflow_x": null,
            "overflow_y": null,
            "padding": null,
            "right": null,
            "top": null,
            "visibility": null,
            "width": null
          }
        },
        "d28992081be54a77b9d75296d162bd08": {
          "model_module": "@jupyter-widgets/controls",
          "model_name": "DescriptionStyleModel",
          "model_module_version": "1.5.0",
          "state": {
            "_model_module": "@jupyter-widgets/controls",
            "_model_module_version": "1.5.0",
            "_model_name": "DescriptionStyleModel",
            "_view_count": null,
            "_view_module": "@jupyter-widgets/base",
            "_view_module_version": "1.2.0",
            "_view_name": "StyleView",
            "description_width": ""
          }
        },
        "dc3be947c8c74b34a26d721ab4886bb5": {
          "model_module": "@jupyter-widgets/controls",
          "model_name": "HBoxModel",
          "model_module_version": "1.5.0",
          "state": {
            "_dom_classes": [],
            "_model_module": "@jupyter-widgets/controls",
            "_model_module_version": "1.5.0",
            "_model_name": "HBoxModel",
            "_view_count": null,
            "_view_module": "@jupyter-widgets/controls",
            "_view_module_version": "1.5.0",
            "_view_name": "HBoxView",
            "box_style": "",
            "children": [
              "IPY_MODEL_b579160ad12e46c1ae7d4fcd04285f74",
              "IPY_MODEL_22d5bece45b64d3c9388dd469bb33ac7",
              "IPY_MODEL_b65de6b11ec24c81926b956e40ca0461"
            ],
            "layout": "IPY_MODEL_4c875ef494634c7c88012c8870bef71c"
          }
        },
        "b579160ad12e46c1ae7d4fcd04285f74": {
          "model_module": "@jupyter-widgets/controls",
          "model_name": "HTMLModel",
          "model_module_version": "1.5.0",
          "state": {
            "_dom_classes": [],
            "_model_module": "@jupyter-widgets/controls",
            "_model_module_version": "1.5.0",
            "_model_name": "HTMLModel",
            "_view_count": null,
            "_view_module": "@jupyter-widgets/controls",
            "_view_module_version": "1.5.0",
            "_view_name": "HTMLView",
            "description": "",
            "description_tooltip": null,
            "layout": "IPY_MODEL_e05a57f83b064ffeb8797fa2af23bd40",
            "placeholder": "​",
            "style": "IPY_MODEL_ec767e2f6bb049259f5c044a21305360",
            "value": "100%"
          }
        },
        "22d5bece45b64d3c9388dd469bb33ac7": {
          "model_module": "@jupyter-widgets/controls",
          "model_name": "FloatProgressModel",
          "model_module_version": "1.5.0",
          "state": {
            "_dom_classes": [],
            "_model_module": "@jupyter-widgets/controls",
            "_model_module_version": "1.5.0",
            "_model_name": "FloatProgressModel",
            "_view_count": null,
            "_view_module": "@jupyter-widgets/controls",
            "_view_module_version": "1.5.0",
            "_view_name": "ProgressView",
            "bar_style": "success",
            "description": "",
            "description_tooltip": null,
            "layout": "IPY_MODEL_ccb1770ba3204d0a9494b09e2053b229",
            "max": 28881,
            "min": 0,
            "orientation": "horizontal",
            "style": "IPY_MODEL_cb83bcbd858e48169ee427b5b56da921",
            "value": 28881
          }
        },
        "b65de6b11ec24c81926b956e40ca0461": {
          "model_module": "@jupyter-widgets/controls",
          "model_name": "HTMLModel",
          "model_module_version": "1.5.0",
          "state": {
            "_dom_classes": [],
            "_model_module": "@jupyter-widgets/controls",
            "_model_module_version": "1.5.0",
            "_model_name": "HTMLModel",
            "_view_count": null,
            "_view_module": "@jupyter-widgets/controls",
            "_view_module_version": "1.5.0",
            "_view_name": "HTMLView",
            "description": "",
            "description_tooltip": null,
            "layout": "IPY_MODEL_4b9dd1e824b7421898ac9d6c3965585b",
            "placeholder": "​",
            "style": "IPY_MODEL_80200e3dd4064310a1454fc12d76fbdf",
            "value": " 28881/28881 [00:00&lt;00:00, 242170.16it/s]"
          }
        },
        "4c875ef494634c7c88012c8870bef71c": {
          "model_module": "@jupyter-widgets/base",
          "model_name": "LayoutModel",
          "model_module_version": "1.2.0",
          "state": {
            "_model_module": "@jupyter-widgets/base",
            "_model_module_version": "1.2.0",
            "_model_name": "LayoutModel",
            "_view_count": null,
            "_view_module": "@jupyter-widgets/base",
            "_view_module_version": "1.2.0",
            "_view_name": "LayoutView",
            "align_content": null,
            "align_items": null,
            "align_self": null,
            "border": null,
            "bottom": null,
            "display": null,
            "flex": null,
            "flex_flow": null,
            "grid_area": null,
            "grid_auto_columns": null,
            "grid_auto_flow": null,
            "grid_auto_rows": null,
            "grid_column": null,
            "grid_gap": null,
            "grid_row": null,
            "grid_template_areas": null,
            "grid_template_columns": null,
            "grid_template_rows": null,
            "height": null,
            "justify_content": null,
            "justify_items": null,
            "left": null,
            "margin": null,
            "max_height": null,
            "max_width": null,
            "min_height": null,
            "min_width": null,
            "object_fit": null,
            "object_position": null,
            "order": null,
            "overflow": null,
            "overflow_x": null,
            "overflow_y": null,
            "padding": null,
            "right": null,
            "top": null,
            "visibility": null,
            "width": null
          }
        },
        "e05a57f83b064ffeb8797fa2af23bd40": {
          "model_module": "@jupyter-widgets/base",
          "model_name": "LayoutModel",
          "model_module_version": "1.2.0",
          "state": {
            "_model_module": "@jupyter-widgets/base",
            "_model_module_version": "1.2.0",
            "_model_name": "LayoutModel",
            "_view_count": null,
            "_view_module": "@jupyter-widgets/base",
            "_view_module_version": "1.2.0",
            "_view_name": "LayoutView",
            "align_content": null,
            "align_items": null,
            "align_self": null,
            "border": null,
            "bottom": null,
            "display": null,
            "flex": null,
            "flex_flow": null,
            "grid_area": null,
            "grid_auto_columns": null,
            "grid_auto_flow": null,
            "grid_auto_rows": null,
            "grid_column": null,
            "grid_gap": null,
            "grid_row": null,
            "grid_template_areas": null,
            "grid_template_columns": null,
            "grid_template_rows": null,
            "height": null,
            "justify_content": null,
            "justify_items": null,
            "left": null,
            "margin": null,
            "max_height": null,
            "max_width": null,
            "min_height": null,
            "min_width": null,
            "object_fit": null,
            "object_position": null,
            "order": null,
            "overflow": null,
            "overflow_x": null,
            "overflow_y": null,
            "padding": null,
            "right": null,
            "top": null,
            "visibility": null,
            "width": null
          }
        },
        "ec767e2f6bb049259f5c044a21305360": {
          "model_module": "@jupyter-widgets/controls",
          "model_name": "DescriptionStyleModel",
          "model_module_version": "1.5.0",
          "state": {
            "_model_module": "@jupyter-widgets/controls",
            "_model_module_version": "1.5.0",
            "_model_name": "DescriptionStyleModel",
            "_view_count": null,
            "_view_module": "@jupyter-widgets/base",
            "_view_module_version": "1.2.0",
            "_view_name": "StyleView",
            "description_width": ""
          }
        },
        "ccb1770ba3204d0a9494b09e2053b229": {
          "model_module": "@jupyter-widgets/base",
          "model_name": "LayoutModel",
          "model_module_version": "1.2.0",
          "state": {
            "_model_module": "@jupyter-widgets/base",
            "_model_module_version": "1.2.0",
            "_model_name": "LayoutModel",
            "_view_count": null,
            "_view_module": "@jupyter-widgets/base",
            "_view_module_version": "1.2.0",
            "_view_name": "LayoutView",
            "align_content": null,
            "align_items": null,
            "align_self": null,
            "border": null,
            "bottom": null,
            "display": null,
            "flex": null,
            "flex_flow": null,
            "grid_area": null,
            "grid_auto_columns": null,
            "grid_auto_flow": null,
            "grid_auto_rows": null,
            "grid_column": null,
            "grid_gap": null,
            "grid_row": null,
            "grid_template_areas": null,
            "grid_template_columns": null,
            "grid_template_rows": null,
            "height": null,
            "justify_content": null,
            "justify_items": null,
            "left": null,
            "margin": null,
            "max_height": null,
            "max_width": null,
            "min_height": null,
            "min_width": null,
            "object_fit": null,
            "object_position": null,
            "order": null,
            "overflow": null,
            "overflow_x": null,
            "overflow_y": null,
            "padding": null,
            "right": null,
            "top": null,
            "visibility": null,
            "width": null
          }
        },
        "cb83bcbd858e48169ee427b5b56da921": {
          "model_module": "@jupyter-widgets/controls",
          "model_name": "ProgressStyleModel",
          "model_module_version": "1.5.0",
          "state": {
            "_model_module": "@jupyter-widgets/controls",
            "_model_module_version": "1.5.0",
            "_model_name": "ProgressStyleModel",
            "_view_count": null,
            "_view_module": "@jupyter-widgets/base",
            "_view_module_version": "1.2.0",
            "_view_name": "StyleView",
            "bar_color": null,
            "description_width": ""
          }
        },
        "4b9dd1e824b7421898ac9d6c3965585b": {
          "model_module": "@jupyter-widgets/base",
          "model_name": "LayoutModel",
          "model_module_version": "1.2.0",
          "state": {
            "_model_module": "@jupyter-widgets/base",
            "_model_module_version": "1.2.0",
            "_model_name": "LayoutModel",
            "_view_count": null,
            "_view_module": "@jupyter-widgets/base",
            "_view_module_version": "1.2.0",
            "_view_name": "LayoutView",
            "align_content": null,
            "align_items": null,
            "align_self": null,
            "border": null,
            "bottom": null,
            "display": null,
            "flex": null,
            "flex_flow": null,
            "grid_area": null,
            "grid_auto_columns": null,
            "grid_auto_flow": null,
            "grid_auto_rows": null,
            "grid_column": null,
            "grid_gap": null,
            "grid_row": null,
            "grid_template_areas": null,
            "grid_template_columns": null,
            "grid_template_rows": null,
            "height": null,
            "justify_content": null,
            "justify_items": null,
            "left": null,
            "margin": null,
            "max_height": null,
            "max_width": null,
            "min_height": null,
            "min_width": null,
            "object_fit": null,
            "object_position": null,
            "order": null,
            "overflow": null,
            "overflow_x": null,
            "overflow_y": null,
            "padding": null,
            "right": null,
            "top": null,
            "visibility": null,
            "width": null
          }
        },
        "80200e3dd4064310a1454fc12d76fbdf": {
          "model_module": "@jupyter-widgets/controls",
          "model_name": "DescriptionStyleModel",
          "model_module_version": "1.5.0",
          "state": {
            "_model_module": "@jupyter-widgets/controls",
            "_model_module_version": "1.5.0",
            "_model_name": "DescriptionStyleModel",
            "_view_count": null,
            "_view_module": "@jupyter-widgets/base",
            "_view_module_version": "1.2.0",
            "_view_name": "StyleView",
            "description_width": ""
          }
        },
        "9540fb44b75f4f25a3bf3445380fe061": {
          "model_module": "@jupyter-widgets/controls",
          "model_name": "HBoxModel",
          "model_module_version": "1.5.0",
          "state": {
            "_dom_classes": [],
            "_model_module": "@jupyter-widgets/controls",
            "_model_module_version": "1.5.0",
            "_model_name": "HBoxModel",
            "_view_count": null,
            "_view_module": "@jupyter-widgets/controls",
            "_view_module_version": "1.5.0",
            "_view_name": "HBoxView",
            "box_style": "",
            "children": [
              "IPY_MODEL_55f2fb7b23f04e059af1e31078857c5d",
              "IPY_MODEL_b491bcdbe8cb4d81b0716fb50766ee1c",
              "IPY_MODEL_b52f35fd06d94505b21a054317a2e35d"
            ],
            "layout": "IPY_MODEL_3a941623af934b30b153873c14ed3fc8"
          }
        },
        "55f2fb7b23f04e059af1e31078857c5d": {
          "model_module": "@jupyter-widgets/controls",
          "model_name": "HTMLModel",
          "model_module_version": "1.5.0",
          "state": {
            "_dom_classes": [],
            "_model_module": "@jupyter-widgets/controls",
            "_model_module_version": "1.5.0",
            "_model_name": "HTMLModel",
            "_view_count": null,
            "_view_module": "@jupyter-widgets/controls",
            "_view_module_version": "1.5.0",
            "_view_name": "HTMLView",
            "description": "",
            "description_tooltip": null,
            "layout": "IPY_MODEL_aaff66bdfd954acfa4d34943c5fef55a",
            "placeholder": "​",
            "style": "IPY_MODEL_ee307d9f2b894f9280e798a50aa51cb3",
            "value": "100%"
          }
        },
        "b491bcdbe8cb4d81b0716fb50766ee1c": {
          "model_module": "@jupyter-widgets/controls",
          "model_name": "FloatProgressModel",
          "model_module_version": "1.5.0",
          "state": {
            "_dom_classes": [],
            "_model_module": "@jupyter-widgets/controls",
            "_model_module_version": "1.5.0",
            "_model_name": "FloatProgressModel",
            "_view_count": null,
            "_view_module": "@jupyter-widgets/controls",
            "_view_module_version": "1.5.0",
            "_view_name": "ProgressView",
            "bar_style": "success",
            "description": "",
            "description_tooltip": null,
            "layout": "IPY_MODEL_ea5fb09c8da84026b541a0973306b88b",
            "max": 1648877,
            "min": 0,
            "orientation": "horizontal",
            "style": "IPY_MODEL_05b26a403ac9403896d54271848c5261",
            "value": 1648877
          }
        },
        "b52f35fd06d94505b21a054317a2e35d": {
          "model_module": "@jupyter-widgets/controls",
          "model_name": "HTMLModel",
          "model_module_version": "1.5.0",
          "state": {
            "_dom_classes": [],
            "_model_module": "@jupyter-widgets/controls",
            "_model_module_version": "1.5.0",
            "_model_name": "HTMLModel",
            "_view_count": null,
            "_view_module": "@jupyter-widgets/controls",
            "_view_module_version": "1.5.0",
            "_view_name": "HTMLView",
            "description": "",
            "description_tooltip": null,
            "layout": "IPY_MODEL_7c4a0a33503742cba97671dcf8eeb9f9",
            "placeholder": "​",
            "style": "IPY_MODEL_fc8f2488a07043ad9e4b21f9e5f79c8a",
            "value": " 1648877/1648877 [00:00&lt;00:00, 4548926.63it/s]"
          }
        },
        "3a941623af934b30b153873c14ed3fc8": {
          "model_module": "@jupyter-widgets/base",
          "model_name": "LayoutModel",
          "model_module_version": "1.2.0",
          "state": {
            "_model_module": "@jupyter-widgets/base",
            "_model_module_version": "1.2.0",
            "_model_name": "LayoutModel",
            "_view_count": null,
            "_view_module": "@jupyter-widgets/base",
            "_view_module_version": "1.2.0",
            "_view_name": "LayoutView",
            "align_content": null,
            "align_items": null,
            "align_self": null,
            "border": null,
            "bottom": null,
            "display": null,
            "flex": null,
            "flex_flow": null,
            "grid_area": null,
            "grid_auto_columns": null,
            "grid_auto_flow": null,
            "grid_auto_rows": null,
            "grid_column": null,
            "grid_gap": null,
            "grid_row": null,
            "grid_template_areas": null,
            "grid_template_columns": null,
            "grid_template_rows": null,
            "height": null,
            "justify_content": null,
            "justify_items": null,
            "left": null,
            "margin": null,
            "max_height": null,
            "max_width": null,
            "min_height": null,
            "min_width": null,
            "object_fit": null,
            "object_position": null,
            "order": null,
            "overflow": null,
            "overflow_x": null,
            "overflow_y": null,
            "padding": null,
            "right": null,
            "top": null,
            "visibility": null,
            "width": null
          }
        },
        "aaff66bdfd954acfa4d34943c5fef55a": {
          "model_module": "@jupyter-widgets/base",
          "model_name": "LayoutModel",
          "model_module_version": "1.2.0",
          "state": {
            "_model_module": "@jupyter-widgets/base",
            "_model_module_version": "1.2.0",
            "_model_name": "LayoutModel",
            "_view_count": null,
            "_view_module": "@jupyter-widgets/base",
            "_view_module_version": "1.2.0",
            "_view_name": "LayoutView",
            "align_content": null,
            "align_items": null,
            "align_self": null,
            "border": null,
            "bottom": null,
            "display": null,
            "flex": null,
            "flex_flow": null,
            "grid_area": null,
            "grid_auto_columns": null,
            "grid_auto_flow": null,
            "grid_auto_rows": null,
            "grid_column": null,
            "grid_gap": null,
            "grid_row": null,
            "grid_template_areas": null,
            "grid_template_columns": null,
            "grid_template_rows": null,
            "height": null,
            "justify_content": null,
            "justify_items": null,
            "left": null,
            "margin": null,
            "max_height": null,
            "max_width": null,
            "min_height": null,
            "min_width": null,
            "object_fit": null,
            "object_position": null,
            "order": null,
            "overflow": null,
            "overflow_x": null,
            "overflow_y": null,
            "padding": null,
            "right": null,
            "top": null,
            "visibility": null,
            "width": null
          }
        },
        "ee307d9f2b894f9280e798a50aa51cb3": {
          "model_module": "@jupyter-widgets/controls",
          "model_name": "DescriptionStyleModel",
          "model_module_version": "1.5.0",
          "state": {
            "_model_module": "@jupyter-widgets/controls",
            "_model_module_version": "1.5.0",
            "_model_name": "DescriptionStyleModel",
            "_view_count": null,
            "_view_module": "@jupyter-widgets/base",
            "_view_module_version": "1.2.0",
            "_view_name": "StyleView",
            "description_width": ""
          }
        },
        "ea5fb09c8da84026b541a0973306b88b": {
          "model_module": "@jupyter-widgets/base",
          "model_name": "LayoutModel",
          "model_module_version": "1.2.0",
          "state": {
            "_model_module": "@jupyter-widgets/base",
            "_model_module_version": "1.2.0",
            "_model_name": "LayoutModel",
            "_view_count": null,
            "_view_module": "@jupyter-widgets/base",
            "_view_module_version": "1.2.0",
            "_view_name": "LayoutView",
            "align_content": null,
            "align_items": null,
            "align_self": null,
            "border": null,
            "bottom": null,
            "display": null,
            "flex": null,
            "flex_flow": null,
            "grid_area": null,
            "grid_auto_columns": null,
            "grid_auto_flow": null,
            "grid_auto_rows": null,
            "grid_column": null,
            "grid_gap": null,
            "grid_row": null,
            "grid_template_areas": null,
            "grid_template_columns": null,
            "grid_template_rows": null,
            "height": null,
            "justify_content": null,
            "justify_items": null,
            "left": null,
            "margin": null,
            "max_height": null,
            "max_width": null,
            "min_height": null,
            "min_width": null,
            "object_fit": null,
            "object_position": null,
            "order": null,
            "overflow": null,
            "overflow_x": null,
            "overflow_y": null,
            "padding": null,
            "right": null,
            "top": null,
            "visibility": null,
            "width": null
          }
        },
        "05b26a403ac9403896d54271848c5261": {
          "model_module": "@jupyter-widgets/controls",
          "model_name": "ProgressStyleModel",
          "model_module_version": "1.5.0",
          "state": {
            "_model_module": "@jupyter-widgets/controls",
            "_model_module_version": "1.5.0",
            "_model_name": "ProgressStyleModel",
            "_view_count": null,
            "_view_module": "@jupyter-widgets/base",
            "_view_module_version": "1.2.0",
            "_view_name": "StyleView",
            "bar_color": null,
            "description_width": ""
          }
        },
        "7c4a0a33503742cba97671dcf8eeb9f9": {
          "model_module": "@jupyter-widgets/base",
          "model_name": "LayoutModel",
          "model_module_version": "1.2.0",
          "state": {
            "_model_module": "@jupyter-widgets/base",
            "_model_module_version": "1.2.0",
            "_model_name": "LayoutModel",
            "_view_count": null,
            "_view_module": "@jupyter-widgets/base",
            "_view_module_version": "1.2.0",
            "_view_name": "LayoutView",
            "align_content": null,
            "align_items": null,
            "align_self": null,
            "border": null,
            "bottom": null,
            "display": null,
            "flex": null,
            "flex_flow": null,
            "grid_area": null,
            "grid_auto_columns": null,
            "grid_auto_flow": null,
            "grid_auto_rows": null,
            "grid_column": null,
            "grid_gap": null,
            "grid_row": null,
            "grid_template_areas": null,
            "grid_template_columns": null,
            "grid_template_rows": null,
            "height": null,
            "justify_content": null,
            "justify_items": null,
            "left": null,
            "margin": null,
            "max_height": null,
            "max_width": null,
            "min_height": null,
            "min_width": null,
            "object_fit": null,
            "object_position": null,
            "order": null,
            "overflow": null,
            "overflow_x": null,
            "overflow_y": null,
            "padding": null,
            "right": null,
            "top": null,
            "visibility": null,
            "width": null
          }
        },
        "fc8f2488a07043ad9e4b21f9e5f79c8a": {
          "model_module": "@jupyter-widgets/controls",
          "model_name": "DescriptionStyleModel",
          "model_module_version": "1.5.0",
          "state": {
            "_model_module": "@jupyter-widgets/controls",
            "_model_module_version": "1.5.0",
            "_model_name": "DescriptionStyleModel",
            "_view_count": null,
            "_view_module": "@jupyter-widgets/base",
            "_view_module_version": "1.2.0",
            "_view_name": "StyleView",
            "description_width": ""
          }
        },
        "b9c22c0e17994346b4baa31f46491c01": {
          "model_module": "@jupyter-widgets/controls",
          "model_name": "HBoxModel",
          "model_module_version": "1.5.0",
          "state": {
            "_dom_classes": [],
            "_model_module": "@jupyter-widgets/controls",
            "_model_module_version": "1.5.0",
            "_model_name": "HBoxModel",
            "_view_count": null,
            "_view_module": "@jupyter-widgets/controls",
            "_view_module_version": "1.5.0",
            "_view_name": "HBoxView",
            "box_style": "",
            "children": [
              "IPY_MODEL_ea33c2de01fd45cab708298266ab8d0d",
              "IPY_MODEL_2266eb65ff3f4e55b2342f8bea78d135",
              "IPY_MODEL_d3fa2f40d12f483485e80e8509119462"
            ],
            "layout": "IPY_MODEL_7204029c02594ed68e82678df1890400"
          }
        },
        "ea33c2de01fd45cab708298266ab8d0d": {
          "model_module": "@jupyter-widgets/controls",
          "model_name": "HTMLModel",
          "model_module_version": "1.5.0",
          "state": {
            "_dom_classes": [],
            "_model_module": "@jupyter-widgets/controls",
            "_model_module_version": "1.5.0",
            "_model_name": "HTMLModel",
            "_view_count": null,
            "_view_module": "@jupyter-widgets/controls",
            "_view_module_version": "1.5.0",
            "_view_name": "HTMLView",
            "description": "",
            "description_tooltip": null,
            "layout": "IPY_MODEL_24629b1780e14ee5aedb711f058545d9",
            "placeholder": "​",
            "style": "IPY_MODEL_bcb37e753662466e9ab48734b26de6aa",
            "value": "100%"
          }
        },
        "2266eb65ff3f4e55b2342f8bea78d135": {
          "model_module": "@jupyter-widgets/controls",
          "model_name": "FloatProgressModel",
          "model_module_version": "1.5.0",
          "state": {
            "_dom_classes": [],
            "_model_module": "@jupyter-widgets/controls",
            "_model_module_version": "1.5.0",
            "_model_name": "FloatProgressModel",
            "_view_count": null,
            "_view_module": "@jupyter-widgets/controls",
            "_view_module_version": "1.5.0",
            "_view_name": "ProgressView",
            "bar_style": "success",
            "description": "",
            "description_tooltip": null,
            "layout": "IPY_MODEL_364ab1e6c07b4a7a87e1031cc2bee7fc",
            "max": 4542,
            "min": 0,
            "orientation": "horizontal",
            "style": "IPY_MODEL_ef357c941e614d05b472bb7a40589e71",
            "value": 4542
          }
        },
        "d3fa2f40d12f483485e80e8509119462": {
          "model_module": "@jupyter-widgets/controls",
          "model_name": "HTMLModel",
          "model_module_version": "1.5.0",
          "state": {
            "_dom_classes": [],
            "_model_module": "@jupyter-widgets/controls",
            "_model_module_version": "1.5.0",
            "_model_name": "HTMLModel",
            "_view_count": null,
            "_view_module": "@jupyter-widgets/controls",
            "_view_module_version": "1.5.0",
            "_view_name": "HTMLView",
            "description": "",
            "description_tooltip": null,
            "layout": "IPY_MODEL_3dea90296736439882c67307cde6d09f",
            "placeholder": "​",
            "style": "IPY_MODEL_c585360eb9734473bc1bc2c99ac70b4d",
            "value": " 4542/4542 [00:00&lt;00:00, 35669.54it/s]"
          }
        },
        "7204029c02594ed68e82678df1890400": {
          "model_module": "@jupyter-widgets/base",
          "model_name": "LayoutModel",
          "model_module_version": "1.2.0",
          "state": {
            "_model_module": "@jupyter-widgets/base",
            "_model_module_version": "1.2.0",
            "_model_name": "LayoutModel",
            "_view_count": null,
            "_view_module": "@jupyter-widgets/base",
            "_view_module_version": "1.2.0",
            "_view_name": "LayoutView",
            "align_content": null,
            "align_items": null,
            "align_self": null,
            "border": null,
            "bottom": null,
            "display": null,
            "flex": null,
            "flex_flow": null,
            "grid_area": null,
            "grid_auto_columns": null,
            "grid_auto_flow": null,
            "grid_auto_rows": null,
            "grid_column": null,
            "grid_gap": null,
            "grid_row": null,
            "grid_template_areas": null,
            "grid_template_columns": null,
            "grid_template_rows": null,
            "height": null,
            "justify_content": null,
            "justify_items": null,
            "left": null,
            "margin": null,
            "max_height": null,
            "max_width": null,
            "min_height": null,
            "min_width": null,
            "object_fit": null,
            "object_position": null,
            "order": null,
            "overflow": null,
            "overflow_x": null,
            "overflow_y": null,
            "padding": null,
            "right": null,
            "top": null,
            "visibility": null,
            "width": null
          }
        },
        "24629b1780e14ee5aedb711f058545d9": {
          "model_module": "@jupyter-widgets/base",
          "model_name": "LayoutModel",
          "model_module_version": "1.2.0",
          "state": {
            "_model_module": "@jupyter-widgets/base",
            "_model_module_version": "1.2.0",
            "_model_name": "LayoutModel",
            "_view_count": null,
            "_view_module": "@jupyter-widgets/base",
            "_view_module_version": "1.2.0",
            "_view_name": "LayoutView",
            "align_content": null,
            "align_items": null,
            "align_self": null,
            "border": null,
            "bottom": null,
            "display": null,
            "flex": null,
            "flex_flow": null,
            "grid_area": null,
            "grid_auto_columns": null,
            "grid_auto_flow": null,
            "grid_auto_rows": null,
            "grid_column": null,
            "grid_gap": null,
            "grid_row": null,
            "grid_template_areas": null,
            "grid_template_columns": null,
            "grid_template_rows": null,
            "height": null,
            "justify_content": null,
            "justify_items": null,
            "left": null,
            "margin": null,
            "max_height": null,
            "max_width": null,
            "min_height": null,
            "min_width": null,
            "object_fit": null,
            "object_position": null,
            "order": null,
            "overflow": null,
            "overflow_x": null,
            "overflow_y": null,
            "padding": null,
            "right": null,
            "top": null,
            "visibility": null,
            "width": null
          }
        },
        "bcb37e753662466e9ab48734b26de6aa": {
          "model_module": "@jupyter-widgets/controls",
          "model_name": "DescriptionStyleModel",
          "model_module_version": "1.5.0",
          "state": {
            "_model_module": "@jupyter-widgets/controls",
            "_model_module_version": "1.5.0",
            "_model_name": "DescriptionStyleModel",
            "_view_count": null,
            "_view_module": "@jupyter-widgets/base",
            "_view_module_version": "1.2.0",
            "_view_name": "StyleView",
            "description_width": ""
          }
        },
        "364ab1e6c07b4a7a87e1031cc2bee7fc": {
          "model_module": "@jupyter-widgets/base",
          "model_name": "LayoutModel",
          "model_module_version": "1.2.0",
          "state": {
            "_model_module": "@jupyter-widgets/base",
            "_model_module_version": "1.2.0",
            "_model_name": "LayoutModel",
            "_view_count": null,
            "_view_module": "@jupyter-widgets/base",
            "_view_module_version": "1.2.0",
            "_view_name": "LayoutView",
            "align_content": null,
            "align_items": null,
            "align_self": null,
            "border": null,
            "bottom": null,
            "display": null,
            "flex": null,
            "flex_flow": null,
            "grid_area": null,
            "grid_auto_columns": null,
            "grid_auto_flow": null,
            "grid_auto_rows": null,
            "grid_column": null,
            "grid_gap": null,
            "grid_row": null,
            "grid_template_areas": null,
            "grid_template_columns": null,
            "grid_template_rows": null,
            "height": null,
            "justify_content": null,
            "justify_items": null,
            "left": null,
            "margin": null,
            "max_height": null,
            "max_width": null,
            "min_height": null,
            "min_width": null,
            "object_fit": null,
            "object_position": null,
            "order": null,
            "overflow": null,
            "overflow_x": null,
            "overflow_y": null,
            "padding": null,
            "right": null,
            "top": null,
            "visibility": null,
            "width": null
          }
        },
        "ef357c941e614d05b472bb7a40589e71": {
          "model_module": "@jupyter-widgets/controls",
          "model_name": "ProgressStyleModel",
          "model_module_version": "1.5.0",
          "state": {
            "_model_module": "@jupyter-widgets/controls",
            "_model_module_version": "1.5.0",
            "_model_name": "ProgressStyleModel",
            "_view_count": null,
            "_view_module": "@jupyter-widgets/base",
            "_view_module_version": "1.2.0",
            "_view_name": "StyleView",
            "bar_color": null,
            "description_width": ""
          }
        },
        "3dea90296736439882c67307cde6d09f": {
          "model_module": "@jupyter-widgets/base",
          "model_name": "LayoutModel",
          "model_module_version": "1.2.0",
          "state": {
            "_model_module": "@jupyter-widgets/base",
            "_model_module_version": "1.2.0",
            "_model_name": "LayoutModel",
            "_view_count": null,
            "_view_module": "@jupyter-widgets/base",
            "_view_module_version": "1.2.0",
            "_view_name": "LayoutView",
            "align_content": null,
            "align_items": null,
            "align_self": null,
            "border": null,
            "bottom": null,
            "display": null,
            "flex": null,
            "flex_flow": null,
            "grid_area": null,
            "grid_auto_columns": null,
            "grid_auto_flow": null,
            "grid_auto_rows": null,
            "grid_column": null,
            "grid_gap": null,
            "grid_row": null,
            "grid_template_areas": null,
            "grid_template_columns": null,
            "grid_template_rows": null,
            "height": null,
            "justify_content": null,
            "justify_items": null,
            "left": null,
            "margin": null,
            "max_height": null,
            "max_width": null,
            "min_height": null,
            "min_width": null,
            "object_fit": null,
            "object_position": null,
            "order": null,
            "overflow": null,
            "overflow_x": null,
            "overflow_y": null,
            "padding": null,
            "right": null,
            "top": null,
            "visibility": null,
            "width": null
          }
        },
        "c585360eb9734473bc1bc2c99ac70b4d": {
          "model_module": "@jupyter-widgets/controls",
          "model_name": "DescriptionStyleModel",
          "model_module_version": "1.5.0",
          "state": {
            "_model_module": "@jupyter-widgets/controls",
            "_model_module_version": "1.5.0",
            "_model_name": "DescriptionStyleModel",
            "_view_count": null,
            "_view_module": "@jupyter-widgets/base",
            "_view_module_version": "1.2.0",
            "_view_name": "StyleView",
            "description_width": ""
          }
        }
      }
    }
  },
  "nbformat": 4,
  "nbformat_minor": 0
}